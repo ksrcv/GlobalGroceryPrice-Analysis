{
 "cells": [
  {
   "cell_type": "markdown",
   "id": "eb10b8bd",
   "metadata": {},
   "source": [
    "# Global Food Basket Price Analysis"
   ]
  },
  {
   "cell_type": "markdown",
   "id": "be5b6c72",
   "metadata": {},
   "source": [
    "### Importing necessary libraries"
   ]
  },
  {
   "cell_type": "code",
   "execution_count": 1,
   "id": "9a297f92",
   "metadata": {},
   "outputs": [],
   "source": [
    "import pandas as pd\n",
    "from bs4 import BeautifulSoup\n",
    "import requests\n",
    "import matplotlib.pyplot as plt\n",
    "import seaborn as sns\n",
    "from selenium import webdriver"
   ]
  },
  {
   "cell_type": "markdown",
   "id": "8c8b1e08",
   "metadata": {},
   "source": [
    "### Scraping the food product prices of Countries from the \"globalproductprices\" website"
   ]
  },
  {
   "cell_type": "code",
   "execution_count": 2,
   "id": "1f89c63d",
   "metadata": {},
   "outputs": [],
   "source": [
    "url = \"https://www.globalproductprices.com/rankings/flour_prices/\"\n",
    "page = requests.get(url)\n",
    "soup = BeautifulSoup(page.text,\"html\")\n",
    "table = soup.find(\"table\",class_ = \"sortable\")\n",
    "Headers = table.find_all(\"th\")[:2]\n",
    "Headers = [data.text.strip() for data in Headers]\n",
    "df = pd.DataFrame(columns = Headers)\n",
    "rows = table.find_all(\"tr\")\n",
    "for data in rows[1:]:\n",
    "    row = data.find_all(\"td\")[:2]\n",
    "    row_data = [x.text.strip() for x in row]\n",
    "    index = len(df)\n",
    "    df.loc[index] = row_data"
   ]
  },
  {
   "cell_type": "code",
   "execution_count": 3,
   "id": "5b6cea87",
   "metadata": {
    "scrolled": true
   },
   "outputs": [
    {
     "data": {
      "text/html": [
       "<div>\n",
       "<style scoped>\n",
       "    .dataframe tbody tr th:only-of-type {\n",
       "        vertical-align: middle;\n",
       "    }\n",
       "\n",
       "    .dataframe tbody tr th {\n",
       "        vertical-align: top;\n",
       "    }\n",
       "\n",
       "    .dataframe thead th {\n",
       "        text-align: right;\n",
       "    }\n",
       "</style>\n",
       "<table border=\"1\" class=\"dataframe\">\n",
       "  <thead>\n",
       "    <tr style=\"text-align: right;\">\n",
       "      <th></th>\n",
       "      <th>Countries</th>\n",
       "      <th>Flour prices, 1 kg</th>\n",
       "    </tr>\n",
       "  </thead>\n",
       "  <tbody>\n",
       "    <tr>\n",
       "      <th>0</th>\n",
       "      <td>Hong Kong</td>\n",
       "      <td>4.02</td>\n",
       "    </tr>\n",
       "    <tr>\n",
       "      <th>1</th>\n",
       "      <td>USA</td>\n",
       "      <td>3.62</td>\n",
       "    </tr>\n",
       "    <tr>\n",
       "      <th>2</th>\n",
       "      <td>Saudi Arabia</td>\n",
       "      <td>2.92</td>\n",
       "    </tr>\n",
       "    <tr>\n",
       "      <th>3</th>\n",
       "      <td>Puerto Rico</td>\n",
       "      <td>2.75</td>\n",
       "    </tr>\n",
       "    <tr>\n",
       "      <th>4</th>\n",
       "      <td>Ghana</td>\n",
       "      <td>2.66</td>\n",
       "    </tr>\n",
       "  </tbody>\n",
       "</table>\n",
       "</div>"
      ],
      "text/plain": [
       "      Countries Flour prices, 1 kg\n",
       "0     Hong Kong               4.02\n",
       "1           USA               3.62\n",
       "2  Saudi Arabia               2.92\n",
       "3   Puerto Rico               2.75\n",
       "4         Ghana               2.66"
      ]
     },
     "execution_count": 3,
     "metadata": {},
     "output_type": "execute_result"
    }
   ],
   "source": [
    "df.head()"
   ]
  },
  {
   "cell_type": "code",
   "execution_count": 4,
   "id": "8309f826",
   "metadata": {},
   "outputs": [],
   "source": [
    "items = [\"rice_prices\",\"sugar_prices\",\"salt_prices\",\"milk_prices\",\"egg_prices\",\"cooking_oil_prices\",\"poultry_prices\",\"potato_prices\",\"onion_prices\",\"banana_prices\",\"tomato_prices\",\"oranges_prices\",\"coca_cola_price\",\"mineral_water_prices\"]"
   ]
  },
  {
   "cell_type": "code",
   "execution_count": 5,
   "id": "9eacf9a8",
   "metadata": {},
   "outputs": [],
   "source": [
    "for item in items:\n",
    "    url = f\"https://www.globalproductprices.com/rankings/{item}/\"\n",
    "    page = requests.get(url)\n",
    "    soup = BeautifulSoup(page.text,\"html\")\n",
    "    table = soup.find(\"table\",class_= \"sortable\")\n",
    "    Headers = table.find_all(\"th\")[:2]\n",
    "    Headers = [x.text.strip() for x in Headers]\n",
    "    temp_df = pd.DataFrame(columns=Headers)\n",
    "    rows = table.find_all(\"tr\")\n",
    "    for data in rows[1:]:\n",
    "        row = data.find_all(\"td\")[:2]\n",
    "        row_data = [i.text.strip() for i in row]\n",
    "        index = len(temp_df)\n",
    "        temp_df.loc[index] = row_data\n",
    "    temp_df = temp_df.set_index(\"Countries\")\n",
    "    df = pd.merge(df,temp_df,on=\"Countries\",how=\"inner\")"
   ]
  },
  {
   "cell_type": "code",
   "execution_count": 6,
   "id": "6ec73046",
   "metadata": {},
   "outputs": [
    {
     "data": {
      "text/html": [
       "<div>\n",
       "<style scoped>\n",
       "    .dataframe tbody tr th:only-of-type {\n",
       "        vertical-align: middle;\n",
       "    }\n",
       "\n",
       "    .dataframe tbody tr th {\n",
       "        vertical-align: top;\n",
       "    }\n",
       "\n",
       "    .dataframe thead th {\n",
       "        text-align: right;\n",
       "    }\n",
       "</style>\n",
       "<table border=\"1\" class=\"dataframe\">\n",
       "  <thead>\n",
       "    <tr style=\"text-align: right;\">\n",
       "      <th></th>\n",
       "      <th>Countries</th>\n",
       "      <th>Flour prices, 1 kg</th>\n",
       "      <th>Rice prices, 1 kg</th>\n",
       "      <th>Sugar prices, 1 kg</th>\n",
       "      <th>Salt prices, 1 kg</th>\n",
       "      <th>Two percent milk prices, 1 liter</th>\n",
       "      <th>Eggs prices, dozen</th>\n",
       "      <th>Cooking oil prices, 1 liter</th>\n",
       "      <th>Chicken meat prices, 1 kg</th>\n",
       "      <th>Potato prices, 1 kg</th>\n",
       "      <th>Onion prices, 1 kg</th>\n",
       "      <th>Banana prices, 1 kg</th>\n",
       "      <th>Tomato prices, 1 kg</th>\n",
       "      <th>Orange prices, 1 kg</th>\n",
       "      <th>Coca-Cola prices, 0.5 liter</th>\n",
       "      <th>Bottled water prices</th>\n",
       "    </tr>\n",
       "  </thead>\n",
       "  <tbody>\n",
       "    <tr>\n",
       "      <th>0</th>\n",
       "      <td>Hong Kong</td>\n",
       "      <td>4.02</td>\n",
       "      <td>1.97</td>\n",
       "      <td>3.18</td>\n",
       "      <td>1.61</td>\n",
       "      <td>3.09</td>\n",
       "      <td>4.71</td>\n",
       "      <td>7.14</td>\n",
       "      <td>8.03</td>\n",
       "      <td>3.22</td>\n",
       "      <td>5.06</td>\n",
       "      <td>1.87</td>\n",
       "      <td>3.07</td>\n",
       "      <td>3.52</td>\n",
       "      <td>1.21</td>\n",
       "      <td>1.27</td>\n",
       "    </tr>\n",
       "    <tr>\n",
       "      <th>1</th>\n",
       "      <td>USA</td>\n",
       "      <td>3.62</td>\n",
       "      <td>4.50</td>\n",
       "      <td>1.80</td>\n",
       "      <td>2.50</td>\n",
       "      <td>1.96</td>\n",
       "      <td>3.40</td>\n",
       "      <td>3.50</td>\n",
       "      <td>11.00</td>\n",
       "      <td>1.65</td>\n",
       "      <td>1.48</td>\n",
       "      <td>1.08</td>\n",
       "      <td>4.37</td>\n",
       "      <td>2.76</td>\n",
       "      <td>0.83</td>\n",
       "      <td>1.46</td>\n",
       "    </tr>\n",
       "    <tr>\n",
       "      <th>2</th>\n",
       "      <td>Saudi Arabia</td>\n",
       "      <td>2.92</td>\n",
       "      <td>2.61</td>\n",
       "      <td>1.33</td>\n",
       "      <td>1.25</td>\n",
       "      <td>1.60</td>\n",
       "      <td>2.35</td>\n",
       "      <td>4.64</td>\n",
       "      <td>4.83</td>\n",
       "      <td>1.32</td>\n",
       "      <td>2.00</td>\n",
       "      <td>1.85</td>\n",
       "      <td>1.85</td>\n",
       "      <td>2.00</td>\n",
       "      <td>1.00</td>\n",
       "      <td>0.33</td>\n",
       "    </tr>\n",
       "    <tr>\n",
       "      <th>3</th>\n",
       "      <td>Ghana</td>\n",
       "      <td>2.66</td>\n",
       "      <td>1.76</td>\n",
       "      <td>2.31</td>\n",
       "      <td>2.69</td>\n",
       "      <td>3.11</td>\n",
       "      <td>2.22</td>\n",
       "      <td>3.92</td>\n",
       "      <td>5.03</td>\n",
       "      <td>2.96</td>\n",
       "      <td>3.51</td>\n",
       "      <td>0.89</td>\n",
       "      <td>2.00</td>\n",
       "      <td>7.54</td>\n",
       "      <td>0.63</td>\n",
       "      <td>0.30</td>\n",
       "    </tr>\n",
       "    <tr>\n",
       "      <th>4</th>\n",
       "      <td>Peru</td>\n",
       "      <td>2.46</td>\n",
       "      <td>1.51</td>\n",
       "      <td>1.35</td>\n",
       "      <td>0.65</td>\n",
       "      <td>1.62</td>\n",
       "      <td>2.38</td>\n",
       "      <td>4.02</td>\n",
       "      <td>2.54</td>\n",
       "      <td>0.81</td>\n",
       "      <td>0.86</td>\n",
       "      <td>0.73</td>\n",
       "      <td>0.97</td>\n",
       "      <td>0.59</td>\n",
       "      <td>0.78</td>\n",
       "      <td>0.51</td>\n",
       "    </tr>\n",
       "  </tbody>\n",
       "</table>\n",
       "</div>"
      ],
      "text/plain": [
       "      Countries Flour prices, 1 kg Rice prices, 1 kg Sugar prices, 1 kg  \\\n",
       "0     Hong Kong               4.02              1.97               3.18   \n",
       "1           USA               3.62              4.50               1.80   \n",
       "2  Saudi Arabia               2.92              2.61               1.33   \n",
       "3         Ghana               2.66              1.76               2.31   \n",
       "4          Peru               2.46              1.51               1.35   \n",
       "\n",
       "  Salt prices, 1 kg Two percent milk prices, 1 liter Eggs prices, dozen  \\\n",
       "0              1.61                             3.09               4.71   \n",
       "1              2.50                             1.96               3.40   \n",
       "2              1.25                             1.60               2.35   \n",
       "3              2.69                             3.11               2.22   \n",
       "4              0.65                             1.62               2.38   \n",
       "\n",
       "  Cooking oil prices, 1 liter Chicken meat prices, 1 kg Potato prices, 1 kg  \\\n",
       "0                        7.14                      8.03                3.22   \n",
       "1                        3.50                     11.00                1.65   \n",
       "2                        4.64                      4.83                1.32   \n",
       "3                        3.92                      5.03                2.96   \n",
       "4                        4.02                      2.54                0.81   \n",
       "\n",
       "  Onion prices, 1 kg Banana prices, 1 kg Tomato prices, 1 kg  \\\n",
       "0               5.06                1.87                3.07   \n",
       "1               1.48                1.08                4.37   \n",
       "2               2.00                1.85                1.85   \n",
       "3               3.51                0.89                2.00   \n",
       "4               0.86                0.73                0.97   \n",
       "\n",
       "  Orange prices, 1 kg Coca-Cola prices, 0.5 liter Bottled water prices  \n",
       "0                3.52                        1.21                 1.27  \n",
       "1                2.76                        0.83                 1.46  \n",
       "2                2.00                        1.00                 0.33  \n",
       "3                7.54                        0.63                 0.30  \n",
       "4                0.59                        0.78                 0.51  "
      ]
     },
     "execution_count": 6,
     "metadata": {},
     "output_type": "execute_result"
    }
   ],
   "source": [
    "df.head()"
   ]
  },
  {
   "cell_type": "markdown",
   "id": "df704daf",
   "metadata": {},
   "source": [
    "#### Renaming the  Columns"
   ]
  },
  {
   "cell_type": "code",
   "execution_count": 7,
   "id": "514b73d0",
   "metadata": {},
   "outputs": [],
   "source": [
    "df = df.rename(columns={\"Countries\":\"Country\"})"
   ]
  },
  {
   "cell_type": "code",
   "execution_count": 8,
   "id": "5b516835",
   "metadata": {},
   "outputs": [],
   "source": [
    "df = df.rename(columns={\"Flour prices, 1 kg\":\"Flour(1kg)\",\"Rice prices, 1 kg\":\"Rice(1kg)\",\"Sugar prices, 1 kg\":\"Sugar(1kg)\",\"Salt prices, 1 kg\":\"Salt(1kg)\",\"Two percent milk prices, 1 liter\":\"Milk(1L)\",\"Eggs prices, dozen\":\"Eggs(Dozen)\",\"Cooking oil prices, 1 liter\":\"Cooking Oil(1L)\",\"Chicken meat prices, 1 kg\":\"Chicken(1kg)\",\"Potato prices, 1 kg\":\"Potato(1kg)\",\"Onion prices, 1 kg\":\"Onion(1kg)\",\"Banana prices, 1 kg\":\"Banana(1kg)\",\"Tomato prices, 1 kg\":\"Tomato(1kg)\",\"Orange prices, 1 kg\":\"Orange(1Kg)\",\"Coca-Cola prices, 0.5 liter\":\"Coca-Cola(0.5L)\",\"Bottled water prices\":\"Bottled Water(1.5L)\"})"
   ]
  },
  {
   "cell_type": "markdown",
   "id": "6ddc8ee0",
   "metadata": {},
   "source": [
    "#### Sample of Scraped data"
   ]
  },
  {
   "cell_type": "code",
   "execution_count": 9,
   "id": "8cbacaf4",
   "metadata": {},
   "outputs": [
    {
     "data": {
      "text/html": [
       "<div>\n",
       "<style scoped>\n",
       "    .dataframe tbody tr th:only-of-type {\n",
       "        vertical-align: middle;\n",
       "    }\n",
       "\n",
       "    .dataframe tbody tr th {\n",
       "        vertical-align: top;\n",
       "    }\n",
       "\n",
       "    .dataframe thead th {\n",
       "        text-align: right;\n",
       "    }\n",
       "</style>\n",
       "<table border=\"1\" class=\"dataframe\">\n",
       "  <thead>\n",
       "    <tr style=\"text-align: right;\">\n",
       "      <th></th>\n",
       "      <th>Country</th>\n",
       "      <th>Flour(1kg)</th>\n",
       "      <th>Rice(1kg)</th>\n",
       "      <th>Sugar(1kg)</th>\n",
       "      <th>Salt(1kg)</th>\n",
       "      <th>Milk(1L)</th>\n",
       "      <th>Eggs(Dozen)</th>\n",
       "      <th>Cooking Oil(1L)</th>\n",
       "      <th>Chicken(1kg)</th>\n",
       "      <th>Potato(1kg)</th>\n",
       "      <th>Onion(1kg)</th>\n",
       "      <th>Banana(1kg)</th>\n",
       "      <th>Tomato(1kg)</th>\n",
       "      <th>Orange(1Kg)</th>\n",
       "      <th>Coca-Cola(0.5L)</th>\n",
       "      <th>Bottled Water(1.5L)</th>\n",
       "    </tr>\n",
       "  </thead>\n",
       "  <tbody>\n",
       "    <tr>\n",
       "      <th>52</th>\n",
       "      <td>Zambia</td>\n",
       "      <td>1.03</td>\n",
       "      <td>1.21</td>\n",
       "      <td>1.38</td>\n",
       "      <td>0.77</td>\n",
       "      <td>1.34</td>\n",
       "      <td>1.15</td>\n",
       "      <td>1.68</td>\n",
       "      <td>4.25</td>\n",
       "      <td>2.10</td>\n",
       "      <td>0.57</td>\n",
       "      <td>1.12</td>\n",
       "      <td>0.69</td>\n",
       "      <td>0.77</td>\n",
       "      <td>0.42</td>\n",
       "      <td>0.38</td>\n",
       "    </tr>\n",
       "  </tbody>\n",
       "</table>\n",
       "</div>"
      ],
      "text/plain": [
       "   Country Flour(1kg) Rice(1kg) Sugar(1kg) Salt(1kg) Milk(1L) Eggs(Dozen)  \\\n",
       "52  Zambia       1.03      1.21       1.38      0.77     1.34        1.15   \n",
       "\n",
       "   Cooking Oil(1L) Chicken(1kg) Potato(1kg) Onion(1kg) Banana(1kg)  \\\n",
       "52            1.68         4.25        2.10       0.57        1.12   \n",
       "\n",
       "   Tomato(1kg) Orange(1Kg) Coca-Cola(0.5L) Bottled Water(1.5L)  \n",
       "52        0.69        0.77            0.42                0.38  "
      ]
     },
     "execution_count": 9,
     "metadata": {},
     "output_type": "execute_result"
    }
   ],
   "source": [
    "df.sample()"
   ]
  },
  {
   "cell_type": "markdown",
   "id": "ceb8a3ab",
   "metadata": {},
   "source": [
    "### Scraping the GDP per Capita (PPP) from wikipedia"
   ]
  },
  {
   "cell_type": "code",
   "execution_count": 10,
   "id": "9c2e6986",
   "metadata": {},
   "outputs": [],
   "source": [
    "url = \"https://en.wikipedia.org/wiki/List_of_countries_by_GDP_(PPP)_per_capita\"\n",
    "page = requests.get(url)\n",
    "soup = BeautifulSoup(page.text,\"html\")\n",
    "table = soup.find_all(\"table\")[1]\n",
    "headers = table.find_all(\"th\")\n",
    "headers = [data.text.strip() for data in headers]"
   ]
  },
  {
   "cell_type": "code",
   "execution_count": 11,
   "id": "f3be556b",
   "metadata": {},
   "outputs": [
    {
     "data": {
      "text/plain": [
       "['Country/Territory',\n",
       " 'UN Region',\n",
       " 'IMF[5][6]',\n",
       " 'World Bank[7]',\n",
       " 'CIA[8][9][10]',\n",
       " 'Estimate',\n",
       " 'Year',\n",
       " 'Estimate',\n",
       " 'Year',\n",
       " 'Estimate',\n",
       " 'Year']"
      ]
     },
     "execution_count": 11,
     "metadata": {},
     "output_type": "execute_result"
    }
   ],
   "source": [
    "headers"
   ]
  },
  {
   "cell_type": "markdown",
   "id": "06509895",
   "metadata": {},
   "source": [
    "#### We only need Country UN Region and estimate PPP data"
   ]
  },
  {
   "cell_type": "code",
   "execution_count": 12,
   "id": "012b65f4",
   "metadata": {},
   "outputs": [],
   "source": [
    "headers = ['Country/Territory','UN Region','Estimate']\n",
    "dfr = pd.DataFrame(columns = headers)\n",
    "rows = table.find_all(\"tr\")\n",
    "for data in rows[2:]:\n",
    "    row = data.find_all(\"td\")[:3]\n",
    "    row_data = [x.text.strip() for x in row]\n",
    "    index = len(dfr)\n",
    "    dfr.loc[index] = row_data"
   ]
  },
  {
   "cell_type": "code",
   "execution_count": 13,
   "id": "f0fe43e3",
   "metadata": {
    "scrolled": true
   },
   "outputs": [
    {
     "data": {
      "text/html": [
       "<div>\n",
       "<style scoped>\n",
       "    .dataframe tbody tr th:only-of-type {\n",
       "        vertical-align: middle;\n",
       "    }\n",
       "\n",
       "    .dataframe tbody tr th {\n",
       "        vertical-align: top;\n",
       "    }\n",
       "\n",
       "    .dataframe thead th {\n",
       "        text-align: right;\n",
       "    }\n",
       "</style>\n",
       "<table border=\"1\" class=\"dataframe\">\n",
       "  <thead>\n",
       "    <tr style=\"text-align: right;\">\n",
       "      <th></th>\n",
       "      <th>Country/Territory</th>\n",
       "      <th>UN Region</th>\n",
       "      <th>Estimate</th>\n",
       "    </tr>\n",
       "  </thead>\n",
       "  <tbody>\n",
       "    <tr>\n",
       "      <th>0</th>\n",
       "      <td>Luxembourg *</td>\n",
       "      <td>Europe</td>\n",
       "      <td>143,743</td>\n",
       "    </tr>\n",
       "    <tr>\n",
       "      <th>1</th>\n",
       "      <td>Liechtenstein *</td>\n",
       "      <td>Europe</td>\n",
       "      <td>—</td>\n",
       "    </tr>\n",
       "    <tr>\n",
       "      <th>2</th>\n",
       "      <td>Ireland *</td>\n",
       "      <td>Europe</td>\n",
       "      <td>133,822</td>\n",
       "    </tr>\n",
       "    <tr>\n",
       "      <th>3</th>\n",
       "      <td>Singapore *</td>\n",
       "      <td>Asia</td>\n",
       "      <td>133,737</td>\n",
       "    </tr>\n",
       "    <tr>\n",
       "      <th>4</th>\n",
       "      <td>Macau *</td>\n",
       "      <td>Asia</td>\n",
       "      <td>125,510</td>\n",
       "    </tr>\n",
       "  </tbody>\n",
       "</table>\n",
       "</div>"
      ],
      "text/plain": [
       "  Country/Territory UN Region Estimate\n",
       "0      Luxembourg *    Europe  143,743\n",
       "1   Liechtenstein *    Europe        —\n",
       "2         Ireland *    Europe  133,822\n",
       "3       Singapore *      Asia  133,737\n",
       "4           Macau *      Asia  125,510"
      ]
     },
     "execution_count": 13,
     "metadata": {},
     "output_type": "execute_result"
    }
   ],
   "source": [
    "dfr.head()"
   ]
  },
  {
   "cell_type": "markdown",
   "id": "3f2684c8",
   "metadata": {},
   "source": [
    "#### Country/Territory column has to be treated"
   ]
  },
  {
   "cell_type": "markdown",
   "id": "16530eed",
   "metadata": {},
   "source": [
    "#### Creating a Function called \"cleanit\" that will clean the Country Column"
   ]
  },
  {
   "cell_type": "code",
   "execution_count": 14,
   "id": "7845dc5a",
   "metadata": {},
   "outputs": [],
   "source": [
    "dfr = dfr.rename(columns={\"Country/Territory\":\"Country\"})"
   ]
  },
  {
   "cell_type": "code",
   "execution_count": 15,
   "id": "d7b6c6c9",
   "metadata": {},
   "outputs": [],
   "source": [
    "def cleanit(frame):\n",
    "    country = frame.split(\"*\")[0]\n",
    "    return country.strip()"
   ]
  },
  {
   "cell_type": "code",
   "execution_count": 16,
   "id": "27650fd6",
   "metadata": {},
   "outputs": [],
   "source": [
    "dfr[\"Country\"] = dfr[\"Country\"].apply(cleanit)"
   ]
  },
  {
   "cell_type": "code",
   "execution_count": 17,
   "id": "682e9029",
   "metadata": {
    "scrolled": true
   },
   "outputs": [
    {
     "data": {
      "text/html": [
       "<div>\n",
       "<style scoped>\n",
       "    .dataframe tbody tr th:only-of-type {\n",
       "        vertical-align: middle;\n",
       "    }\n",
       "\n",
       "    .dataframe tbody tr th {\n",
       "        vertical-align: top;\n",
       "    }\n",
       "\n",
       "    .dataframe thead th {\n",
       "        text-align: right;\n",
       "    }\n",
       "</style>\n",
       "<table border=\"1\" class=\"dataframe\">\n",
       "  <thead>\n",
       "    <tr style=\"text-align: right;\">\n",
       "      <th></th>\n",
       "      <th>Country</th>\n",
       "      <th>UN Region</th>\n",
       "      <th>Estimate</th>\n",
       "    </tr>\n",
       "  </thead>\n",
       "  <tbody>\n",
       "    <tr>\n",
       "      <th>30</th>\n",
       "      <td>Australia</td>\n",
       "      <td>Oceania</td>\n",
       "      <td>66,627</td>\n",
       "    </tr>\n",
       "  </tbody>\n",
       "</table>\n",
       "</div>"
      ],
      "text/plain": [
       "      Country UN Region Estimate\n",
       "30  Australia   Oceania   66,627"
      ]
     },
     "execution_count": 17,
     "metadata": {},
     "output_type": "execute_result"
    }
   ],
   "source": [
    "dfr.sample()"
   ]
  },
  {
   "cell_type": "markdown",
   "id": "565f9570",
   "metadata": {},
   "source": [
    "#### Merging the Global Prices Dataframe with GDP dataframe"
   ]
  },
  {
   "cell_type": "markdown",
   "id": "83a9ca0c",
   "metadata": {},
   "source": [
    "Making sure every name in the country column of dfr dataframe is similar to df dataframe before merging them "
   ]
  },
  {
   "cell_type": "code",
   "execution_count": 18,
   "id": "b3d96037",
   "metadata": {},
   "outputs": [
    {
     "name": "stdout",
     "output_type": "stream",
     "text": [
      "USA\n",
      "UK\n",
      "UA Emirates\n",
      "Domin. Rep.\n",
      "Czechia\n"
     ]
    }
   ],
   "source": [
    "for i in df[\"Country\"]:\n",
    "    if i not in dfr[\"Country\"].unique():\n",
    "        print(i)"
   ]
  },
  {
   "cell_type": "markdown",
   "id": "d97d9482",
   "metadata": {},
   "source": [
    "As you can see we have 5 countries which have diffrent names, so we will make them similar to each other"
   ]
  },
  {
   "cell_type": "code",
   "execution_count": 19,
   "id": "a8f85663",
   "metadata": {},
   "outputs": [],
   "source": [
    "df[\"Country\"] = df[\"Country\"].replace({\"USA\":\"United States\",\"UA Emirates\":\"United Arab Emirates\",\"Domin. Rep.\":\"Dominican Republic\",\"UK\":\"United Kingdom\",\"Czechia\":\"Czech Republic\"})"
   ]
  },
  {
   "cell_type": "markdown",
   "id": "775c7e47",
   "metadata": {},
   "source": [
    "Merging the two data frames"
   ]
  },
  {
   "cell_type": "code",
   "execution_count": 20,
   "id": "7c8db6a6",
   "metadata": {},
   "outputs": [],
   "source": [
    "df = pd.merge(df,dfr,on=\"Country\",how=\"inner\")"
   ]
  },
  {
   "cell_type": "code",
   "execution_count": 21,
   "id": "66804058",
   "metadata": {},
   "outputs": [],
   "source": [
    "df = df.rename(columns={\"Estimate\":\"GDP Per Capita(PPP)\"})"
   ]
  },
  {
   "cell_type": "markdown",
   "id": "ce8d25aa",
   "metadata": {},
   "source": [
    "#### Sample of the merged Dataset"
   ]
  },
  {
   "cell_type": "code",
   "execution_count": 22,
   "id": "b9567cdd",
   "metadata": {
    "scrolled": true
   },
   "outputs": [
    {
     "data": {
      "text/html": [
       "<div>\n",
       "<style scoped>\n",
       "    .dataframe tbody tr th:only-of-type {\n",
       "        vertical-align: middle;\n",
       "    }\n",
       "\n",
       "    .dataframe tbody tr th {\n",
       "        vertical-align: top;\n",
       "    }\n",
       "\n",
       "    .dataframe thead th {\n",
       "        text-align: right;\n",
       "    }\n",
       "</style>\n",
       "<table border=\"1\" class=\"dataframe\">\n",
       "  <thead>\n",
       "    <tr style=\"text-align: right;\">\n",
       "      <th></th>\n",
       "      <th>Country</th>\n",
       "      <th>Flour(1kg)</th>\n",
       "      <th>Rice(1kg)</th>\n",
       "      <th>Sugar(1kg)</th>\n",
       "      <th>Salt(1kg)</th>\n",
       "      <th>Milk(1L)</th>\n",
       "      <th>Eggs(Dozen)</th>\n",
       "      <th>Cooking Oil(1L)</th>\n",
       "      <th>Chicken(1kg)</th>\n",
       "      <th>Potato(1kg)</th>\n",
       "      <th>Onion(1kg)</th>\n",
       "      <th>Banana(1kg)</th>\n",
       "      <th>Tomato(1kg)</th>\n",
       "      <th>Orange(1Kg)</th>\n",
       "      <th>Coca-Cola(0.5L)</th>\n",
       "      <th>Bottled Water(1.5L)</th>\n",
       "      <th>UN Region</th>\n",
       "      <th>GDP Per Capita(PPP)</th>\n",
       "    </tr>\n",
       "  </thead>\n",
       "  <tbody>\n",
       "    <tr>\n",
       "      <th>61</th>\n",
       "      <td>Indonesia</td>\n",
       "      <td>0.84</td>\n",
       "      <td>1.11</td>\n",
       "      <td>1.08</td>\n",
       "      <td>0.97</td>\n",
       "      <td>1.45</td>\n",
       "      <td>1.59</td>\n",
       "      <td>5.41</td>\n",
       "      <td>2.04</td>\n",
       "      <td>1.54</td>\n",
       "      <td>2.67</td>\n",
       "      <td>1.76</td>\n",
       "      <td>1.23</td>\n",
       "      <td>2.00</td>\n",
       "      <td>0.40</td>\n",
       "      <td>0.30</td>\n",
       "      <td>Asia</td>\n",
       "      <td>16,861</td>\n",
       "    </tr>\n",
       "  </tbody>\n",
       "</table>\n",
       "</div>"
      ],
      "text/plain": [
       "      Country Flour(1kg) Rice(1kg) Sugar(1kg) Salt(1kg) Milk(1L) Eggs(Dozen)  \\\n",
       "61  Indonesia       0.84      1.11       1.08      0.97     1.45        1.59   \n",
       "\n",
       "   Cooking Oil(1L) Chicken(1kg) Potato(1kg) Onion(1kg) Banana(1kg)  \\\n",
       "61            5.41         2.04        1.54       2.67        1.76   \n",
       "\n",
       "   Tomato(1kg) Orange(1Kg) Coca-Cola(0.5L) Bottled Water(1.5L) UN Region  \\\n",
       "61        1.23        2.00            0.40                0.30      Asia   \n",
       "\n",
       "   GDP Per Capita(PPP)  \n",
       "61              16,861  "
      ]
     },
     "execution_count": 22,
     "metadata": {},
     "output_type": "execute_result"
    }
   ],
   "source": [
    "df.sample()"
   ]
  },
  {
   "cell_type": "markdown",
   "id": "25f32f36",
   "metadata": {},
   "source": [
    "### Scraping the Inflation data from tradingeconomics website"
   ]
  },
  {
   "cell_type": "code",
   "execution_count": 23,
   "id": "03598918",
   "metadata": {},
   "outputs": [],
   "source": [
    "url = \"https://tradingeconomics.com/country-list/inflation-rate?continent=world\"\n",
    "driver = webdriver.Chrome() # Set up the Selenium webdriver\n",
    "driver.get(url) # Load the webpage\n",
    "# Wait for the CAPTCHA to load (you may need to adjust the time depending on the webpage)\n",
    "driver.implicitly_wait(10)\n",
    "# Get the page source after the CAPTCHA is solved\n",
    "page_source = driver.page_source\n",
    "soup = BeautifulSoup(page_source,\"html\")\n",
    "table = soup.find_all(\"table\")"
   ]
  },
  {
   "cell_type": "code",
   "execution_count": 24,
   "id": "58cccf1d",
   "metadata": {},
   "outputs": [],
   "source": [
    "for ele in table:\n",
    "    headers = ele.find_all(\"th\")"
   ]
  },
  {
   "cell_type": "code",
   "execution_count": 25,
   "id": "8c07a3c6",
   "metadata": {},
   "outputs": [
    {
     "data": {
      "text/plain": [
       "[<th style=\"cursor: pointer\">Country</th>,\n",
       " <th data-heatmap=\"0\" data-heatmap-limit=\"187\" data-sortable=\"true\" style=\"cursor: pointer\">Last </th>,\n",
       " <th data-sortable=\"true\" style=\"cursor: pointer\">Previous </th>,\n",
       " <th class=\"d-none d-sm-block\" style=\"cursor: pointer\">Reference</th>,\n",
       " <th class=\"\" data-sortable=\"false\"> Unit</th>]"
      ]
     },
     "execution_count": 25,
     "metadata": {},
     "output_type": "execute_result"
    }
   ],
   "source": [
    "headers"
   ]
  },
  {
   "cell_type": "code",
   "execution_count": 26,
   "id": "535e7c80",
   "metadata": {},
   "outputs": [],
   "source": [
    "headers = [x.text.strip() for x in headers]"
   ]
  },
  {
   "cell_type": "code",
   "execution_count": 27,
   "id": "fc3af38e",
   "metadata": {},
   "outputs": [
    {
     "data": {
      "text/plain": [
       "['Country', 'Last', 'Previous', 'Reference', 'Unit']"
      ]
     },
     "execution_count": 27,
     "metadata": {},
     "output_type": "execute_result"
    }
   ],
   "source": [
    "headers"
   ]
  },
  {
   "cell_type": "code",
   "execution_count": 28,
   "id": "4500624c",
   "metadata": {},
   "outputs": [],
   "source": [
    "headers = headers[:2]"
   ]
  },
  {
   "cell_type": "code",
   "execution_count": 29,
   "id": "238db691",
   "metadata": {},
   "outputs": [
    {
     "data": {
      "text/plain": [
       "['Country', 'Last']"
      ]
     },
     "execution_count": 29,
     "metadata": {},
     "output_type": "execute_result"
    }
   ],
   "source": [
    "headers"
   ]
  },
  {
   "cell_type": "code",
   "execution_count": 30,
   "id": "fa0a8f77",
   "metadata": {},
   "outputs": [],
   "source": [
    "dfi = pd.DataFrame(columns=headers)"
   ]
  },
  {
   "cell_type": "code",
   "execution_count": 31,
   "id": "6493cd6b",
   "metadata": {},
   "outputs": [],
   "source": [
    "for ele in table:\n",
    "    rows = ele.find_all(\"tr\")"
   ]
  },
  {
   "cell_type": "code",
   "execution_count": 33,
   "id": "eecd0e59",
   "metadata": {},
   "outputs": [],
   "source": [
    "for data in rows[1:]:\n",
    "    row = data.find_all(\"td\")[:2]\n",
    "    row_data = [x.text.strip() for x in row]\n",
    "    indx = len(dfi)\n",
    "    dfi.loc[indx] = row_data"
   ]
  },
  {
   "cell_type": "code",
   "execution_count": 34,
   "id": "6224ef06",
   "metadata": {},
   "outputs": [],
   "source": [
    "# Close the webdriver\n",
    "driver.quit()"
   ]
  },
  {
   "cell_type": "code",
   "execution_count": 35,
   "id": "be42194f",
   "metadata": {},
   "outputs": [],
   "source": [
    "dfi = dfi.rename(columns={\"Last\":\"Inflation(%)\"})"
   ]
  },
  {
   "cell_type": "code",
   "execution_count": 36,
   "id": "4eba6881",
   "metadata": {
    "scrolled": true
   },
   "outputs": [
    {
     "data": {
      "text/html": [
       "<div>\n",
       "<style scoped>\n",
       "    .dataframe tbody tr th:only-of-type {\n",
       "        vertical-align: middle;\n",
       "    }\n",
       "\n",
       "    .dataframe tbody tr th {\n",
       "        vertical-align: top;\n",
       "    }\n",
       "\n",
       "    .dataframe thead th {\n",
       "        text-align: right;\n",
       "    }\n",
       "</style>\n",
       "<table border=\"1\" class=\"dataframe\">\n",
       "  <thead>\n",
       "    <tr style=\"text-align: right;\">\n",
       "      <th></th>\n",
       "      <th>Country</th>\n",
       "      <th>Inflation(%)</th>\n",
       "    </tr>\n",
       "  </thead>\n",
       "  <tbody>\n",
       "    <tr>\n",
       "      <th>151</th>\n",
       "      <td>Slovakia</td>\n",
       "      <td>2.3</td>\n",
       "    </tr>\n",
       "  </tbody>\n",
       "</table>\n",
       "</div>"
      ],
      "text/plain": [
       "      Country Inflation(%)\n",
       "151  Slovakia          2.3"
      ]
     },
     "execution_count": 36,
     "metadata": {},
     "output_type": "execute_result"
    }
   ],
   "source": [
    "dfi.sample()"
   ]
  },
  {
   "cell_type": "markdown",
   "id": "41657dc5",
   "metadata": {},
   "source": [
    "#### Merging the the global prices dataframe with inflation dataframe"
   ]
  },
  {
   "cell_type": "code",
   "execution_count": 37,
   "id": "fbe6fce3",
   "metadata": {},
   "outputs": [],
   "source": [
    "df = pd.merge(df,dfi,on=\"Country\",how=\"inner\")"
   ]
  },
  {
   "cell_type": "markdown",
   "id": "264ea659",
   "metadata": {},
   "source": [
    "#### Sample of the Merged Dataset"
   ]
  },
  {
   "cell_type": "code",
   "execution_count": 38,
   "id": "f8223f11",
   "metadata": {
    "scrolled": true
   },
   "outputs": [
    {
     "data": {
      "text/html": [
       "<div>\n",
       "<style scoped>\n",
       "    .dataframe tbody tr th:only-of-type {\n",
       "        vertical-align: middle;\n",
       "    }\n",
       "\n",
       "    .dataframe tbody tr th {\n",
       "        vertical-align: top;\n",
       "    }\n",
       "\n",
       "    .dataframe thead th {\n",
       "        text-align: right;\n",
       "    }\n",
       "</style>\n",
       "<table border=\"1\" class=\"dataframe\">\n",
       "  <thead>\n",
       "    <tr style=\"text-align: right;\">\n",
       "      <th></th>\n",
       "      <th>Country</th>\n",
       "      <th>Flour(1kg)</th>\n",
       "      <th>Rice(1kg)</th>\n",
       "      <th>Sugar(1kg)</th>\n",
       "      <th>Salt(1kg)</th>\n",
       "      <th>Milk(1L)</th>\n",
       "      <th>Eggs(Dozen)</th>\n",
       "      <th>Cooking Oil(1L)</th>\n",
       "      <th>Chicken(1kg)</th>\n",
       "      <th>Potato(1kg)</th>\n",
       "      <th>Onion(1kg)</th>\n",
       "      <th>Banana(1kg)</th>\n",
       "      <th>Tomato(1kg)</th>\n",
       "      <th>Orange(1Kg)</th>\n",
       "      <th>Coca-Cola(0.5L)</th>\n",
       "      <th>Bottled Water(1.5L)</th>\n",
       "      <th>UN Region</th>\n",
       "      <th>GDP Per Capita(PPP)</th>\n",
       "      <th>Inflation(%)</th>\n",
       "    </tr>\n",
       "  </thead>\n",
       "  <tbody>\n",
       "    <tr>\n",
       "      <th>66</th>\n",
       "      <td>Romania</td>\n",
       "      <td>0.71</td>\n",
       "      <td>1.23</td>\n",
       "      <td>1.18</td>\n",
       "      <td>0.99</td>\n",
       "      <td>1.09</td>\n",
       "      <td>3.59</td>\n",
       "      <td>1.61</td>\n",
       "      <td>3.33</td>\n",
       "      <td>1.12</td>\n",
       "      <td>1.07</td>\n",
       "      <td>1.93</td>\n",
       "      <td>1.93</td>\n",
       "      <td>1.29</td>\n",
       "      <td>0.99</td>\n",
       "      <td>0.84</td>\n",
       "      <td>Europe</td>\n",
       "      <td>43,179</td>\n",
       "      <td>6.61</td>\n",
       "    </tr>\n",
       "  </tbody>\n",
       "</table>\n",
       "</div>"
      ],
      "text/plain": [
       "    Country Flour(1kg) Rice(1kg) Sugar(1kg) Salt(1kg) Milk(1L) Eggs(Dozen)  \\\n",
       "66  Romania       0.71      1.23       1.18      0.99     1.09        3.59   \n",
       "\n",
       "   Cooking Oil(1L) Chicken(1kg) Potato(1kg) Onion(1kg) Banana(1kg)  \\\n",
       "66            1.61         3.33        1.12       1.07        1.93   \n",
       "\n",
       "   Tomato(1kg) Orange(1Kg) Coca-Cola(0.5L) Bottled Water(1.5L) UN Region  \\\n",
       "66        1.93        1.29            0.99                0.84    Europe   \n",
       "\n",
       "   GDP Per Capita(PPP) Inflation(%)  \n",
       "66              43,179         6.61  "
      ]
     },
     "execution_count": 38,
     "metadata": {},
     "output_type": "execute_result"
    }
   ],
   "source": [
    "df.sample()"
   ]
  },
  {
   "cell_type": "markdown",
   "id": "f6b19c20",
   "metadata": {},
   "source": [
    "### Scraping Nominal GDP Data from Wikipedia"
   ]
  },
  {
   "cell_type": "code",
   "execution_count": 39,
   "id": "31f0aad4",
   "metadata": {},
   "outputs": [],
   "source": [
    "url = \"https://en.wikipedia.org/wiki/List_of_countries_by_GDP_(nominal)\"\n",
    "page = requests.get(url)\n",
    "soup = BeautifulSoup(page.text,\"html\")\n",
    "table = soup.find_all(\"table\")[2]\n",
    "headers = table.find_all(\"th\")\n",
    "headers = [data.text.strip() for data in headers]"
   ]
  },
  {
   "cell_type": "code",
   "execution_count": 40,
   "id": "b929d091",
   "metadata": {
    "scrolled": true
   },
   "outputs": [
    {
     "data": {
      "text/plain": [
       "['Country/Territory',\n",
       " 'UN region',\n",
       " 'IMF[1][13]',\n",
       " 'World Bank[14]',\n",
       " 'United Nations[15]',\n",
       " 'Forecast',\n",
       " 'Year',\n",
       " 'Estimate',\n",
       " 'Year',\n",
       " 'Estimate',\n",
       " 'Year']"
      ]
     },
     "execution_count": 40,
     "metadata": {},
     "output_type": "execute_result"
    }
   ],
   "source": [
    "headers"
   ]
  },
  {
   "cell_type": "markdown",
   "id": "5ca8c3d6",
   "metadata": {},
   "source": [
    "We only need two columns Country and Forecast(Nominal GDP(USD million)"
   ]
  },
  {
   "cell_type": "code",
   "execution_count": 41,
   "id": "18fde3c4",
   "metadata": {},
   "outputs": [],
   "source": [
    "headers = [\"Country\",\"UN region\",\"Forecast\"]"
   ]
  },
  {
   "cell_type": "code",
   "execution_count": 42,
   "id": "2bc684c4",
   "metadata": {},
   "outputs": [],
   "source": [
    "dfgdp = pd.DataFrame(columns=headers)\n",
    "rows = table.find_all(\"tr\")\n",
    "for i in rows[3:]:\n",
    "    row = i.find_all(\"td\")[:3]\n",
    "    row_data = [data.text.strip() for data in row]\n",
    "    pos = len(dfgdp)\n",
    "    dfgdp.loc[pos] = row_data"
   ]
  },
  {
   "cell_type": "code",
   "execution_count": 43,
   "id": "74dbc254",
   "metadata": {},
   "outputs": [],
   "source": [
    "dfgdp=dfgdp.rename(columns = {\"Forecast\":\"Nominal GDP(USD million)\"})"
   ]
  },
  {
   "cell_type": "code",
   "execution_count": 44,
   "id": "c5e35be5",
   "metadata": {},
   "outputs": [],
   "source": [
    "dfgdp=dfgdp.drop(columns=\"UN region\")"
   ]
  },
  {
   "cell_type": "markdown",
   "id": "54f10070",
   "metadata": {},
   "source": [
    "#### Sample dataframe of the scraped GDP dataset"
   ]
  },
  {
   "cell_type": "code",
   "execution_count": 45,
   "id": "19091db0",
   "metadata": {
    "scrolled": false
   },
   "outputs": [
    {
     "data": {
      "text/html": [
       "<div>\n",
       "<style scoped>\n",
       "    .dataframe tbody tr th:only-of-type {\n",
       "        vertical-align: middle;\n",
       "    }\n",
       "\n",
       "    .dataframe tbody tr th {\n",
       "        vertical-align: top;\n",
       "    }\n",
       "\n",
       "    .dataframe thead th {\n",
       "        text-align: right;\n",
       "    }\n",
       "</style>\n",
       "<table border=\"1\" class=\"dataframe\">\n",
       "  <thead>\n",
       "    <tr style=\"text-align: right;\">\n",
       "      <th></th>\n",
       "      <th>Country</th>\n",
       "      <th>Nominal GDP(USD million)</th>\n",
       "    </tr>\n",
       "  </thead>\n",
       "  <tbody>\n",
       "    <tr>\n",
       "      <th>0</th>\n",
       "      <td>United States</td>\n",
       "      <td>28,781,083</td>\n",
       "    </tr>\n",
       "    <tr>\n",
       "      <th>1</th>\n",
       "      <td>China</td>\n",
       "      <td>18,532,633</td>\n",
       "    </tr>\n",
       "    <tr>\n",
       "      <th>2</th>\n",
       "      <td>Germany</td>\n",
       "      <td>4,591,100</td>\n",
       "    </tr>\n",
       "    <tr>\n",
       "      <th>3</th>\n",
       "      <td>Japan</td>\n",
       "      <td>4,110,452</td>\n",
       "    </tr>\n",
       "    <tr>\n",
       "      <th>4</th>\n",
       "      <td>India</td>\n",
       "      <td>3,937,011</td>\n",
       "    </tr>\n",
       "  </tbody>\n",
       "</table>\n",
       "</div>"
      ],
      "text/plain": [
       "         Country Nominal GDP(USD million)\n",
       "0  United States               28,781,083\n",
       "1          China               18,532,633\n",
       "2        Germany                4,591,100\n",
       "3          Japan                4,110,452\n",
       "4          India                3,937,011"
      ]
     },
     "execution_count": 45,
     "metadata": {},
     "output_type": "execute_result"
    }
   ],
   "source": [
    "dfgdp.head()"
   ]
  },
  {
   "cell_type": "markdown",
   "id": "c86b2440",
   "metadata": {},
   "source": [
    "#### Merging the Global Priced Dataframe with GDP dataframe "
   ]
  },
  {
   "cell_type": "code",
   "execution_count": 46,
   "id": "abea7769",
   "metadata": {},
   "outputs": [],
   "source": [
    "df = pd.merge(df,dfgdp,on=\"Country\",how=\"inner\")"
   ]
  },
  {
   "cell_type": "markdown",
   "id": "083d29bf",
   "metadata": {},
   "source": [
    "#### Sample of the Merged dataset"
   ]
  },
  {
   "cell_type": "code",
   "execution_count": 47,
   "id": "808c1035",
   "metadata": {
    "scrolled": true
   },
   "outputs": [
    {
     "data": {
      "text/html": [
       "<div>\n",
       "<style scoped>\n",
       "    .dataframe tbody tr th:only-of-type {\n",
       "        vertical-align: middle;\n",
       "    }\n",
       "\n",
       "    .dataframe tbody tr th {\n",
       "        vertical-align: top;\n",
       "    }\n",
       "\n",
       "    .dataframe thead th {\n",
       "        text-align: right;\n",
       "    }\n",
       "</style>\n",
       "<table border=\"1\" class=\"dataframe\">\n",
       "  <thead>\n",
       "    <tr style=\"text-align: right;\">\n",
       "      <th></th>\n",
       "      <th>Country</th>\n",
       "      <th>Flour(1kg)</th>\n",
       "      <th>Rice(1kg)</th>\n",
       "      <th>Sugar(1kg)</th>\n",
       "      <th>Salt(1kg)</th>\n",
       "      <th>Milk(1L)</th>\n",
       "      <th>Eggs(Dozen)</th>\n",
       "      <th>Cooking Oil(1L)</th>\n",
       "      <th>Chicken(1kg)</th>\n",
       "      <th>Potato(1kg)</th>\n",
       "      <th>Onion(1kg)</th>\n",
       "      <th>Banana(1kg)</th>\n",
       "      <th>Tomato(1kg)</th>\n",
       "      <th>Orange(1Kg)</th>\n",
       "      <th>Coca-Cola(0.5L)</th>\n",
       "      <th>Bottled Water(1.5L)</th>\n",
       "      <th>UN Region</th>\n",
       "      <th>GDP Per Capita(PPP)</th>\n",
       "      <th>Inflation(%)</th>\n",
       "      <th>Nominal GDP(USD million)</th>\n",
       "    </tr>\n",
       "  </thead>\n",
       "  <tbody>\n",
       "    <tr>\n",
       "      <th>0</th>\n",
       "      <td>Hong Kong</td>\n",
       "      <td>4.02</td>\n",
       "      <td>1.97</td>\n",
       "      <td>3.18</td>\n",
       "      <td>1.61</td>\n",
       "      <td>3.09</td>\n",
       "      <td>4.71</td>\n",
       "      <td>7.14</td>\n",
       "      <td>8.03</td>\n",
       "      <td>3.22</td>\n",
       "      <td>5.06</td>\n",
       "      <td>1.87</td>\n",
       "      <td>3.07</td>\n",
       "      <td>3.52</td>\n",
       "      <td>1.21</td>\n",
       "      <td>1.27</td>\n",
       "      <td>Asia</td>\n",
       "      <td>75,128</td>\n",
       "      <td>2</td>\n",
       "      <td>406,775</td>\n",
       "    </tr>\n",
       "  </tbody>\n",
       "</table>\n",
       "</div>"
      ],
      "text/plain": [
       "     Country Flour(1kg) Rice(1kg) Sugar(1kg) Salt(1kg) Milk(1L) Eggs(Dozen)  \\\n",
       "0  Hong Kong       4.02      1.97       3.18      1.61     3.09        4.71   \n",
       "\n",
       "  Cooking Oil(1L) Chicken(1kg) Potato(1kg) Onion(1kg) Banana(1kg) Tomato(1kg)  \\\n",
       "0            7.14         8.03        3.22       5.06        1.87        3.07   \n",
       "\n",
       "  Orange(1Kg) Coca-Cola(0.5L) Bottled Water(1.5L) UN Region  \\\n",
       "0        3.52            1.21                1.27      Asia   \n",
       "\n",
       "  GDP Per Capita(PPP) Inflation(%) Nominal GDP(USD million)  \n",
       "0              75,128            2                  406,775  "
      ]
     },
     "execution_count": 47,
     "metadata": {},
     "output_type": "execute_result"
    }
   ],
   "source": [
    "df.head(1)"
   ]
  },
  {
   "cell_type": "code",
   "execution_count": 48,
   "id": "49b1f566",
   "metadata": {
    "scrolled": true
   },
   "outputs": [
    {
     "data": {
      "text/plain": [
       "array(['Hong Kong', 'United States', 'Saudi Arabia', 'Ghana', 'Peru',\n",
       "       'Guatemala', 'Switzerland', 'Kuwait', 'Costa Rica', 'Ireland',\n",
       "       'Austria', 'Portugal', 'Israel', 'United Kingdom', 'Finland',\n",
       "       'Latvia', 'Philippines', 'United Arab Emirates', 'Denmark',\n",
       "       'Spain', 'China', 'Sweden', 'Colombia', 'Mexico', 'Netherlands',\n",
       "       'Ecuador', 'Dominican Republic', 'Germany', 'Lithuania', 'Italy',\n",
       "       'Norway', 'Slovakia', 'Singapore', 'Belgium', 'France', 'Morocco',\n",
       "       'South Korea', 'Croatia', 'Uruguay', 'Czech Republic', 'Nigeria',\n",
       "       'Ivory Coast', 'Argentina', 'Chile', 'Kazakhstan', 'Angola',\n",
       "       'Canada', 'Bulgaria', 'Bolivia', 'Brazil', 'Slovenia',\n",
       "       'Azerbaijan', 'Zambia', 'New Zealand', 'Turkey', 'South Africa',\n",
       "       'Jordan', 'Sri Lanka', 'Australia', 'Malaysia', 'Greece',\n",
       "       'Indonesia', 'Tanzania', 'Serbia', 'Paraguay', 'Kenya', 'Romania',\n",
       "       'Russia', 'Pakistan', 'Ukraine', 'India', 'Bangladesh', 'Hungary'],\n",
       "      dtype=object)"
      ]
     },
     "execution_count": 48,
     "metadata": {},
     "output_type": "execute_result"
    }
   ],
   "source": [
    "df[\"Country\"].unique()"
   ]
  },
  {
   "cell_type": "code",
   "execution_count": 49,
   "id": "87228e9e",
   "metadata": {},
   "outputs": [],
   "source": [
    "n_s = {'Hong Kong':'Global North', 'United States':'Global North', 'Saudi Arabia':'Global South', 'Peru':'Global South', 'Guatemala':'Global South','Ghana':'Global South', 'Switzerland':'Global North', 'Kuwait':'Global South', 'Costa Rica':'Global South', 'Ireland':'Global North','Austria':'Global North', 'Portugal':'Global North', 'Israel':'Global North', 'United Kingdom':'Global North', 'Finland':'Global North','Latvia':'Global North', 'Philippines':'Global North', 'United Arab Emirates':'Global South', 'Denmark':'Global North','China':'Global South', 'Sweden':'Global North', 'Colombia':'Global South', 'Netherlands':'Global North', 'Ecuador':'Global South','Dominican Republic':'Global South', 'Germany':'Global North', 'Lithuania':'Global North', 'Spain':'Global North','South Africa':'Global South', 'Italy':'Global North', 'Slovakia':'Global North', 'Chile':'Global South', 'Singapore':'Global North','Norway':'Global North', 'Belgium':'Global North', 'South Korea':'Global North', 'Bolivia':'Global South', 'France':'Global North', 'Morocco':'Global South','Croatia':'Global North', 'Uruguay':'Global South', 'Mexico':'Global South', 'Czech Republic':'Global North', 'Ivory Coast':'Global South',\n",
    " 'Argentina':'Global South', 'Nigeria':'Global South', 'Kazakhstan':'Global South', 'Angola':'Global South', 'Canada':'Global North','Bulgaria':'Global North', 'Brazil':'Global South', 'Slovenia':'Global North', 'Azerbaijan':'Global South', 'New Zealand':'Global North','Turkey':'Global South', 'Sri Lanka':'Global South', 'Jordan':'Global South', 'Australia':'Global North', 'Zambia':'Global South', 'Malaysia':'Global South',\n",
    " 'Greece':'Global North', 'Indonesia':'Global South', 'Paraguay':'Global South', 'Tanzania':'Global South', 'Serbia':'Global North', 'Romania':'Global North','Kenya':'Global South', 'Pakistan':'Global South', 'Ukraine':'Global North', 'India':'Global South', 'Russia':'Global North', 'Bangladesh':'Global South',\n",
    "       'Hungary':'Global North'}\n"
   ]
  },
  {
   "cell_type": "code",
   "execution_count": 50,
   "id": "418bef50",
   "metadata": {},
   "outputs": [],
   "source": [
    "df[\"GN/GS\"] = df[\"Country\"].map(n_s)"
   ]
  },
  {
   "cell_type": "code",
   "execution_count": 51,
   "id": "90beabfc",
   "metadata": {},
   "outputs": [
    {
     "data": {
      "text/plain": [
       "array(['Asia', 'Americas', 'Africa', 'Europe', 'Oceania'], dtype=object)"
      ]
     },
     "execution_count": 51,
     "metadata": {},
     "output_type": "execute_result"
    }
   ],
   "source": [
    "df[\"UN Region\"].unique()"
   ]
  },
  {
   "cell_type": "code",
   "execution_count": 52,
   "id": "abb30bd3",
   "metadata": {
    "scrolled": true
   },
   "outputs": [
    {
     "data": {
      "text/html": [
       "<div>\n",
       "<style scoped>\n",
       "    .dataframe tbody tr th:only-of-type {\n",
       "        vertical-align: middle;\n",
       "    }\n",
       "\n",
       "    .dataframe tbody tr th {\n",
       "        vertical-align: top;\n",
       "    }\n",
       "\n",
       "    .dataframe thead th {\n",
       "        text-align: right;\n",
       "    }\n",
       "</style>\n",
       "<table border=\"1\" class=\"dataframe\">\n",
       "  <thead>\n",
       "    <tr style=\"text-align: right;\">\n",
       "      <th></th>\n",
       "      <th>Country</th>\n",
       "      <th>Flour(1kg)</th>\n",
       "      <th>Rice(1kg)</th>\n",
       "      <th>Sugar(1kg)</th>\n",
       "      <th>Salt(1kg)</th>\n",
       "      <th>Milk(1L)</th>\n",
       "      <th>Eggs(Dozen)</th>\n",
       "      <th>Cooking Oil(1L)</th>\n",
       "      <th>Chicken(1kg)</th>\n",
       "      <th>Potato(1kg)</th>\n",
       "      <th>...</th>\n",
       "      <th>Banana(1kg)</th>\n",
       "      <th>Tomato(1kg)</th>\n",
       "      <th>Orange(1Kg)</th>\n",
       "      <th>Coca-Cola(0.5L)</th>\n",
       "      <th>Bottled Water(1.5L)</th>\n",
       "      <th>UN Region</th>\n",
       "      <th>GDP Per Capita(PPP)</th>\n",
       "      <th>Inflation(%)</th>\n",
       "      <th>Nominal GDP(USD million)</th>\n",
       "      <th>GN/GS</th>\n",
       "    </tr>\n",
       "  </thead>\n",
       "  <tbody>\n",
       "    <tr>\n",
       "      <th>70</th>\n",
       "      <td>India</td>\n",
       "      <td>0.60</td>\n",
       "      <td>0.86</td>\n",
       "      <td>0.66</td>\n",
       "      <td>0.34</td>\n",
       "      <td>0.89</td>\n",
       "      <td>1.68</td>\n",
       "      <td>1.70</td>\n",
       "      <td>6.72</td>\n",
       "      <td>0.65</td>\n",
       "      <td>...</td>\n",
       "      <td>0.59</td>\n",
       "      <td>0.72</td>\n",
       "      <td>2.20</td>\n",
       "      <td>0.32</td>\n",
       "      <td>0.36</td>\n",
       "      <td>Asia</td>\n",
       "      <td>10,123</td>\n",
       "      <td>4.85</td>\n",
       "      <td>3,937,011</td>\n",
       "      <td>Global South</td>\n",
       "    </tr>\n",
       "  </tbody>\n",
       "</table>\n",
       "<p>1 rows × 21 columns</p>\n",
       "</div>"
      ],
      "text/plain": [
       "   Country Flour(1kg) Rice(1kg) Sugar(1kg) Salt(1kg) Milk(1L) Eggs(Dozen)  \\\n",
       "70   India       0.60      0.86       0.66      0.34     0.89        1.68   \n",
       "\n",
       "   Cooking Oil(1L) Chicken(1kg) Potato(1kg)  ... Banana(1kg) Tomato(1kg)  \\\n",
       "70            1.70         6.72        0.65  ...        0.59        0.72   \n",
       "\n",
       "   Orange(1Kg) Coca-Cola(0.5L) Bottled Water(1.5L) UN Region  \\\n",
       "70        2.20            0.32                0.36      Asia   \n",
       "\n",
       "   GDP Per Capita(PPP) Inflation(%) Nominal GDP(USD million)         GN/GS  \n",
       "70              10,123         4.85                3,937,011  Global South  \n",
       "\n",
       "[1 rows x 21 columns]"
      ]
     },
     "execution_count": 52,
     "metadata": {},
     "output_type": "execute_result"
    }
   ],
   "source": [
    "df[df[\"Country\"] == \"India\"]"
   ]
  },
  {
   "cell_type": "code",
   "execution_count": 53,
   "id": "24ae85c9",
   "metadata": {},
   "outputs": [],
   "source": [
    "c_r = {'Hong Kong':'Eastern Asia', 'United States':'Northern America', 'Saudi Arabia':'Western Asia', 'Peru':'Latin America', 'Guatemala':'Latin America','Ghana':'Africa', 'Switzerland':'Western Europe', 'Kuwait':'Western Asia', 'Costa Rica':'Latin America', 'Ireland':'Western Europe',\n",
    "'Austria':'Western Europe', 'Portugal':'Western Europe', 'Israel':'Western Asia', 'United Kingdom':'Western Europe', 'Finland':'Western Europe','Latvia':'Eastern Europe', 'Philippines':'Southeastern Asia', 'United Arab Emirates':'Western Asia', 'Denmark':'Western Europe',\n",
    "'China':'Eastern Asia', 'Sweden':'Western Europe', 'Colombia':'Latin America', 'Netherlands':'Western Europe', 'Ecuador':'Latin America',\n",
    "'Dominican Republic':'Latin America', 'Germany':'Western Europe', 'Lithuania':'Eastern Europe', 'Spain':'Western Europe',\n",
    "'South Africa':'Africa', 'Italy':'Western Europe', 'Slovakia':'Eastern Europe', 'Chile':'Latin America', 'Singapore':'Southeastern Asia',\n",
    "'Norway':'Western Europe', 'Belgium':'Western Europe', 'South Korea':'Eastern Asia', 'Bolivia':'Latin America', 'France':'Western Europe', 'Morocco':'Africa',\n",
    "'Croatia':'Eastern Europe', 'Uruguay':'Latin America', 'Mexico':'Latin America', 'Czech Republic':'Eastern Europe', 'Ivory Coast':'Africa',\n",
    "'Argentina':'Latin America', 'Nigeria':'Africa', 'Kazakhstan':'Central Asia', 'Angola':'Africa', 'Canada':'Northern America',\n",
    "'Bulgaria':'Eastern Europe', 'Brazil':'Latin America', 'Slovenia':'Eastern Europe', 'Azerbaijan':'Central Asia', 'New Zealand':'Oceania',\n",
    "'Turkey':'Western Asia', 'Sri Lanka':'Southern Asia', 'Jordan':'Western Asia', 'Australia':'Oceania', 'Zambia':'Africa', 'Malaysia':'Southeastern Asia',\n",
    "'Greece':'Eastern Europe', 'Indonesia':'Southeastern Asia', 'Paraguay':'Latin America', 'Tanzania':'Africa', 'Serbia':'Eastern Europe', 'Romania':'Eastern Europe','Kenya':'Africa', 'Pakistan':'Southern Asia', 'Ukraine':'Eastern Europe', 'India':'Southern Asia', 'Russia':'Eastern Europe', 'Bangladesh':'Southern Asia','Hungary':'Eastern Europe'}"
   ]
  },
  {
   "cell_type": "code",
   "execution_count": 54,
   "id": "365ac362",
   "metadata": {},
   "outputs": [],
   "source": [
    "df[\"Sub Region\"] = df[\"Country\"].map(c_r)"
   ]
  },
  {
   "cell_type": "code",
   "execution_count": 55,
   "id": "9776a45c",
   "metadata": {},
   "outputs": [],
   "source": [
    "c_c = {'Hong Kong':'Asia', 'United States':'North America', 'Saudi Arabia':'Asia', 'Peru':'South America', 'Guatemala':'South America',\n",
    "       'Ghana':'Africa', 'Switzerland':'Europe', 'Kuwait':'Asia', 'Costa Rica':'North America', 'Ireland':'Europe',\n",
    "       'Austria':'Europe', 'Portugal':'Europe', 'Israel':'Asia', 'United Kingdom':'Europe', 'Finland':'Europe',\n",
    "       'Latvia':'Europe', 'Philippines':'Asia', 'United Arab Emirates':'Asia', 'Denmark':'Europe',\n",
    "       'China':'Asia', 'Sweden':'Europe', 'Colombia':'South America', 'Netherlands':'Europe', 'Ecuador':'South America',\n",
    "       'Dominican Republic':'North America', 'Germany':'Europe', 'Lithuania':'Europe', 'Spain':'Europe',\n",
    "       'South Africa':'Africa', 'Italy':'Europe', 'Slovakia':'Europe', 'Chile':'South America', 'Singapore':'Asia',\n",
    "       'Norway':'Europe', 'Belgium':'Europe', 'South Korea':'Asia', 'Bolivia':'South America', 'France':'Europe', 'Morocco':'Africa',\n",
    "       'Croatia':'Europe', 'Uruguay':'South America', 'Mexico':'North America', 'Czech Republic':'Europe', 'Ivory Coast':'Africa',\n",
    "       'Argentina':'South America', 'Nigeria':'Africa', 'Kazakhstan':'Asia', 'Angola':'Africa', 'Canada':'North America',\n",
    "       'Bulgaria':'Europe', 'Brazil':'South America', 'Slovenia':'Europe', 'Azerbaijan':'Asia', 'New Zealand':'Oceania',\n",
    "       'Turkey':'Europe', 'Sri Lanka':'Asia', 'Jordan':'Asia', 'Australia':'Oceania', 'Zambia':'Africa', 'Malaysia':'Asia',\n",
    "       'Greece':'Europe', 'Indonesia':'Asia', 'Paraguay':'South America', 'Tanzania':'Africa', 'Serbia':'Europe', 'Romania':'Europe',\n",
    "       'Kenya':'Africa', 'Pakistan':'Asia', 'Ukraine':'Europe', 'India':'Asia', 'Russia':'Europe', 'Bangladesh':'Asia',\n",
    "       'Hungary':'Europe'}"
   ]
  },
  {
   "cell_type": "code",
   "execution_count": 56,
   "id": "653712ef",
   "metadata": {},
   "outputs": [],
   "source": [
    "df[\"Continent\"] = df[\"Country\"].map(c_c)"
   ]
  },
  {
   "cell_type": "code",
   "execution_count": 57,
   "id": "f580cbca",
   "metadata": {
    "scrolled": true
   },
   "outputs": [
    {
     "data": {
      "text/html": [
       "<div>\n",
       "<style scoped>\n",
       "    .dataframe tbody tr th:only-of-type {\n",
       "        vertical-align: middle;\n",
       "    }\n",
       "\n",
       "    .dataframe tbody tr th {\n",
       "        vertical-align: top;\n",
       "    }\n",
       "\n",
       "    .dataframe thead th {\n",
       "        text-align: right;\n",
       "    }\n",
       "</style>\n",
       "<table border=\"1\" class=\"dataframe\">\n",
       "  <thead>\n",
       "    <tr style=\"text-align: right;\">\n",
       "      <th></th>\n",
       "      <th>Country</th>\n",
       "      <th>Flour(1kg)</th>\n",
       "      <th>Rice(1kg)</th>\n",
       "      <th>Sugar(1kg)</th>\n",
       "      <th>Salt(1kg)</th>\n",
       "      <th>Milk(1L)</th>\n",
       "      <th>Eggs(Dozen)</th>\n",
       "      <th>Cooking Oil(1L)</th>\n",
       "      <th>Chicken(1kg)</th>\n",
       "      <th>Potato(1kg)</th>\n",
       "      <th>...</th>\n",
       "      <th>Orange(1Kg)</th>\n",
       "      <th>Coca-Cola(0.5L)</th>\n",
       "      <th>Bottled Water(1.5L)</th>\n",
       "      <th>UN Region</th>\n",
       "      <th>GDP Per Capita(PPP)</th>\n",
       "      <th>Inflation(%)</th>\n",
       "      <th>Nominal GDP(USD million)</th>\n",
       "      <th>GN/GS</th>\n",
       "      <th>Sub Region</th>\n",
       "      <th>Continent</th>\n",
       "    </tr>\n",
       "  </thead>\n",
       "  <tbody>\n",
       "    <tr>\n",
       "      <th>0</th>\n",
       "      <td>Hong Kong</td>\n",
       "      <td>4.02</td>\n",
       "      <td>1.97</td>\n",
       "      <td>3.18</td>\n",
       "      <td>1.61</td>\n",
       "      <td>3.09</td>\n",
       "      <td>4.71</td>\n",
       "      <td>7.14</td>\n",
       "      <td>8.03</td>\n",
       "      <td>3.22</td>\n",
       "      <td>...</td>\n",
       "      <td>3.52</td>\n",
       "      <td>1.21</td>\n",
       "      <td>1.27</td>\n",
       "      <td>Asia</td>\n",
       "      <td>75,128</td>\n",
       "      <td>2</td>\n",
       "      <td>406,775</td>\n",
       "      <td>Global North</td>\n",
       "      <td>Eastern Asia</td>\n",
       "      <td>Asia</td>\n",
       "    </tr>\n",
       "    <tr>\n",
       "      <th>1</th>\n",
       "      <td>United States</td>\n",
       "      <td>3.62</td>\n",
       "      <td>4.50</td>\n",
       "      <td>1.80</td>\n",
       "      <td>2.50</td>\n",
       "      <td>1.96</td>\n",
       "      <td>3.40</td>\n",
       "      <td>3.50</td>\n",
       "      <td>11.00</td>\n",
       "      <td>1.65</td>\n",
       "      <td>...</td>\n",
       "      <td>2.76</td>\n",
       "      <td>0.83</td>\n",
       "      <td>1.46</td>\n",
       "      <td>Americas</td>\n",
       "      <td>85,373</td>\n",
       "      <td>3.5</td>\n",
       "      <td>28,781,083</td>\n",
       "      <td>Global North</td>\n",
       "      <td>Northern America</td>\n",
       "      <td>North America</td>\n",
       "    </tr>\n",
       "  </tbody>\n",
       "</table>\n",
       "<p>2 rows × 23 columns</p>\n",
       "</div>"
      ],
      "text/plain": [
       "         Country Flour(1kg) Rice(1kg) Sugar(1kg) Salt(1kg) Milk(1L)  \\\n",
       "0      Hong Kong       4.02      1.97       3.18      1.61     3.09   \n",
       "1  United States       3.62      4.50       1.80      2.50     1.96   \n",
       "\n",
       "  Eggs(Dozen) Cooking Oil(1L) Chicken(1kg) Potato(1kg)  ... Orange(1Kg)  \\\n",
       "0        4.71            7.14         8.03        3.22  ...        3.52   \n",
       "1        3.40            3.50        11.00        1.65  ...        2.76   \n",
       "\n",
       "  Coca-Cola(0.5L) Bottled Water(1.5L) UN Region GDP Per Capita(PPP)  \\\n",
       "0            1.21                1.27      Asia              75,128   \n",
       "1            0.83                1.46  Americas              85,373   \n",
       "\n",
       "  Inflation(%) Nominal GDP(USD million)         GN/GS        Sub Region  \\\n",
       "0            2                  406,775  Global North      Eastern Asia   \n",
       "1          3.5               28,781,083  Global North  Northern America   \n",
       "\n",
       "       Continent  \n",
       "0           Asia  \n",
       "1  North America  \n",
       "\n",
       "[2 rows x 23 columns]"
      ]
     },
     "execution_count": 57,
     "metadata": {},
     "output_type": "execute_result"
    }
   ],
   "source": [
    "df.head(2)"
   ]
  },
  {
   "cell_type": "markdown",
   "id": "f52948fc",
   "metadata": {},
   "source": [
    "#### We now have the raw dataset"
   ]
  },
  {
   "cell_type": "markdown",
   "id": "4c037975",
   "metadata": {},
   "source": [
    "### Data Cleaning"
   ]
  },
  {
   "cell_type": "markdown",
   "id": "146ac182",
   "metadata": {},
   "source": [
    "#### Converting Columns into intended Datatypes"
   ]
  },
  {
   "cell_type": "code",
   "execution_count": 58,
   "id": "fd5382fc",
   "metadata": {
    "scrolled": false
   },
   "outputs": [],
   "source": [
    "for col in df:\n",
    "    if col not in [\"Country\",\"UN Region\",\"GDP Per Capita(PPP)\",\"Nominal GDP(USD million)\",\"Sub Region\",\"GN/GS\",\"Continent\"]:\n",
    "        df[col]=df[col].astype(float)"
   ]
  },
  {
   "cell_type": "markdown",
   "id": "cc35916c",
   "metadata": {},
   "source": [
    "#### Treating the GDP Per Capita(PPP) and Nominal GDP(USD million)\tcolumns and converting them to numeric datatype"
   ]
  },
  {
   "cell_type": "code",
   "execution_count": 59,
   "id": "40b5f89c",
   "metadata": {},
   "outputs": [],
   "source": [
    "df[\"GDP Per Capita(PPP)\"] = df[\"GDP Per Capita(PPP)\"].str.replace(\",\",\"\").astype(float)"
   ]
  },
  {
   "cell_type": "code",
   "execution_count": 60,
   "id": "385e6ec1",
   "metadata": {
    "scrolled": true
   },
   "outputs": [
    {
     "data": {
      "text/plain": [
       "array(['406,775', '28,781,083', '1,106,015', '75,244', '282,458',\n",
       "       '110,035', '938,458', '160,397', '96,058', '564,020', '540,887',\n",
       "       '298,949', '530,664', '3,495,261', '308,055', '45,466', '471,516',\n",
       "       '527,796', '409,989', '1,647,114', '18,532,633', '623,048',\n",
       "       '386,076', '2,017,025', '1,142,513', '121,592', '127,356',\n",
       "       '4,591,100', '81,170', '2,328,028', '526,951', '140,808',\n",
       "       '525,230', '655,192', '3,130,014', '152,377', '1,760,947',\n",
       "       '88,076', '82,605', '325,880', '252,738', '86,911', '604,260',\n",
       "       '333,760', '296,740', '92,123', '2,242,182', '107,933', '49,334',\n",
       "       '2,331,391', '72,101', '78,749', '29,872', '257,626', '1,113,561',\n",
       "       '373,233', '53,570', '—', '1,790,348', '445,519', '250,276',\n",
       "       '1,475,690', '79,605', '81,873', '45,817', '104,001', '369,971',\n",
       "       '2,056,844', '338,237', '188,943', '3,937,011', '455,162',\n",
       "       '223,413'], dtype=object)"
      ]
     },
     "execution_count": 60,
     "metadata": {},
     "output_type": "execute_result"
    }
   ],
   "source": [
    "df[\"Nominal GDP(USD million)\"].unique()"
   ]
  },
  {
   "cell_type": "code",
   "execution_count": 61,
   "id": "ae812e13",
   "metadata": {
    "scrolled": false
   },
   "outputs": [],
   "source": [
    "df[\"Nominal GDP(USD million)\"] = pd.to_numeric(df[\"Nominal GDP(USD million)\"].str.replace(\",\",\"\"),errors=\"coerce\")"
   ]
  },
  {
   "cell_type": "code",
   "execution_count": 62,
   "id": "99b37c72",
   "metadata": {
    "scrolled": true
   },
   "outputs": [
    {
     "data": {
      "text/html": [
       "<div>\n",
       "<style scoped>\n",
       "    .dataframe tbody tr th:only-of-type {\n",
       "        vertical-align: middle;\n",
       "    }\n",
       "\n",
       "    .dataframe tbody tr th {\n",
       "        vertical-align: top;\n",
       "    }\n",
       "\n",
       "    .dataframe thead th {\n",
       "        text-align: right;\n",
       "    }\n",
       "</style>\n",
       "<table border=\"1\" class=\"dataframe\">\n",
       "  <thead>\n",
       "    <tr style=\"text-align: right;\">\n",
       "      <th></th>\n",
       "      <th>Country</th>\n",
       "      <th>Flour(1kg)</th>\n",
       "      <th>Rice(1kg)</th>\n",
       "      <th>Sugar(1kg)</th>\n",
       "      <th>Salt(1kg)</th>\n",
       "      <th>Milk(1L)</th>\n",
       "      <th>Eggs(Dozen)</th>\n",
       "      <th>Cooking Oil(1L)</th>\n",
       "      <th>Chicken(1kg)</th>\n",
       "      <th>Potato(1kg)</th>\n",
       "      <th>...</th>\n",
       "      <th>Orange(1Kg)</th>\n",
       "      <th>Coca-Cola(0.5L)</th>\n",
       "      <th>Bottled Water(1.5L)</th>\n",
       "      <th>UN Region</th>\n",
       "      <th>GDP Per Capita(PPP)</th>\n",
       "      <th>Inflation(%)</th>\n",
       "      <th>Nominal GDP(USD million)</th>\n",
       "      <th>GN/GS</th>\n",
       "      <th>Sub Region</th>\n",
       "      <th>Continent</th>\n",
       "    </tr>\n",
       "  </thead>\n",
       "  <tbody>\n",
       "    <tr>\n",
       "      <th>27</th>\n",
       "      <td>Germany</td>\n",
       "      <td>1.59</td>\n",
       "      <td>2.68</td>\n",
       "      <td>2.14</td>\n",
       "      <td>1.28</td>\n",
       "      <td>1.66</td>\n",
       "      <td>3.1</td>\n",
       "      <td>4.28</td>\n",
       "      <td>11.77</td>\n",
       "      <td>1.2</td>\n",
       "      <td>...</td>\n",
       "      <td>3.53</td>\n",
       "      <td>1.27</td>\n",
       "      <td>0.63</td>\n",
       "      <td>Europe</td>\n",
       "      <td>67245.0</td>\n",
       "      <td>2.2</td>\n",
       "      <td>4591100.0</td>\n",
       "      <td>Global North</td>\n",
       "      <td>Western Europe</td>\n",
       "      <td>Europe</td>\n",
       "    </tr>\n",
       "  </tbody>\n",
       "</table>\n",
       "<p>1 rows × 23 columns</p>\n",
       "</div>"
      ],
      "text/plain": [
       "    Country  Flour(1kg)  Rice(1kg)  Sugar(1kg)  Salt(1kg)  Milk(1L)  \\\n",
       "27  Germany        1.59       2.68        2.14       1.28      1.66   \n",
       "\n",
       "    Eggs(Dozen)  Cooking Oil(1L)  Chicken(1kg)  Potato(1kg)  ...  Orange(1Kg)  \\\n",
       "27          3.1             4.28         11.77          1.2  ...         3.53   \n",
       "\n",
       "    Coca-Cola(0.5L)  Bottled Water(1.5L)  UN Region  GDP Per Capita(PPP)  \\\n",
       "27             1.27                 0.63     Europe              67245.0   \n",
       "\n",
       "    Inflation(%) Nominal GDP(USD million)         GN/GS      Sub Region  \\\n",
       "27           2.2                4591100.0  Global North  Western Europe   \n",
       "\n",
       "    Continent  \n",
       "27     Europe  \n",
       "\n",
       "[1 rows x 23 columns]"
      ]
     },
     "execution_count": 62,
     "metadata": {},
     "output_type": "execute_result"
    }
   ],
   "source": [
    "df.sample()"
   ]
  },
  {
   "cell_type": "markdown",
   "id": "914011a4",
   "metadata": {},
   "source": [
    "#### Creating a function that can be used to categorize the countries based on Per Capita GDP (PPP)"
   ]
  },
  {
   "cell_type": "code",
   "execution_count": 63,
   "id": "4530fc72",
   "metadata": {},
   "outputs": [],
   "source": [
    "def income_cat(val):\n",
    "    if val>= 60000:\n",
    "        return \"High-Income\"\n",
    "    elif val>=30000 and val<60000:\n",
    "        return \"Upper-Mid-Income\"\n",
    "    elif val>=10000 and val<30000:\n",
    "        return \"Lower-Mid-Income\"\n",
    "    else:\n",
    "        return \"Low-Income\""
   ]
  },
  {
   "cell_type": "markdown",
   "id": "444b25ca",
   "metadata": {},
   "source": [
    "#### Creating the Income Category Column by applying the income)cat function to GDP per Capita(PPP)"
   ]
  },
  {
   "cell_type": "code",
   "execution_count": 64,
   "id": "fc06ad9b",
   "metadata": {},
   "outputs": [],
   "source": [
    "df[\"Income_Category\"] = df[\"GDP Per Capita(PPP)\"].apply(income_cat)"
   ]
  },
  {
   "cell_type": "code",
   "execution_count": 65,
   "id": "f9c00ed3",
   "metadata": {
    "scrolled": true
   },
   "outputs": [
    {
     "data": {
      "text/html": [
       "<div>\n",
       "<style scoped>\n",
       "    .dataframe tbody tr th:only-of-type {\n",
       "        vertical-align: middle;\n",
       "    }\n",
       "\n",
       "    .dataframe tbody tr th {\n",
       "        vertical-align: top;\n",
       "    }\n",
       "\n",
       "    .dataframe thead th {\n",
       "        text-align: right;\n",
       "    }\n",
       "</style>\n",
       "<table border=\"1\" class=\"dataframe\">\n",
       "  <thead>\n",
       "    <tr style=\"text-align: right;\">\n",
       "      <th></th>\n",
       "      <th>Country</th>\n",
       "      <th>Flour(1kg)</th>\n",
       "      <th>Rice(1kg)</th>\n",
       "      <th>Sugar(1kg)</th>\n",
       "      <th>Salt(1kg)</th>\n",
       "      <th>Milk(1L)</th>\n",
       "      <th>Eggs(Dozen)</th>\n",
       "      <th>Cooking Oil(1L)</th>\n",
       "      <th>Chicken(1kg)</th>\n",
       "      <th>Potato(1kg)</th>\n",
       "      <th>...</th>\n",
       "      <th>Coca-Cola(0.5L)</th>\n",
       "      <th>Bottled Water(1.5L)</th>\n",
       "      <th>UN Region</th>\n",
       "      <th>GDP Per Capita(PPP)</th>\n",
       "      <th>Inflation(%)</th>\n",
       "      <th>Nominal GDP(USD million)</th>\n",
       "      <th>GN/GS</th>\n",
       "      <th>Sub Region</th>\n",
       "      <th>Continent</th>\n",
       "      <th>Income_Category</th>\n",
       "    </tr>\n",
       "  </thead>\n",
       "  <tbody>\n",
       "    <tr>\n",
       "      <th>27</th>\n",
       "      <td>Germany</td>\n",
       "      <td>1.59</td>\n",
       "      <td>2.68</td>\n",
       "      <td>2.14</td>\n",
       "      <td>1.28</td>\n",
       "      <td>1.66</td>\n",
       "      <td>3.1</td>\n",
       "      <td>4.28</td>\n",
       "      <td>11.77</td>\n",
       "      <td>1.2</td>\n",
       "      <td>...</td>\n",
       "      <td>1.27</td>\n",
       "      <td>0.63</td>\n",
       "      <td>Europe</td>\n",
       "      <td>67245.0</td>\n",
       "      <td>2.2</td>\n",
       "      <td>4591100.0</td>\n",
       "      <td>Global North</td>\n",
       "      <td>Western Europe</td>\n",
       "      <td>Europe</td>\n",
       "      <td>High-Income</td>\n",
       "    </tr>\n",
       "  </tbody>\n",
       "</table>\n",
       "<p>1 rows × 24 columns</p>\n",
       "</div>"
      ],
      "text/plain": [
       "    Country  Flour(1kg)  Rice(1kg)  Sugar(1kg)  Salt(1kg)  Milk(1L)  \\\n",
       "27  Germany        1.59       2.68        2.14       1.28      1.66   \n",
       "\n",
       "    Eggs(Dozen)  Cooking Oil(1L)  Chicken(1kg)  Potato(1kg)  ...  \\\n",
       "27          3.1             4.28         11.77          1.2  ...   \n",
       "\n",
       "    Coca-Cola(0.5L)  Bottled Water(1.5L)  UN Region  GDP Per Capita(PPP)  \\\n",
       "27             1.27                 0.63     Europe              67245.0   \n",
       "\n",
       "    Inflation(%)  Nominal GDP(USD million)         GN/GS      Sub Region  \\\n",
       "27           2.2                 4591100.0  Global North  Western Europe   \n",
       "\n",
       "    Continent  Income_Category  \n",
       "27     Europe      High-Income  \n",
       "\n",
       "[1 rows x 24 columns]"
      ]
     },
     "execution_count": 65,
     "metadata": {},
     "output_type": "execute_result"
    }
   ],
   "source": [
    "df.sample()"
   ]
  },
  {
   "cell_type": "markdown",
   "id": "bdca38e8",
   "metadata": {},
   "source": [
    "#### Creating the Food_Basket_Price Column"
   ]
  },
  {
   "cell_type": "code",
   "execution_count": 66,
   "id": "767341c2",
   "metadata": {},
   "outputs": [],
   "source": [
    "df[\"Food_Basket_Price(in $)\"]=df[\"Flour(1kg)\"]+df[\"Rice(1kg)\"]+df[\"Sugar(1kg)\"]+df[\"Salt(1kg)\"]+df[\"Milk(1L)\"]+df[\"Eggs(Dozen)\"]+df[\"Cooking Oil(1L)\"]+df[\"Chicken(1kg)\"]+df[\"Potato(1kg)\"]+df[\"Onion(1kg)\"]+df[\"Banana(1kg)\"]+df[\"Tomato(1kg)\"]+df[\"Orange(1Kg)\"]+df[\"Coca-Cola(0.5L)\"]+df[\"Bottled Water(1.5L)\"]"
   ]
  },
  {
   "cell_type": "code",
   "execution_count": 67,
   "id": "c74cedeb",
   "metadata": {
    "scrolled": false
   },
   "outputs": [
    {
     "data": {
      "text/html": [
       "<div>\n",
       "<style scoped>\n",
       "    .dataframe tbody tr th:only-of-type {\n",
       "        vertical-align: middle;\n",
       "    }\n",
       "\n",
       "    .dataframe tbody tr th {\n",
       "        vertical-align: top;\n",
       "    }\n",
       "\n",
       "    .dataframe thead th {\n",
       "        text-align: right;\n",
       "    }\n",
       "</style>\n",
       "<table border=\"1\" class=\"dataframe\">\n",
       "  <thead>\n",
       "    <tr style=\"text-align: right;\">\n",
       "      <th></th>\n",
       "      <th>Country</th>\n",
       "      <th>Flour(1kg)</th>\n",
       "      <th>Rice(1kg)</th>\n",
       "      <th>Sugar(1kg)</th>\n",
       "      <th>Salt(1kg)</th>\n",
       "      <th>Milk(1L)</th>\n",
       "      <th>Eggs(Dozen)</th>\n",
       "      <th>Cooking Oil(1L)</th>\n",
       "      <th>Chicken(1kg)</th>\n",
       "      <th>Potato(1kg)</th>\n",
       "      <th>...</th>\n",
       "      <th>Bottled Water(1.5L)</th>\n",
       "      <th>UN Region</th>\n",
       "      <th>GDP Per Capita(PPP)</th>\n",
       "      <th>Inflation(%)</th>\n",
       "      <th>Nominal GDP(USD million)</th>\n",
       "      <th>GN/GS</th>\n",
       "      <th>Sub Region</th>\n",
       "      <th>Continent</th>\n",
       "      <th>Income_Category</th>\n",
       "      <th>Food_Basket_Price(in $)</th>\n",
       "    </tr>\n",
       "  </thead>\n",
       "  <tbody>\n",
       "    <tr>\n",
       "      <th>47</th>\n",
       "      <td>Bulgaria</td>\n",
       "      <td>1.09</td>\n",
       "      <td>2.74</td>\n",
       "      <td>1.53</td>\n",
       "      <td>0.71</td>\n",
       "      <td>1.58</td>\n",
       "      <td>4.92</td>\n",
       "      <td>1.91</td>\n",
       "      <td>7.11</td>\n",
       "      <td>1.29</td>\n",
       "      <td>...</td>\n",
       "      <td>0.65</td>\n",
       "      <td>Europe</td>\n",
       "      <td>35963.0</td>\n",
       "      <td>3.0</td>\n",
       "      <td>107933.0</td>\n",
       "      <td>Global North</td>\n",
       "      <td>Eastern Europe</td>\n",
       "      <td>Europe</td>\n",
       "      <td>Upper-Mid-Income</td>\n",
       "      <td>32.36</td>\n",
       "    </tr>\n",
       "  </tbody>\n",
       "</table>\n",
       "<p>1 rows × 25 columns</p>\n",
       "</div>"
      ],
      "text/plain": [
       "     Country  Flour(1kg)  Rice(1kg)  Sugar(1kg)  Salt(1kg)  Milk(1L)  \\\n",
       "47  Bulgaria        1.09       2.74        1.53       0.71      1.58   \n",
       "\n",
       "    Eggs(Dozen)  Cooking Oil(1L)  Chicken(1kg)  Potato(1kg)  ...  \\\n",
       "47         4.92             1.91          7.11         1.29  ...   \n",
       "\n",
       "    Bottled Water(1.5L)  UN Region  GDP Per Capita(PPP)  Inflation(%)  \\\n",
       "47                 0.65     Europe              35963.0           3.0   \n",
       "\n",
       "    Nominal GDP(USD million)         GN/GS      Sub Region  Continent  \\\n",
       "47                  107933.0  Global North  Eastern Europe     Europe   \n",
       "\n",
       "     Income_Category  Food_Basket_Price(in $)  \n",
       "47  Upper-Mid-Income                    32.36  \n",
       "\n",
       "[1 rows x 25 columns]"
      ]
     },
     "execution_count": 67,
     "metadata": {},
     "output_type": "execute_result"
    }
   ],
   "source": [
    "df.sample()"
   ]
  },
  {
   "cell_type": "markdown",
   "id": "eb8e7821",
   "metadata": {},
   "source": [
    "#### Dropping the \"UN Region\" column as we already have Sub Region Column"
   ]
  },
  {
   "cell_type": "code",
   "execution_count": 68,
   "id": "b87563d3",
   "metadata": {},
   "outputs": [],
   "source": [
    "df = df.drop(columns=\"UN Region\")"
   ]
  },
  {
   "cell_type": "code",
   "execution_count": 69,
   "id": "b83d52b8",
   "metadata": {},
   "outputs": [
    {
     "data": {
      "text/html": [
       "<div>\n",
       "<style scoped>\n",
       "    .dataframe tbody tr th:only-of-type {\n",
       "        vertical-align: middle;\n",
       "    }\n",
       "\n",
       "    .dataframe tbody tr th {\n",
       "        vertical-align: top;\n",
       "    }\n",
       "\n",
       "    .dataframe thead th {\n",
       "        text-align: right;\n",
       "    }\n",
       "</style>\n",
       "<table border=\"1\" class=\"dataframe\">\n",
       "  <thead>\n",
       "    <tr style=\"text-align: right;\">\n",
       "      <th></th>\n",
       "      <th>Country</th>\n",
       "      <th>Flour(1kg)</th>\n",
       "      <th>Rice(1kg)</th>\n",
       "      <th>Sugar(1kg)</th>\n",
       "      <th>Salt(1kg)</th>\n",
       "      <th>Milk(1L)</th>\n",
       "      <th>Eggs(Dozen)</th>\n",
       "      <th>Cooking Oil(1L)</th>\n",
       "      <th>Chicken(1kg)</th>\n",
       "      <th>Potato(1kg)</th>\n",
       "      <th>...</th>\n",
       "      <th>Coca-Cola(0.5L)</th>\n",
       "      <th>Bottled Water(1.5L)</th>\n",
       "      <th>GDP Per Capita(PPP)</th>\n",
       "      <th>Inflation(%)</th>\n",
       "      <th>Nominal GDP(USD million)</th>\n",
       "      <th>GN/GS</th>\n",
       "      <th>Sub Region</th>\n",
       "      <th>Continent</th>\n",
       "      <th>Income_Category</th>\n",
       "      <th>Food_Basket_Price(in $)</th>\n",
       "    </tr>\n",
       "  </thead>\n",
       "  <tbody>\n",
       "    <tr>\n",
       "      <th>58</th>\n",
       "      <td>Australia</td>\n",
       "      <td>0.91</td>\n",
       "      <td>1.95</td>\n",
       "      <td>1.1</td>\n",
       "      <td>1.62</td>\n",
       "      <td>1.94</td>\n",
       "      <td>4.68</td>\n",
       "      <td>5.65</td>\n",
       "      <td>4.22</td>\n",
       "      <td>1.95</td>\n",
       "      <td>...</td>\n",
       "      <td>2.19</td>\n",
       "      <td>1.95</td>\n",
       "      <td>66627.0</td>\n",
       "      <td>3.6</td>\n",
       "      <td>1790348.0</td>\n",
       "      <td>Global North</td>\n",
       "      <td>Oceania</td>\n",
       "      <td>Oceania</td>\n",
       "      <td>High-Income</td>\n",
       "      <td>44.62</td>\n",
       "    </tr>\n",
       "  </tbody>\n",
       "</table>\n",
       "<p>1 rows × 24 columns</p>\n",
       "</div>"
      ],
      "text/plain": [
       "      Country  Flour(1kg)  Rice(1kg)  Sugar(1kg)  Salt(1kg)  Milk(1L)  \\\n",
       "58  Australia        0.91       1.95         1.1       1.62      1.94   \n",
       "\n",
       "    Eggs(Dozen)  Cooking Oil(1L)  Chicken(1kg)  Potato(1kg)  ...  \\\n",
       "58         4.68             5.65          4.22         1.95  ...   \n",
       "\n",
       "    Coca-Cola(0.5L)  Bottled Water(1.5L)  GDP Per Capita(PPP)  Inflation(%)  \\\n",
       "58             2.19                 1.95              66627.0           3.6   \n",
       "\n",
       "    Nominal GDP(USD million)         GN/GS  Sub Region  Continent  \\\n",
       "58                 1790348.0  Global North     Oceania    Oceania   \n",
       "\n",
       "    Income_Category Food_Basket_Price(in $)  \n",
       "58      High-Income                   44.62  \n",
       "\n",
       "[1 rows x 24 columns]"
      ]
     },
     "execution_count": 69,
     "metadata": {},
     "output_type": "execute_result"
    }
   ],
   "source": [
    "df.sample()"
   ]
  },
  {
   "cell_type": "markdown",
   "id": "e999da2b",
   "metadata": {},
   "source": [
    "#### Reordering the columns"
   ]
  },
  {
   "cell_type": "code",
   "execution_count": 70,
   "id": "b8df850c",
   "metadata": {},
   "outputs": [],
   "source": [
    "df = df[[\"Country\",\"Continent\",\"Sub Region\",\"GN/GS\",\"Income_Category\",\"GDP Per Capita(PPP)\",\"Nominal GDP(USD million)\",\"Inflation(%)\",\"Food_Basket_Price(in $)\",\"Flour(1kg)\",\"Rice(1kg)\",\"Sugar(1kg)\",\"Salt(1kg)\",\"Milk(1L)\",\"Eggs(Dozen)\",\"Cooking Oil(1L)\",\"Chicken(1kg)\",\"Potato(1kg)\",\"Onion(1kg)\",\"Banana(1kg)\",\"Tomato(1kg)\",\"Orange(1Kg)\",\"Coca-Cola(0.5L)\",\"Bottled Water(1.5L)\"]]"
   ]
  },
  {
   "cell_type": "code",
   "execution_count": 71,
   "id": "3bda4a5a",
   "metadata": {
    "scrolled": true
   },
   "outputs": [
    {
     "data": {
      "text/html": [
       "<div>\n",
       "<style scoped>\n",
       "    .dataframe tbody tr th:only-of-type {\n",
       "        vertical-align: middle;\n",
       "    }\n",
       "\n",
       "    .dataframe tbody tr th {\n",
       "        vertical-align: top;\n",
       "    }\n",
       "\n",
       "    .dataframe thead th {\n",
       "        text-align: right;\n",
       "    }\n",
       "</style>\n",
       "<table border=\"1\" class=\"dataframe\">\n",
       "  <thead>\n",
       "    <tr style=\"text-align: right;\">\n",
       "      <th></th>\n",
       "      <th>Country</th>\n",
       "      <th>Continent</th>\n",
       "      <th>Sub Region</th>\n",
       "      <th>GN/GS</th>\n",
       "      <th>Income_Category</th>\n",
       "      <th>GDP Per Capita(PPP)</th>\n",
       "      <th>Nominal GDP(USD million)</th>\n",
       "      <th>Inflation(%)</th>\n",
       "      <th>Food_Basket_Price(in $)</th>\n",
       "      <th>Flour(1kg)</th>\n",
       "      <th>...</th>\n",
       "      <th>Eggs(Dozen)</th>\n",
       "      <th>Cooking Oil(1L)</th>\n",
       "      <th>Chicken(1kg)</th>\n",
       "      <th>Potato(1kg)</th>\n",
       "      <th>Onion(1kg)</th>\n",
       "      <th>Banana(1kg)</th>\n",
       "      <th>Tomato(1kg)</th>\n",
       "      <th>Orange(1Kg)</th>\n",
       "      <th>Coca-Cola(0.5L)</th>\n",
       "      <th>Bottled Water(1.5L)</th>\n",
       "    </tr>\n",
       "  </thead>\n",
       "  <tbody>\n",
       "    <tr>\n",
       "      <th>54</th>\n",
       "      <td>Turkey</td>\n",
       "      <td>Europe</td>\n",
       "      <td>Western Asia</td>\n",
       "      <td>Global South</td>\n",
       "      <td>Upper-Mid-Income</td>\n",
       "      <td>43921.0</td>\n",
       "      <td>1113561.0</td>\n",
       "      <td>68.5</td>\n",
       "      <td>20.15</td>\n",
       "      <td>1.03</td>\n",
       "      <td>...</td>\n",
       "      <td>2.21</td>\n",
       "      <td>2.24</td>\n",
       "      <td>2.84</td>\n",
       "      <td>0.49</td>\n",
       "      <td>0.34</td>\n",
       "      <td>1.38</td>\n",
       "      <td>1.93</td>\n",
       "      <td>1.38</td>\n",
       "      <td>0.58</td>\n",
       "      <td>0.74</td>\n",
       "    </tr>\n",
       "  </tbody>\n",
       "</table>\n",
       "<p>1 rows × 24 columns</p>\n",
       "</div>"
      ],
      "text/plain": [
       "   Country Continent    Sub Region         GN/GS   Income_Category  \\\n",
       "54  Turkey    Europe  Western Asia  Global South  Upper-Mid-Income   \n",
       "\n",
       "    GDP Per Capita(PPP)  Nominal GDP(USD million)  Inflation(%)  \\\n",
       "54              43921.0                 1113561.0          68.5   \n",
       "\n",
       "    Food_Basket_Price(in $)  Flour(1kg)  ...  Eggs(Dozen)  Cooking Oil(1L)  \\\n",
       "54                    20.15        1.03  ...         2.21             2.24   \n",
       "\n",
       "    Chicken(1kg)  Potato(1kg)  Onion(1kg)  Banana(1kg)  Tomato(1kg)  \\\n",
       "54          2.84         0.49        0.34         1.38         1.93   \n",
       "\n",
       "    Orange(1Kg)  Coca-Cola(0.5L)  Bottled Water(1.5L)  \n",
       "54         1.38             0.58                 0.74  \n",
       "\n",
       "[1 rows x 24 columns]"
      ]
     },
     "execution_count": 71,
     "metadata": {},
     "output_type": "execute_result"
    }
   ],
   "source": [
    "df.sample()"
   ]
  },
  {
   "cell_type": "markdown",
   "id": "19ce277b",
   "metadata": {},
   "source": [
    "#### Checking for Null Values"
   ]
  },
  {
   "cell_type": "code",
   "execution_count": 72,
   "id": "c4db40f3",
   "metadata": {},
   "outputs": [
    {
     "data": {
      "text/plain": [
       "Country                     0\n",
       "Continent                   0\n",
       "Sub Region                  0\n",
       "GN/GS                       0\n",
       "Income_Category             0\n",
       "GDP Per Capita(PPP)         0\n",
       "Nominal GDP(USD million)    1\n",
       "Inflation(%)                0\n",
       "Food_Basket_Price(in $)     0\n",
       "Flour(1kg)                  0\n",
       "Rice(1kg)                   0\n",
       "Sugar(1kg)                  0\n",
       "Salt(1kg)                   0\n",
       "Milk(1L)                    0\n",
       "Eggs(Dozen)                 0\n",
       "Cooking Oil(1L)             0\n",
       "Chicken(1kg)                0\n",
       "Potato(1kg)                 0\n",
       "Onion(1kg)                  0\n",
       "Banana(1kg)                 0\n",
       "Tomato(1kg)                 0\n",
       "Orange(1Kg)                 0\n",
       "Coca-Cola(0.5L)             0\n",
       "Bottled Water(1.5L)         0\n",
       "dtype: int64"
      ]
     },
     "execution_count": 72,
     "metadata": {},
     "output_type": "execute_result"
    }
   ],
   "source": [
    "df.isnull().sum()"
   ]
  },
  {
   "cell_type": "code",
   "execution_count": 73,
   "id": "e76caf4d",
   "metadata": {
    "scrolled": false
   },
   "outputs": [
    {
     "data": {
      "text/html": [
       "<div>\n",
       "<style scoped>\n",
       "    .dataframe tbody tr th:only-of-type {\n",
       "        vertical-align: middle;\n",
       "    }\n",
       "\n",
       "    .dataframe tbody tr th {\n",
       "        vertical-align: top;\n",
       "    }\n",
       "\n",
       "    .dataframe thead th {\n",
       "        text-align: right;\n",
       "    }\n",
       "</style>\n",
       "<table border=\"1\" class=\"dataframe\">\n",
       "  <thead>\n",
       "    <tr style=\"text-align: right;\">\n",
       "      <th></th>\n",
       "      <th>Country</th>\n",
       "      <th>Continent</th>\n",
       "      <th>Sub Region</th>\n",
       "      <th>GN/GS</th>\n",
       "      <th>Income_Category</th>\n",
       "      <th>GDP Per Capita(PPP)</th>\n",
       "      <th>Nominal GDP(USD million)</th>\n",
       "      <th>Inflation(%)</th>\n",
       "      <th>Food_Basket_Price(in $)</th>\n",
       "      <th>Flour(1kg)</th>\n",
       "      <th>...</th>\n",
       "      <th>Eggs(Dozen)</th>\n",
       "      <th>Cooking Oil(1L)</th>\n",
       "      <th>Chicken(1kg)</th>\n",
       "      <th>Potato(1kg)</th>\n",
       "      <th>Onion(1kg)</th>\n",
       "      <th>Banana(1kg)</th>\n",
       "      <th>Tomato(1kg)</th>\n",
       "      <th>Orange(1Kg)</th>\n",
       "      <th>Coca-Cola(0.5L)</th>\n",
       "      <th>Bottled Water(1.5L)</th>\n",
       "    </tr>\n",
       "  </thead>\n",
       "  <tbody>\n",
       "    <tr>\n",
       "      <th>57</th>\n",
       "      <td>Sri Lanka</td>\n",
       "      <td>Asia</td>\n",
       "      <td>Southern Asia</td>\n",
       "      <td>Global South</td>\n",
       "      <td>Lower-Mid-Income</td>\n",
       "      <td>14255.0</td>\n",
       "      <td>NaN</td>\n",
       "      <td>1.5</td>\n",
       "      <td>33.04</td>\n",
       "      <td>0.97</td>\n",
       "      <td>...</td>\n",
       "      <td>2.59</td>\n",
       "      <td>6.45</td>\n",
       "      <td>5.56</td>\n",
       "      <td>1.31</td>\n",
       "      <td>1.47</td>\n",
       "      <td>0.77</td>\n",
       "      <td>1.31</td>\n",
       "      <td>5.87</td>\n",
       "      <td>0.71</td>\n",
       "      <td>0.54</td>\n",
       "    </tr>\n",
       "  </tbody>\n",
       "</table>\n",
       "<p>1 rows × 24 columns</p>\n",
       "</div>"
      ],
      "text/plain": [
       "      Country Continent     Sub Region         GN/GS   Income_Category  \\\n",
       "57  Sri Lanka      Asia  Southern Asia  Global South  Lower-Mid-Income   \n",
       "\n",
       "    GDP Per Capita(PPP)  Nominal GDP(USD million)  Inflation(%)  \\\n",
       "57              14255.0                       NaN           1.5   \n",
       "\n",
       "    Food_Basket_Price(in $)  Flour(1kg)  ...  Eggs(Dozen)  Cooking Oil(1L)  \\\n",
       "57                    33.04        0.97  ...         2.59             6.45   \n",
       "\n",
       "    Chicken(1kg)  Potato(1kg)  Onion(1kg)  Banana(1kg)  Tomato(1kg)  \\\n",
       "57          5.56         1.31        1.47         0.77         1.31   \n",
       "\n",
       "    Orange(1Kg)  Coca-Cola(0.5L)  Bottled Water(1.5L)  \n",
       "57         5.87             0.71                 0.54  \n",
       "\n",
       "[1 rows x 24 columns]"
      ]
     },
     "execution_count": 73,
     "metadata": {},
     "output_type": "execute_result"
    }
   ],
   "source": [
    "df[df[\"Nominal GDP(USD million)\"].isnull() == True]"
   ]
  },
  {
   "cell_type": "markdown",
   "id": "47382fdf",
   "metadata": {},
   "source": [
    "#### Imputing the Nominal GDP of Sri Lanka"
   ]
  },
  {
   "cell_type": "code",
   "execution_count": 74,
   "id": "ba2caf59",
   "metadata": {},
   "outputs": [],
   "source": [
    "df.loc[55,\"Nominal GDP(USD million)\"] = 74403.0"
   ]
  },
  {
   "cell_type": "markdown",
   "id": "decab8d2",
   "metadata": {},
   "source": [
    "#### Checking for Duplicate Values"
   ]
  },
  {
   "cell_type": "code",
   "execution_count": 75,
   "id": "e9d5c294",
   "metadata": {},
   "outputs": [
    {
     "data": {
      "text/plain": [
       "0"
      ]
     },
     "execution_count": 75,
     "metadata": {},
     "output_type": "execute_result"
    }
   ],
   "source": [
    "df.duplicated().sum()"
   ]
  },
  {
   "cell_type": "markdown",
   "id": "d0efcb75",
   "metadata": {},
   "source": [
    "#### Looking for any odd/misplaced values in columns"
   ]
  },
  {
   "cell_type": "code",
   "execution_count": 76,
   "id": "c578bcf6",
   "metadata": {
    "scrolled": true
   },
   "outputs": [
    {
     "name": "stdout",
     "output_type": "stream",
     "text": [
      "Country\n",
      "['Hong Kong' 'United States' 'Saudi Arabia' 'Ghana' 'Peru' 'Guatemala'\n",
      " 'Switzerland' 'Kuwait' 'Costa Rica' 'Ireland' 'Austria' 'Portugal'\n",
      " 'Israel' 'United Kingdom' 'Finland' 'Latvia' 'Philippines'\n",
      " 'United Arab Emirates' 'Denmark' 'Spain' 'China' 'Sweden' 'Colombia'\n",
      " 'Mexico' 'Netherlands' 'Ecuador' 'Dominican Republic' 'Germany'\n",
      " 'Lithuania' 'Italy' 'Norway' 'Slovakia' 'Singapore' 'Belgium' 'France'\n",
      " 'Morocco' 'South Korea' 'Croatia' 'Uruguay' 'Czech Republic' 'Nigeria'\n",
      " 'Ivory Coast' 'Argentina' 'Chile' 'Kazakhstan' 'Angola' 'Canada'\n",
      " 'Bulgaria' 'Bolivia' 'Brazil' 'Slovenia' 'Azerbaijan' 'Zambia'\n",
      " 'New Zealand' 'Turkey' 'South Africa' 'Jordan' 'Sri Lanka' 'Australia'\n",
      " 'Malaysia' 'Greece' 'Indonesia' 'Tanzania' 'Serbia' 'Paraguay' 'Kenya'\n",
      " 'Romania' 'Russia' 'Pakistan' 'Ukraine' 'India' 'Bangladesh' 'Hungary']\n",
      "Continent\n",
      "['Asia' 'North America' 'Africa' 'South America' 'Europe' 'Oceania']\n",
      "Sub Region\n",
      "['Eastern Asia' 'Northern America' 'Western Asia' 'Africa' 'Latin America'\n",
      " 'Western Europe' 'Eastern Europe' 'Southeastern Asia' 'Central Asia'\n",
      " 'Oceania' 'Southern Asia']\n",
      "GN/GS\n",
      "['Global North' 'Global South']\n",
      "Income_Category\n",
      "['High-Income' 'Low-Income' 'Lower-Mid-Income' 'Upper-Mid-Income']\n",
      "GDP Per Capita(PPP)\n",
      "[ 75128.  85373.  70333.   7156.  16631.  11006.  91932.  52274.  28558.\n",
      " 133822.  69460.  47070.  55533.  58880.  60851.  41730.  12192.  96846.\n",
      "  77641.  52012.  25015.  69177.  19770.  25963.  74158.  14485.  27120.\n",
      "  67245.  50600.  56905.  82832.  44081. 133737.  68079.  60339.  10947.\n",
      "  59330.  45702.  30170.  50475.   6340.   6860.  26390.  31005.  34534.\n",
      "   7153.  60495.  35963.  10693.  20809.  53287.  19328.   4361.  53797.\n",
      "  43921.  16424.  12402.  14255.  66627.  39030.  41188.  16861.   3746.\n",
      "  27985.  16291.   6976.  43179.  38292.   6955.  15464.  10123.   9416.\n",
      "  45692.]\n",
      "Nominal GDP(USD million)\n",
      "[  406775. 28781083.  1106015.    75244.   282458.   110035.   938458.\n",
      "   160397.    96058.   564020.   540887.   298949.   530664.  3495261.\n",
      "   308055.    45466.   471516.   527796.   409989.  1647114. 18532633.\n",
      "   623048.   386076.  2017025.  1142513.   121592.   127356.  4591100.\n",
      "    81170.  2328028.   526951.   140808.   525230.   655192.  3130014.\n",
      "   152377.  1760947.    88076.    82605.   325880.   252738.    86911.\n",
      "   604260.   333760.   296740.    92123.  2242182.   107933.    49334.\n",
      "  2331391.    72101.    78749.    29872.   257626.  1113561.    74403.\n",
      "    53570.       nan  1790348.   445519.   250276.  1475690.    79605.\n",
      "    81873.    45817.   104001.   369971.  2056844.   338237.   188943.\n",
      "  3937011.   455162.   223413.]\n",
      "Inflation(%)\n",
      "[ 2.000e+00  3.500e+00  1.600e+00  2.580e+01  2.410e+00  3.230e+00\n",
      "  1.000e+00  3.000e+00 -1.190e+00  2.900e+00  2.200e+00  2.700e+00\n",
      "  3.200e+00  9.000e-01  3.700e+00  3.360e+00  3.300e+00  1.000e-01\n",
      "  4.100e+00  7.360e+00  4.420e+00  1.660e+00  3.380e+00  0.000e+00\n",
      "  3.900e+00  2.300e+00  3.370e+00  3.800e+00  3.320e+01  2.880e+02\n",
      "  9.100e+00  2.609e+01  3.060e+00  3.930e+00  1.380e+01  4.000e+00\n",
      "  6.850e+01  5.300e+00  1.500e+00  3.600e+00  1.800e+00  3.050e+00\n",
      "  5.000e+00  6.610e+00  7.700e+00  2.070e+01  4.850e+00  9.810e+00]\n",
      "Food_Basket_Price(in $)\n",
      "[52.97 45.91 31.88 41.53 21.78 30.32 51.46 29.82 38.88 35.61 41.4  25.3\n",
      " 40.62 31.63 42.6  30.2  34.38 30.95 35.41 30.73 35.47 41.54 25.92 28.79\n",
      " 37.14 24.36 26.23 42.32 33.73 37.33 45.09 29.78 43.23 35.89 35.64 23.03\n",
      " 48.49 24.95 45.75 28.11 23.18 26.73 21.69 29.43 23.73 24.74 39.92 32.36\n",
      " 21.99 21.86 28.12 20.15 18.86 40.17 20.15 23.31 20.57 33.04 44.62 25.1\n",
      " 27.77 24.39 21.26 25.5  21.94 23.86 22.9  17.11 13.55 18.82 18.91 19.\n",
      " 22.74]\n",
      "Flour(1kg)\n",
      "[4.02 3.62 2.92 2.66 2.46 2.43 2.3  2.26 2.19 2.14 2.13 2.12 2.09 2.06\n",
      " 1.98 1.87 1.79 1.77 1.72 1.68 1.65 1.64 1.61 1.6  1.59 1.49 1.45 1.44\n",
      " 1.38 1.36 1.35 1.33 1.27 1.26 1.22 1.21 1.12 1.11 1.1  1.09 1.07 1.06\n",
      " 1.03 0.99 0.97 0.91 0.89 0.85 0.84 0.77 0.74 0.71 0.66 0.62 0.61 0.6\n",
      " 0.55 0.46]\n",
      "Rice(1kg)\n",
      "[1.97 4.5  2.61 1.76 1.51 1.87 2.95 1.62 1.9  1.39 1.5  1.71 3.15 2.35\n",
      " 2.57 1.6  2.59 1.58 1.13 3.03 1.02 1.99 2.68 1.69 3.32 3.96 2.17 2.78\n",
      " 1.1  1.82 1.93 2.91 2.14 3.8  1.48 0.92 1.56 2.02 1.67 3.07 2.74 1.55\n",
      " 1.21 2.55 1.49 1.3  1.83 1.95 2.43 1.11 1.16 4.2  1.04 1.23 1.66 0.88\n",
      " 2.   0.86 0.57 2.39]\n",
      "Sugar(1kg)\n",
      "[3.18 1.8  1.33 2.31 1.35 1.12 1.97 1.62 1.66 2.57 2.14 1.61 1.46 1.37\n",
      " 2.35 1.39 1.71 2.46 2.3  1.57 1.69 1.5  1.2  1.24 1.93 2.82 1.54 0.96\n",
      " 0.79 1.81 1.28 1.75 1.14 1.58 0.98 1.56 1.49 1.17 1.53 0.87 1.07 1.29\n",
      " 1.38 1.72 1.13 1.1  1.05 1.08 1.16 1.04 1.23 1.18 1.45 0.61 0.66 0.81]\n",
      "Salt(1kg)\n",
      "[1.61 2.5  1.25 2.69 0.65 0.36 1.97 1.48 1.5  1.93 0.54 0.48 1.62 1.39\n",
      " 0.64 0.6  0.69 1.38 1.19 0.62 1.17 0.75 0.4  0.71 1.28 1.36 0.73 1.82\n",
      " 1.47 1.63 3.34 1.27 0.3  1.08 1.32 0.45 0.23 0.56 1.46 0.58 0.41 0.77\n",
      " 0.95 0.98 1.04 0.42 0.46 0.44 1.07 0.97 0.39 0.78 0.31 0.99 0.12 0.18\n",
      " 0.34 0.38]\n",
      "Milk(1L)\n",
      "[3.09 1.96 1.6  3.11 1.62 2.24 2.13 1.54 2.29 1.33 1.81 1.06 1.7  1.05\n",
      " 0.91 1.73 2.   1.16 2.21 1.22 1.38 1.79 1.59 1.19 1.36 1.66 1.49 1.87\n",
      " 2.12 1.02 2.85 1.42 1.4  2.49 1.44 1.12 1.32 2.31 0.42 1.14 1.89 1.28\n",
      " 2.54 1.58 1.48 1.51 1.17 1.41 1.34 1.3  1.04 1.75 1.94 1.64 1.9  1.45\n",
      " 1.93 1.46 1.08 1.09 1.13 1.07 0.89 0.87]\n",
      "Eggs(Dozen)\n",
      "[4.71 3.4  2.35 2.22 2.38 2.16 5.68 2.27 4.57 4.17 3.85 2.46 3.41 3.74\n",
      " 3.53 3.32 2.18 2.56 4.02 1.99 4.4  2.77 2.7  2.78 2.5  1.96 3.1  3.21\n",
      " 3.42 4.91 3.   2.57 3.96 3.2  4.54 2.14 6.02 2.31 1.54 3.5  3.57 1.97\n",
      " 2.29 3.14 4.92 1.93 1.98 1.53 1.15 6.83 2.21 2.6  2.68 2.59 4.68 1.59\n",
      " 2.47 3.62 2.01 2.08 3.59 1.4  1.24 1.88 1.68 1.37 1.63]\n",
      "Cooking Oil(1L)\n",
      "[7.14 3.5  4.64 3.92 4.02 3.27 5.47 5.52 1.82 5.35 1.71 4.74 3.12 4.07\n",
      " 3.42 4.76 4.49 2.73 2.89 3.26 2.94 2.7  2.52 2.6  3.58 4.28 3.53 4.6\n",
      " 3.96 2.78 3.67 2.57 3.21 2.16 3.79 1.5  3.91 2.88 3.76 5.06 2.36 3.56\n",
      " 1.88 1.67 6.2  1.91 2.45 2.58 2.53 1.68 3.44 2.24 2.08 2.54 6.45 5.65\n",
      " 3.33 2.68 5.41 3.41 1.55 3.31 1.61 1.39 1.4  1.7  4.53]\n",
      "Chicken(1kg)\n",
      "[ 8.03 11.    4.83  5.03  2.54  4.09 10.93  4.55  4.49  3.32  7.49  3.75\n",
      "  6.54  3.86 11.34  5.35  3.48  6.5   4.71  5.52  8.    4.33  2.58  9.1\n",
      "  3.8   3.34 11.77  5.89  6.31  8.19  3.85  9.4   8.45  4.17  5.41  3.42\n",
      "  7.43  3.6   4.96  4.87  2.98  4.4   3.45  2.99  5.98  7.11  1.75  3.82\n",
      "  4.25  5.82  2.84  3.64  3.25  5.56  4.22  3.08  2.04  2.92  1.82  4.63\n",
      "  3.33  1.91  3.2   2.08  6.72  3.28]\n",
      "Potato(1kg)\n",
      "[3.22 1.65 1.32 2.96 0.81 1.61 1.2  1.17 2.89 1.75 2.03 1.83 0.87 1.38\n",
      " 0.77 3.01 0.94 1.72 1.39 1.9  2.04 1.28 2.51 1.81 1.42 0.85 2.13 2.95\n",
      " 1.21 1.55 1.67 4.55 1.13 2.32 1.12 0.64 0.79 0.38 1.01 1.6  1.29 1.74\n",
      " 1.63 1.27 0.56 2.1  2.14 0.49 1.46 0.97 1.31 1.95 0.84 1.54 0.58 0.91\n",
      " 1.11 1.18 0.54 0.27 0.57 0.65 0.41 1.  ]\n",
      "Onion(1kg)\n",
      "[5.06 1.48 2.   3.51 0.86 2.09 2.13 2.53 2.69 1.38 1.81 0.94 2.62 1.25\n",
      " 1.06 1.01 1.99 1.72 2.56 2.83 1.47 1.28 3.16 3.62 1.3  2.21 1.23 0.85\n",
      " 2.14 1.36 1.66 0.98 2.49 1.17 1.93 1.35 0.8  1.22 1.13 1.73 0.37 1.19\n",
      " 2.36 1.09 1.55 1.07 0.46 0.57 1.77 0.34 1.04 0.69 2.67 2.32 0.78 1.9\n",
      " 0.28 0.82 0.43 0.62 0.81]\n",
      "Banana(1kg)\n",
      "[1.87 1.08 1.85 0.89 0.73 0.78 2.84 1.53 1.28 2.02 2.45 1.37 3.15 1.12\n",
      " 1.02 1.81 2.68 1.62 2.01 1.55 2.15 2.66 1.97 1.46 0.71 0.79 2.13 1.38\n",
      " 2.27 2.57 2.12 2.72 1.54 1.61 0.47 0.67 1.82 1.52 2.31 0.48 1.56 1.91\n",
      " 1.14 1.8  1.59 1.76 2.07 1.68 0.77 4.32 1.63 2.34 1.74 0.88 0.74 1.93\n",
      " 0.65 2.69 0.59 0.36 1.9 ]\n",
      "Tomato(1kg)\n",
      "[3.07 4.37 1.85 2.   0.97 2.53 5.41 1.28 2.09 4.9  3.2  2.24 3.94 2.9\n",
      " 3.63 2.88 2.04 1.06 4.02 3.73 1.71 5.05 1.25 2.34 4.16 2.13 1.76 3.83\n",
      " 5.33 4.27 3.52 5.01 2.56 3.95 0.71 6.82 4.14 4.65 1.31 1.72 1.98 2.14\n",
      " 3.46 3.98 2.89 2.03 0.76 0.69 3.56 1.93 4.35 1.78 1.23 0.89 2.92 3.15\n",
      " 0.74 2.21 0.5  2.27 0.72 0.59 1.82]\n",
      "Orange(1Kg)\n",
      "[3.52 2.76 2.   7.54 0.59 4.27 3.83 2.37 4.68 2.99 2.02 2.62 3.12 2.45\n",
      " 3.89 1.27 2.01 2.84 5.7  2.94 1.99 1.58 1.71 2.3  3.3  3.53 2.13 3.18\n",
      " 2.34 5.85 1.92 1.43 0.89 6.05 1.61 2.22 0.97 2.51 2.68 4.05 3.17 1.96\n",
      " 1.01 1.55 1.06 0.77 3.85 1.38 1.04 1.4  5.87 6.49 3.13 1.59 0.39 1.37\n",
      " 1.79 2.97 1.29 1.13 0.36 1.49 2.2  1.63]\n",
      "Coca-Cola(0.5L)\n",
      "[1.21 0.83 1.   0.63 0.78 0.74 1.63 0.37 1.28 2.25 1.7  1.18 2.12 2.31\n",
      " 2.34 1.24 0.57 0.95 2.44 1.34 0.48 1.74 0.88 0.93 1.47 0.82 0.6  1.27\n",
      " 1.17 0.96 2.41 1.25 1.4  1.44 0.61 1.5  1.12 1.62 1.29 0.19 0.64 0.71\n",
      " 1.48 1.01 1.66 0.98 0.72 0.75 0.59 0.42 1.98 0.58 0.89 0.56 2.19 0.5\n",
      " 1.1  0.4  0.81 0.52 0.99 0.91 0.32 0.51 0.46 1.08]\n",
      "Bottled Water(1.5L)\n",
      "[1.27 1.46 0.33 0.3  0.51 0.76 1.02 0.54 2.12 1.55 0.98 0.77 0.86 1.59\n",
      " 0.67 2.22 0.71 0.78 1.1  0.91 1.24 0.73 0.52 0.89 0.68 0.63 0.85 1.63\n",
      " 0.59 2.37 0.94 0.4  0.49 0.42 1.75 0.62 0.15 0.55 0.93 0.79 0.24 0.65\n",
      " 0.74 0.6  0.38 0.48 1.95 0.84 0.28 0.58 0.46 0.69 0.92 0.36 0.32 0.43]\n"
     ]
    }
   ],
   "source": [
    "for i in df:\n",
    "    print(i)\n",
    "    print(df[i].unique())"
   ]
  },
  {
   "cell_type": "markdown",
   "id": "0724330d",
   "metadata": {},
   "source": [
    "#### Saving the cleaned Dataset for future use"
   ]
  },
  {
   "cell_type": "code",
   "execution_count": 77,
   "id": "56cfb590",
   "metadata": {
    "scrolled": true
   },
   "outputs": [],
   "source": [
    "df.to_excel(\"C:/Users/ksrch/OneDrive/Documents/GlobalGroceryPriceDataset.xlsx\", index=False)"
   ]
  },
  {
   "cell_type": "code",
   "execution_count": 78,
   "id": "83471c16",
   "metadata": {},
   "outputs": [],
   "source": [
    "df1 = df[[\"Country\",\"Continent\",\"Sub Region\",\"GN/GS\",\"Income_Category\",\"GDP Per Capita(PPP)\",\"Nominal GDP(USD million)\",\"Inflation(%)\",\"Food_Basket_Price(in $)\"]]"
   ]
  },
  {
   "cell_type": "code",
   "execution_count": 79,
   "id": "1f9b1827",
   "metadata": {},
   "outputs": [],
   "source": [
    "df1.to_excel(\"C:/Users/ksrch/OneDrive/Documents/GlobalGroceryPriceDataset2.xlsx\", index=False)"
   ]
  },
  {
   "cell_type": "markdown",
   "id": "0442a153",
   "metadata": {},
   "source": [
    "### Overview of the dataset"
   ]
  },
  {
   "cell_type": "markdown",
   "id": "37fe20e6",
   "metadata": {},
   "source": [
    "#### Dataset Overview:\n",
    "* **Columns/Variables:** ***Country,Continent,Sub Region,GN/GS,Income_Category,GDP Per Capita(PPP),Nominal GDP(USD million),Inflation(%)***,      ***(Food_Basket_Price(in $):*** (*Flour(1kg), Rice(1kg),Sugar(1kg),Salt(1kg),Milk(1L),Eggs(Dozen),Cooking Oil(1L),Chicken(1kg), Potato(1kg), Onion(1kg), Banana(1kg), Tomato(1kg), Orange(1Kg), Coca-Cola(0.5L), Bottled Water(1.5L)*)\n",
    "\n",
    "\n",
    "* **Country:** We have the data of 74 Countries in our Dataset  \n",
    "(***United States, Hong Kong, Saudi Arabia, Ghana, Peru, Switzerland, Guatemala, Kuwait, Ireland, Austria, Costa Rica, Portugal, United Kingdom, Colombia, Latvia, Finland, Israel, Philippines, United Arab Emirates, Denmark, Sweden, Lithuania, Spain, Thailand, China, Netherlands, Germany, Slovenia, Dominican Republic, Ecuador, Italy, Slovakia, Singapore, Chile, South Korea, France, Morocco, Croatia, South Africa, Mexico, Vietnam, Czech Republic, Ivory Coast, Brazil, Angola, Canada, Bulgaria, Zambia, New Zealand, Poland, Turkey, Azerbaijan, Indonesia, Jordan, Sri Lanka, Romania, Australia, Malaysia, Greece, Paraguay, Nigeria, Tanzania, Serbia, Egypt, Kenya, Kazakhstan, Pakistan, India, Bangladesh, Russia, Ukraine, Hungary, Argentina, Belgium***)\n",
    "\n",
    "\n",
    "* **Sub Region:** The countries are then categorized based on their respective region  \n",
    "(***'Eastern Asia' 'Northern America' 'Western Asia' 'Latin America' 'Africa'\n",
    " 'Western Europe' 'Eastern Europe' 'Southeastern Asia' 'Central Asia'\n",
    " 'Oceania' 'Southern Asia'***)\n",
    "\n",
    "\n",
    "* **GN/GS:** We futher categorized countries into ***Global North and Global South***\n",
    "\n",
    "\n",
    "* **Income_Category:** Categorizing countries into four income categories (***High-Income, Low-Income, Lower-Mid-Income, Upper-Mid-Income***) using the GDP Per Capita(PPP) of the countries\n",
    "\n",
    "\n",
    "* **GDP Per Capita(PPP):** GDP Per Capita (Purchasing Power Parity) for Countries\n",
    "\n",
    "\n",
    "* **Nominal GDP(USD million):** Nominal GDP of Countries is USD million\n",
    "\n",
    "\n",
    "* **Inflation(%):** Inflation of Countries in %\n",
    "\n",
    "\n",
    "* **Food_Basket_Price(in $):** Total price of all the groceries mentioned below (qty 1 each)   \n",
    " ***Flour(1kg), Rice(1kg),Sugar(1kg),Salt(1kg),Milk(1L),Eggs(Dozen),Cooking Oil(1L),Chicken(1kg), Potato(1kg), Onion(1kg), Banana(1kg), Tomato(1kg), Orange(1Kg), Coca-Cola(0.5L), Bottled Water(1.5L)***"
   ]
  },
  {
   "cell_type": "markdown",
   "id": "6ff4005c",
   "metadata": {},
   "source": [
    "## Income Disparities and Economic Indicators"
   ]
  },
  {
   "cell_type": "markdown",
   "id": "ea96639c",
   "metadata": {},
   "source": [
    "### How does the income category correlate with GDP per capita?"
   ]
  },
  {
   "cell_type": "code",
   "execution_count": 80,
   "id": "11b80b5d",
   "metadata": {},
   "outputs": [
    {
     "data": {
      "text/html": [
       "<div>\n",
       "<style scoped>\n",
       "    .dataframe tbody tr th:only-of-type {\n",
       "        vertical-align: middle;\n",
       "    }\n",
       "\n",
       "    .dataframe tbody tr th {\n",
       "        vertical-align: top;\n",
       "    }\n",
       "\n",
       "    .dataframe thead th {\n",
       "        text-align: right;\n",
       "    }\n",
       "</style>\n",
       "<table border=\"1\" class=\"dataframe\">\n",
       "  <thead>\n",
       "    <tr style=\"text-align: right;\">\n",
       "      <th></th>\n",
       "      <th>Country</th>\n",
       "      <th>Continent</th>\n",
       "      <th>Sub Region</th>\n",
       "      <th>GN/GS</th>\n",
       "      <th>Income_Category</th>\n",
       "      <th>GDP Per Capita(PPP)</th>\n",
       "      <th>Nominal GDP(USD million)</th>\n",
       "      <th>Inflation(%)</th>\n",
       "      <th>Food_Basket_Price(in $)</th>\n",
       "      <th>Flour(1kg)</th>\n",
       "      <th>...</th>\n",
       "      <th>Eggs(Dozen)</th>\n",
       "      <th>Cooking Oil(1L)</th>\n",
       "      <th>Chicken(1kg)</th>\n",
       "      <th>Potato(1kg)</th>\n",
       "      <th>Onion(1kg)</th>\n",
       "      <th>Banana(1kg)</th>\n",
       "      <th>Tomato(1kg)</th>\n",
       "      <th>Orange(1Kg)</th>\n",
       "      <th>Coca-Cola(0.5L)</th>\n",
       "      <th>Bottled Water(1.5L)</th>\n",
       "    </tr>\n",
       "  </thead>\n",
       "  <tbody>\n",
       "    <tr>\n",
       "      <th>25</th>\n",
       "      <td>Ecuador</td>\n",
       "      <td>South America</td>\n",
       "      <td>Latin America</td>\n",
       "      <td>Global South</td>\n",
       "      <td>Lower-Mid-Income</td>\n",
       "      <td>14485.0</td>\n",
       "      <td>121592.0</td>\n",
       "      <td>1.66</td>\n",
       "      <td>24.36</td>\n",
       "      <td>1.6</td>\n",
       "      <td>...</td>\n",
       "      <td>2.5</td>\n",
       "      <td>2.6</td>\n",
       "      <td>3.8</td>\n",
       "      <td>1.42</td>\n",
       "      <td>1.3</td>\n",
       "      <td>0.71</td>\n",
       "      <td>2.13</td>\n",
       "      <td>2.3</td>\n",
       "      <td>0.82</td>\n",
       "      <td>0.89</td>\n",
       "    </tr>\n",
       "  </tbody>\n",
       "</table>\n",
       "<p>1 rows × 24 columns</p>\n",
       "</div>"
      ],
      "text/plain": [
       "    Country      Continent     Sub Region         GN/GS   Income_Category  \\\n",
       "25  Ecuador  South America  Latin America  Global South  Lower-Mid-Income   \n",
       "\n",
       "    GDP Per Capita(PPP)  Nominal GDP(USD million)  Inflation(%)  \\\n",
       "25              14485.0                  121592.0          1.66   \n",
       "\n",
       "    Food_Basket_Price(in $)  Flour(1kg)  ...  Eggs(Dozen)  Cooking Oil(1L)  \\\n",
       "25                    24.36         1.6  ...          2.5              2.6   \n",
       "\n",
       "    Chicken(1kg)  Potato(1kg)  Onion(1kg)  Banana(1kg)  Tomato(1kg)  \\\n",
       "25           3.8         1.42         1.3         0.71         2.13   \n",
       "\n",
       "    Orange(1Kg)  Coca-Cola(0.5L)  Bottled Water(1.5L)  \n",
       "25          2.3             0.82                 0.89  \n",
       "\n",
       "[1 rows x 24 columns]"
      ]
     },
     "execution_count": 80,
     "metadata": {},
     "output_type": "execute_result"
    }
   ],
   "source": [
    "df.sample()"
   ]
  },
  {
   "cell_type": "code",
   "execution_count": 81,
   "id": "0ced6663",
   "metadata": {},
   "outputs": [
    {
     "data": {
      "text/plain": [
       "array(['High-Income', 'Low-Income', 'Lower-Mid-Income',\n",
       "       'Upper-Mid-Income'], dtype=object)"
      ]
     },
     "execution_count": 81,
     "metadata": {},
     "output_type": "execute_result"
    }
   ],
   "source": [
    "df[\"Income_Category\"].unique()"
   ]
  },
  {
   "cell_type": "code",
   "execution_count": 82,
   "id": "6e79e5d5",
   "metadata": {},
   "outputs": [],
   "source": [
    "from scipy.stats import f_oneway"
   ]
  },
  {
   "cell_type": "code",
   "execution_count": 83,
   "id": "459362b1",
   "metadata": {},
   "outputs": [],
   "source": [
    "Lower_Mid_Income = df[df[\"Income_Category\"]==\"Lower-Mid-Income\"][\"GDP Per Capita(PPP)\"]"
   ]
  },
  {
   "cell_type": "code",
   "execution_count": 84,
   "id": "d84051fc",
   "metadata": {},
   "outputs": [],
   "source": [
    "Upper_Mid_Income = df[df[\"Income_Category\"]==\"Upper-Mid-Income\"][\"GDP Per Capita(PPP)\"]"
   ]
  },
  {
   "cell_type": "code",
   "execution_count": 85,
   "id": "158e7eda",
   "metadata": {},
   "outputs": [],
   "source": [
    "High_Income = df[df[\"Income_Category\"]==\"High-Income\"][\"GDP Per Capita(PPP)\"]"
   ]
  },
  {
   "cell_type": "code",
   "execution_count": 86,
   "id": "5af551bf",
   "metadata": {},
   "outputs": [],
   "source": [
    "Low_Income = df[df[\"Income_Category\"]==\"Low-Income\"][\"GDP Per Capita(PPP)\"]"
   ]
  },
  {
   "cell_type": "code",
   "execution_count": 87,
   "id": "3bc03fb6",
   "metadata": {},
   "outputs": [],
   "source": [
    "f_statistic, p_value = f_oneway(Lower_Mid_Income,Upper_Mid_Income,High_Income,Low_Income)"
   ]
  },
  {
   "cell_type": "code",
   "execution_count": 88,
   "id": "0dd1299b",
   "metadata": {},
   "outputs": [
    {
     "data": {
      "text/plain": [
       "108.13829257404635"
      ]
     },
     "execution_count": 88,
     "metadata": {},
     "output_type": "execute_result"
    }
   ],
   "source": [
    "f_statistic"
   ]
  },
  {
   "cell_type": "code",
   "execution_count": 89,
   "id": "027397c4",
   "metadata": {},
   "outputs": [
    {
     "data": {
      "text/plain": [
       "5.051287721067838e-26"
      ]
     },
     "execution_count": 89,
     "metadata": {},
     "output_type": "execute_result"
    }
   ],
   "source": [
    "p_value"
   ]
  },
  {
   "cell_type": "markdown",
   "id": "ee8a14e2",
   "metadata": {},
   "source": [
    "### Is there a significant difference in food basket prices between income categories?"
   ]
  },
  {
   "cell_type": "code",
   "execution_count": 91,
   "id": "9bef4c67",
   "metadata": {
    "scrolled": true
   },
   "outputs": [
    {
     "data": {
      "text/html": [
       "<div>\n",
       "<style scoped>\n",
       "    .dataframe tbody tr th:only-of-type {\n",
       "        vertical-align: middle;\n",
       "    }\n",
       "\n",
       "    .dataframe tbody tr th {\n",
       "        vertical-align: top;\n",
       "    }\n",
       "\n",
       "    .dataframe thead th {\n",
       "        text-align: right;\n",
       "    }\n",
       "</style>\n",
       "<table border=\"1\" class=\"dataframe\">\n",
       "  <thead>\n",
       "    <tr style=\"text-align: right;\">\n",
       "      <th></th>\n",
       "      <th>Food_Basket_Price(in $)</th>\n",
       "    </tr>\n",
       "    <tr>\n",
       "      <th>Income_Category</th>\n",
       "      <th></th>\n",
       "    </tr>\n",
       "  </thead>\n",
       "  <tbody>\n",
       "    <tr>\n",
       "      <th>Low-Income</th>\n",
       "      <td>23.634444</td>\n",
       "    </tr>\n",
       "    <tr>\n",
       "      <th>Lower-Mid-Income</th>\n",
       "      <td>25.515000</td>\n",
       "    </tr>\n",
       "    <tr>\n",
       "      <th>Upper-Mid-Income</th>\n",
       "      <td>30.250833</td>\n",
       "    </tr>\n",
       "    <tr>\n",
       "      <th>High-Income</th>\n",
       "      <td>40.754444</td>\n",
       "    </tr>\n",
       "  </tbody>\n",
       "</table>\n",
       "</div>"
      ],
      "text/plain": [
       "                  Food_Basket_Price(in $)\n",
       "Income_Category                          \n",
       "Low-Income                      23.634444\n",
       "Lower-Mid-Income                25.515000\n",
       "Upper-Mid-Income                30.250833\n",
       "High-Income                     40.754444"
      ]
     },
     "execution_count": 91,
     "metadata": {},
     "output_type": "execute_result"
    }
   ],
   "source": [
    "df.groupby(\"Income_Category\")[\"Food_Basket_Price(in $)\"].mean().to_frame().sort_values(by=\"Food_Basket_Price(in $)\")"
   ]
  },
  {
   "cell_type": "code",
   "execution_count": 92,
   "id": "01ff310d",
   "metadata": {},
   "outputs": [],
   "source": [
    "from statsmodels.stats.multicomp import pairwise_tukeyhsd\n",
    "tukey_result = pairwise_tukeyhsd(df['Food_Basket_Price(in $)'], df['Income_Category'])"
   ]
  },
  {
   "cell_type": "code",
   "execution_count": 93,
   "id": "f10a3f12",
   "metadata": {
    "scrolled": true
   },
   "outputs": [
    {
     "name": "stdout",
     "output_type": "stream",
     "text": [
      "           Multiple Comparison of Means - Tukey HSD, FWER=0.05           \n",
      "=========================================================================\n",
      "     group1           group2      meandiff p-adj   lower    upper  reject\n",
      "-------------------------------------------------------------------------\n",
      "     High-Income       Low-Income   -17.12    0.0 -24.3871 -9.8529   True\n",
      "     High-Income Lower-Mid-Income -15.2394    0.0 -20.8969  -9.582   True\n",
      "     High-Income Upper-Mid-Income -10.5036    0.0 -16.0539 -4.9533   True\n",
      "      Low-Income Lower-Mid-Income   1.8806 0.8956  -5.1629   8.924  False\n",
      "      Low-Income Upper-Mid-Income   6.6164 0.0682  -0.3413 13.5741  False\n",
      "Lower-Mid-Income Upper-Mid-Income   4.7358  0.092  -0.5183  9.9899  False\n",
      "-------------------------------------------------------------------------\n"
     ]
    }
   ],
   "source": [
    "print(tukey_result)"
   ]
  },
  {
   "cell_type": "markdown",
   "id": "fea8c904",
   "metadata": {},
   "source": [
    "**Observation:**\n",
    "* Yes, there is significant difference between food basket prices between income categories.\n",
    "\n",
    "\n",
    "* There is a clear increasing trend in mean food basket prices as we move from Low-Income to High-Income categories, indicating a positive correlation between income level and food affordability.\n",
    "\n",
    "\n",
    "* The Food Basket price in High Income countries is 77% higher than that of Lower income countries\n",
    "\n",
    "\n",
    "* The mean food basket price for High-Income countries is significantly higher compared to all other income categories, suggesting a substantial difference in food affordability between High-Income and other income groups.\n",
    "\n",
    "\n",
    "* There is a relatively small difference in mean food basket prices between Low-Income and Lower-Mid-Income categories, indicating a similarity in food affordability between these two groups."
   ]
  },
  {
   "cell_type": "markdown",
   "id": "008e0828",
   "metadata": {},
   "source": [
    "### How does inflation vary among different income categories?"
   ]
  },
  {
   "cell_type": "code",
   "execution_count": 94,
   "id": "e868a9e2",
   "metadata": {
    "scrolled": true
   },
   "outputs": [
    {
     "data": {
      "text/html": [
       "<div>\n",
       "<style scoped>\n",
       "    .dataframe tbody tr th:only-of-type {\n",
       "        vertical-align: middle;\n",
       "    }\n",
       "\n",
       "    .dataframe tbody tr th {\n",
       "        vertical-align: top;\n",
       "    }\n",
       "\n",
       "    .dataframe thead th {\n",
       "        text-align: right;\n",
       "    }\n",
       "</style>\n",
       "<table border=\"1\" class=\"dataframe\">\n",
       "  <thead>\n",
       "    <tr style=\"text-align: right;\">\n",
       "      <th></th>\n",
       "      <th>Inflation(%)</th>\n",
       "    </tr>\n",
       "    <tr>\n",
       "      <th>Income_Category</th>\n",
       "      <th></th>\n",
       "    </tr>\n",
       "  </thead>\n",
       "  <tbody>\n",
       "    <tr>\n",
       "      <th>High-Income</th>\n",
       "      <td>2.701667</td>\n",
       "    </tr>\n",
       "    <tr>\n",
       "      <th>Upper-Mid-Income</th>\n",
       "      <td>6.046250</td>\n",
       "    </tr>\n",
       "    <tr>\n",
       "      <th>Low-Income</th>\n",
       "      <td>15.688889</td>\n",
       "    </tr>\n",
       "    <tr>\n",
       "      <th>Lower-Mid-Income</th>\n",
       "      <td>15.911818</td>\n",
       "    </tr>\n",
       "  </tbody>\n",
       "</table>\n",
       "</div>"
      ],
      "text/plain": [
       "                  Inflation(%)\n",
       "Income_Category               \n",
       "High-Income           2.701667\n",
       "Upper-Mid-Income      6.046250\n",
       "Low-Income           15.688889\n",
       "Lower-Mid-Income     15.911818"
      ]
     },
     "execution_count": 94,
     "metadata": {},
     "output_type": "execute_result"
    }
   ],
   "source": [
    "df.groupby(\"Income_Category\")[\"Inflation(%)\"].mean().to_frame().sort_values(by=\"Inflation(%)\")"
   ]
  },
  {
   "cell_type": "markdown",
   "id": "487708bb",
   "metadata": {},
   "source": [
    "**Observation:** \n",
    "* There is a noticeable difference in mean inflation rates among different income categories, with Low-Income and Lower-Mid-Income categories experiencing significantly higher inflation compared to Upper-Mid-Income and High-Income categories.\n",
    "\n",
    "\n",
    "* High-Income and Upper-Mid-Income categories have relatively lower mean inflation rates, indicating a more stable economic environment compared to Low-Income and Lower-Mid-Income categories.\n",
    "\n",
    "\n",
    "* The mean inflation rates for Low-Income and Lower-Mid-Income categories are quite similar, suggesting a similar inflationary environment for these income groups.\n",
    "\n",
    "\n",
    "* The difference in mean inflation rates between Upper-Mid-Income and High-Income categories is relatively small, indicating a similar inflationary experience for these higher income groups."
   ]
  },
  {
   "cell_type": "markdown",
   "id": "f3704c00",
   "metadata": {},
   "source": [
    "## Regional Economic Comparisons"
   ]
  },
  {
   "cell_type": "markdown",
   "id": "14e1a037",
   "metadata": {},
   "source": [
    "### How do GDP per capita and nominal GDP vary across different regions?"
   ]
  },
  {
   "cell_type": "code",
   "execution_count": 95,
   "id": "a3c7290e",
   "metadata": {},
   "outputs": [
    {
     "data": {
      "text/html": [
       "<div>\n",
       "<style scoped>\n",
       "    .dataframe tbody tr th:only-of-type {\n",
       "        vertical-align: middle;\n",
       "    }\n",
       "\n",
       "    .dataframe tbody tr th {\n",
       "        vertical-align: top;\n",
       "    }\n",
       "\n",
       "    .dataframe thead th {\n",
       "        text-align: right;\n",
       "    }\n",
       "</style>\n",
       "<table border=\"1\" class=\"dataframe\">\n",
       "  <thead>\n",
       "    <tr style=\"text-align: right;\">\n",
       "      <th></th>\n",
       "      <th>Country</th>\n",
       "      <th>Continent</th>\n",
       "      <th>Sub Region</th>\n",
       "      <th>GN/GS</th>\n",
       "      <th>Income_Category</th>\n",
       "      <th>GDP Per Capita(PPP)</th>\n",
       "      <th>Nominal GDP(USD million)</th>\n",
       "      <th>Inflation(%)</th>\n",
       "      <th>Food_Basket_Price(in $)</th>\n",
       "      <th>Flour(1kg)</th>\n",
       "      <th>...</th>\n",
       "      <th>Eggs(Dozen)</th>\n",
       "      <th>Cooking Oil(1L)</th>\n",
       "      <th>Chicken(1kg)</th>\n",
       "      <th>Potato(1kg)</th>\n",
       "      <th>Onion(1kg)</th>\n",
       "      <th>Banana(1kg)</th>\n",
       "      <th>Tomato(1kg)</th>\n",
       "      <th>Orange(1Kg)</th>\n",
       "      <th>Coca-Cola(0.5L)</th>\n",
       "      <th>Bottled Water(1.5L)</th>\n",
       "    </tr>\n",
       "  </thead>\n",
       "  <tbody>\n",
       "    <tr>\n",
       "      <th>22</th>\n",
       "      <td>Colombia</td>\n",
       "      <td>South America</td>\n",
       "      <td>Latin America</td>\n",
       "      <td>Global South</td>\n",
       "      <td>Lower-Mid-Income</td>\n",
       "      <td>19770.0</td>\n",
       "      <td>386076.0</td>\n",
       "      <td>7.36</td>\n",
       "      <td>25.92</td>\n",
       "      <td>1.64</td>\n",
       "      <td>...</td>\n",
       "      <td>2.77</td>\n",
       "      <td>2.7</td>\n",
       "      <td>4.33</td>\n",
       "      <td>1.28</td>\n",
       "      <td>1.28</td>\n",
       "      <td>1.97</td>\n",
       "      <td>1.25</td>\n",
       "      <td>1.99</td>\n",
       "      <td>0.88</td>\n",
       "      <td>1.24</td>\n",
       "    </tr>\n",
       "  </tbody>\n",
       "</table>\n",
       "<p>1 rows × 24 columns</p>\n",
       "</div>"
      ],
      "text/plain": [
       "     Country      Continent     Sub Region         GN/GS   Income_Category  \\\n",
       "22  Colombia  South America  Latin America  Global South  Lower-Mid-Income   \n",
       "\n",
       "    GDP Per Capita(PPP)  Nominal GDP(USD million)  Inflation(%)  \\\n",
       "22              19770.0                  386076.0          7.36   \n",
       "\n",
       "    Food_Basket_Price(in $)  Flour(1kg)  ...  Eggs(Dozen)  Cooking Oil(1L)  \\\n",
       "22                    25.92        1.64  ...         2.77              2.7   \n",
       "\n",
       "    Chicken(1kg)  Potato(1kg)  Onion(1kg)  Banana(1kg)  Tomato(1kg)  \\\n",
       "22          4.33         1.28        1.28         1.97         1.25   \n",
       "\n",
       "    Orange(1Kg)  Coca-Cola(0.5L)  Bottled Water(1.5L)  \n",
       "22         1.99             0.88                 1.24  \n",
       "\n",
       "[1 rows x 24 columns]"
      ]
     },
     "execution_count": 95,
     "metadata": {},
     "output_type": "execute_result"
    }
   ],
   "source": [
    "df.sample()"
   ]
  },
  {
   "cell_type": "code",
   "execution_count": 96,
   "id": "367c91cf",
   "metadata": {
    "scrolled": false
   },
   "outputs": [
    {
     "data": {
      "text/html": [
       "<div>\n",
       "<style scoped>\n",
       "    .dataframe tbody tr th:only-of-type {\n",
       "        vertical-align: middle;\n",
       "    }\n",
       "\n",
       "    .dataframe tbody tr th {\n",
       "        vertical-align: top;\n",
       "    }\n",
       "\n",
       "    .dataframe thead th {\n",
       "        text-align: right;\n",
       "    }\n",
       "</style>\n",
       "<table border=\"1\" class=\"dataframe\">\n",
       "  <thead>\n",
       "    <tr style=\"text-align: right;\">\n",
       "      <th></th>\n",
       "      <th>GDP Per Capita(PPP)</th>\n",
       "      <th>Nominal GDP(USD million)</th>\n",
       "    </tr>\n",
       "    <tr>\n",
       "      <th>Sub Region</th>\n",
       "      <th></th>\n",
       "      <th></th>\n",
       "    </tr>\n",
       "  </thead>\n",
       "  <tbody>\n",
       "    <tr>\n",
       "      <th>Northern America</th>\n",
       "      <td>72934.000000</td>\n",
       "      <td>1.551163e+07</td>\n",
       "    </tr>\n",
       "    <tr>\n",
       "      <th>Western Europe</th>\n",
       "      <td>71360.200000</td>\n",
       "      <td>1.413305e+06</td>\n",
       "    </tr>\n",
       "    <tr>\n",
       "      <th>Oceania</th>\n",
       "      <td>60212.000000</td>\n",
       "      <td>1.023987e+06</td>\n",
       "    </tr>\n",
       "    <tr>\n",
       "      <th>Western Asia</th>\n",
       "      <td>55218.166667</td>\n",
       "      <td>5.820005e+05</td>\n",
       "    </tr>\n",
       "    <tr>\n",
       "      <th>Eastern Asia</th>\n",
       "      <td>53157.666667</td>\n",
       "      <td>6.900118e+06</td>\n",
       "    </tr>\n",
       "    <tr>\n",
       "      <th>Southeastern Asia</th>\n",
       "      <td>50455.000000</td>\n",
       "      <td>7.294888e+05</td>\n",
       "    </tr>\n",
       "    <tr>\n",
       "      <th>Eastern Europe</th>\n",
       "      <td>41049.076923</td>\n",
       "      <td>3.102118e+05</td>\n",
       "    </tr>\n",
       "    <tr>\n",
       "      <th>Central Asia</th>\n",
       "      <td>26931.000000</td>\n",
       "      <td>1.877445e+05</td>\n",
       "    </tr>\n",
       "    <tr>\n",
       "      <th>Latin America</th>\n",
       "      <td>21453.153846</td>\n",
       "      <td>5.067513e+05</td>\n",
       "    </tr>\n",
       "    <tr>\n",
       "      <th>Southern Asia</th>\n",
       "      <td>10187.250000</td>\n",
       "      <td>1.576803e+06</td>\n",
       "    </tr>\n",
       "    <tr>\n",
       "      <th>Africa</th>\n",
       "      <td>7773.666667</td>\n",
       "      <td>1.052527e+05</td>\n",
       "    </tr>\n",
       "  </tbody>\n",
       "</table>\n",
       "</div>"
      ],
      "text/plain": [
       "                   GDP Per Capita(PPP)  Nominal GDP(USD million)\n",
       "Sub Region                                                      \n",
       "Northern America          72934.000000              1.551163e+07\n",
       "Western Europe            71360.200000              1.413305e+06\n",
       "Oceania                   60212.000000              1.023987e+06\n",
       "Western Asia              55218.166667              5.820005e+05\n",
       "Eastern Asia              53157.666667              6.900118e+06\n",
       "Southeastern Asia         50455.000000              7.294888e+05\n",
       "Eastern Europe            41049.076923              3.102118e+05\n",
       "Central Asia              26931.000000              1.877445e+05\n",
       "Latin America             21453.153846              5.067513e+05\n",
       "Southern Asia             10187.250000              1.576803e+06\n",
       "Africa                     7773.666667              1.052527e+05"
      ]
     },
     "execution_count": 96,
     "metadata": {},
     "output_type": "execute_result"
    }
   ],
   "source": [
    "df.groupby(\"Sub Region\")[[\"GDP Per Capita(PPP)\",\"Nominal GDP(USD million)\"]].mean().sort_values(by=\"GDP Per Capita(PPP)\",ascending=False)"
   ]
  },
  {
   "cell_type": "markdown",
   "id": "ffaff330",
   "metadata": {},
   "source": [
    "**Observation:**\n",
    "* There is a wide variation in GDP per capita across different regions, with North America having the highest mean GDP per capita, followed by Europe and the Middle East, while Africa has the lowest mean GDP per capita.\n",
    "\n",
    "\n",
    "* Nominal GDP also varies significantly among regions, with North America having the highest mean nominal GDP, followed by Asia & Pacific and Europe.\n",
    "\n",
    "\n",
    "* The mean GDP per capita in North America is notably higher compared to other regions, indicating a higher standard of living and economic development in this region.\n",
    "\n",
    "\n",
    "* Africa has the lowest mean GDP per capita and nominal GDP among the regions, indicating lower economic development and prosperity compared to other regions."
   ]
  },
  {
   "cell_type": "markdown",
   "id": "97ff2149",
   "metadata": {},
   "source": [
    "### Is there a relationship between region and income category?"
   ]
  },
  {
   "cell_type": "code",
   "execution_count": 97,
   "id": "f9e58874",
   "metadata": {},
   "outputs": [],
   "source": [
    "import pandas as pd\n",
    "from scipy.stats import chi2_contingency"
   ]
  },
  {
   "cell_type": "code",
   "execution_count": 98,
   "id": "266c8ca2",
   "metadata": {},
   "outputs": [],
   "source": [
    "contingency_table = pd.crosstab(df['Sub Region'], df['Income_Category'])"
   ]
  },
  {
   "cell_type": "code",
   "execution_count": 99,
   "id": "b72ecf33",
   "metadata": {},
   "outputs": [],
   "source": [
    "chi2, p, dof, expected = chi2_contingency(contingency_table)"
   ]
  },
  {
   "cell_type": "code",
   "execution_count": 100,
   "id": "71a53881",
   "metadata": {
    "scrolled": true
   },
   "outputs": [
    {
     "name": "stdout",
     "output_type": "stream",
     "text": [
      "Chi-Square Statistic: 112.39935195976864\n",
      "P-value: 1.8615427697680863e-11\n"
     ]
    }
   ],
   "source": [
    "print(\"Chi-Square Statistic:\", chi2)\n",
    "print(\"P-value:\", p)"
   ]
  },
  {
   "cell_type": "markdown",
   "id": "e4ec89d4",
   "metadata": {},
   "source": [
    "**Observation:**\n",
    "The chi-square test results indicate that there is a significant relationship between region and income category. The low p-value (1.0996623042909239e-10) suggests that the association between these two categorical variables is unlikely to be due to random chance. This finding implies that the region in which a country is located may influence its income category."
   ]
  },
  {
   "cell_type": "markdown",
   "id": "b03054d3",
   "metadata": {},
   "source": [
    "### How does inflation differ among regions?"
   ]
  },
  {
   "cell_type": "code",
   "execution_count": 101,
   "id": "f0e6ad10",
   "metadata": {
    "scrolled": true
   },
   "outputs": [
    {
     "data": {
      "text/html": [
       "<div>\n",
       "<style scoped>\n",
       "    .dataframe tbody tr th:only-of-type {\n",
       "        vertical-align: middle;\n",
       "    }\n",
       "\n",
       "    .dataframe tbody tr th {\n",
       "        vertical-align: top;\n",
       "    }\n",
       "\n",
       "    .dataframe thead th {\n",
       "        text-align: right;\n",
       "    }\n",
       "</style>\n",
       "<table border=\"1\" class=\"dataframe\">\n",
       "  <thead>\n",
       "    <tr style=\"text-align: right;\">\n",
       "      <th></th>\n",
       "      <th>Inflation(%)</th>\n",
       "    </tr>\n",
       "    <tr>\n",
       "      <th>Sub Region</th>\n",
       "      <th></th>\n",
       "    </tr>\n",
       "  </thead>\n",
       "  <tbody>\n",
       "    <tr>\n",
       "      <th>Latin America</th>\n",
       "      <td>25.181538</td>\n",
       "    </tr>\n",
       "    <tr>\n",
       "      <th>Western Asia</th>\n",
       "      <td>13.460000</td>\n",
       "    </tr>\n",
       "    <tr>\n",
       "      <th>Africa</th>\n",
       "      <td>12.987778</td>\n",
       "    </tr>\n",
       "    <tr>\n",
       "      <th>Southern Asia</th>\n",
       "      <td>9.215000</td>\n",
       "    </tr>\n",
       "    <tr>\n",
       "      <th>Central Asia</th>\n",
       "      <td>5.050000</td>\n",
       "    </tr>\n",
       "    <tr>\n",
       "      <th>Oceania</th>\n",
       "      <td>3.800000</td>\n",
       "    </tr>\n",
       "    <tr>\n",
       "      <th>Eastern Europe</th>\n",
       "      <td>3.400769</td>\n",
       "    </tr>\n",
       "    <tr>\n",
       "      <th>Northern America</th>\n",
       "      <td>3.200000</td>\n",
       "    </tr>\n",
       "    <tr>\n",
       "      <th>Southeastern Asia</th>\n",
       "      <td>2.812500</td>\n",
       "    </tr>\n",
       "    <tr>\n",
       "      <th>Western Europe</th>\n",
       "      <td>2.571333</td>\n",
       "    </tr>\n",
       "    <tr>\n",
       "      <th>Eastern Asia</th>\n",
       "      <td>1.666667</td>\n",
       "    </tr>\n",
       "  </tbody>\n",
       "</table>\n",
       "</div>"
      ],
      "text/plain": [
       "                   Inflation(%)\n",
       "Sub Region                     \n",
       "Latin America         25.181538\n",
       "Western Asia          13.460000\n",
       "Africa                12.987778\n",
       "Southern Asia          9.215000\n",
       "Central Asia           5.050000\n",
       "Oceania                3.800000\n",
       "Eastern Europe         3.400769\n",
       "Northern America       3.200000\n",
       "Southeastern Asia      2.812500\n",
       "Western Europe         2.571333\n",
       "Eastern Asia           1.666667"
      ]
     },
     "execution_count": 101,
     "metadata": {},
     "output_type": "execute_result"
    }
   ],
   "source": [
    "df.groupby(\"Sub Region\")[\"Inflation(%)\"].mean().to_frame().sort_values(by=\"Inflation(%)\",ascending=False)"
   ]
  },
  {
   "cell_type": "markdown",
   "id": "405ca8fe",
   "metadata": {},
   "source": [
    "**Observation:**\n",
    "* There is a substantial variation in mean inflation rates among different regions, with South/Latin America experiencing the highest mean inflation rate, followed by Africa and the Middle East.\n",
    "\n",
    "\n",
    "* North America has the lowest mean inflation rate among the regions, indicating a more stable economic environment in terms of price levels.\n",
    "\n",
    "\n",
    "* The mean inflation rates in Europe, Asia & Pacific, and North America are relatively close to each other, suggesting similar inflationary experiences in these regions.\n",
    "\n",
    "\n",
    "* South/Latin America stands out with the highest mean inflation rate, indicating a potentially more volatile economic environment in terms of price levels compared to other regions."
   ]
  },
  {
   "cell_type": "markdown",
   "id": "bfbf9310",
   "metadata": {},
   "source": [
    "## Global South Analysis"
   ]
  },
  {
   "cell_type": "markdown",
   "id": "813458f5",
   "metadata": {},
   "source": [
    "### What percentage of countries in the dataset belong to the Global South?"
   ]
  },
  {
   "cell_type": "code",
   "execution_count": 102,
   "id": "cfbd3fd6",
   "metadata": {
    "scrolled": true
   },
   "outputs": [
    {
     "data": {
      "text/plain": [
       "GN/GS\n",
       "Global North    50.684932\n",
       "Global South    49.315068\n",
       "Name: Country, dtype: float64"
      ]
     },
     "execution_count": 102,
     "metadata": {},
     "output_type": "execute_result"
    }
   ],
   "source": [
    "df.groupby(\"GN/GS\")[\"Country\"].size()*100/df[\"Country\"].count()"
   ]
  },
  {
   "cell_type": "markdown",
   "id": "6a4c86b5",
   "metadata": {},
   "source": [
    "**Observation:** Approximately 48.65% of countries in the dataset belong to the Global South, while 51.35% belong to the Global North."
   ]
  },
  {
   "cell_type": "markdown",
   "id": "4ba49daa",
   "metadata": {},
   "source": [
    "### How do economic indicators (GDP per capita, nominal GDP) compare between Global South and non-Global South countries?"
   ]
  },
  {
   "cell_type": "code",
   "execution_count": 103,
   "id": "1e67e2f1",
   "metadata": {
    "scrolled": true
   },
   "outputs": [
    {
     "data": {
      "text/html": [
       "<div>\n",
       "<style scoped>\n",
       "    .dataframe tbody tr th:only-of-type {\n",
       "        vertical-align: middle;\n",
       "    }\n",
       "\n",
       "    .dataframe tbody tr th {\n",
       "        vertical-align: top;\n",
       "    }\n",
       "\n",
       "    .dataframe thead th {\n",
       "        text-align: right;\n",
       "    }\n",
       "</style>\n",
       "<table border=\"1\" class=\"dataframe\">\n",
       "  <thead>\n",
       "    <tr style=\"text-align: right;\">\n",
       "      <th></th>\n",
       "      <th>GDP Per Capita(PPP)</th>\n",
       "      <th>Nominal GDP(USD million)</th>\n",
       "    </tr>\n",
       "    <tr>\n",
       "      <th>GN/GS</th>\n",
       "      <th></th>\n",
       "      <th></th>\n",
       "    </tr>\n",
       "  </thead>\n",
       "  <tbody>\n",
       "    <tr>\n",
       "      <th>Global North</th>\n",
       "      <td>59628.459459</td>\n",
       "      <td>1.675641e+06</td>\n",
       "    </tr>\n",
       "    <tr>\n",
       "      <th>Global South</th>\n",
       "      <td>22226.305556</td>\n",
       "      <td>1.030175e+06</td>\n",
       "    </tr>\n",
       "  </tbody>\n",
       "</table>\n",
       "</div>"
      ],
      "text/plain": [
       "              GDP Per Capita(PPP)  Nominal GDP(USD million)\n",
       "GN/GS                                                      \n",
       "Global North         59628.459459              1.675641e+06\n",
       "Global South         22226.305556              1.030175e+06"
      ]
     },
     "execution_count": 103,
     "metadata": {},
     "output_type": "execute_result"
    }
   ],
   "source": [
    "df.groupby(\"GN/GS\")[[\"GDP Per Capita(PPP)\",\"Nominal GDP(USD million)\"]].mean()"
   ]
  },
  {
   "cell_type": "markdown",
   "id": "011c0544",
   "metadata": {},
   "source": [
    "**Observation:**\n",
    "The mean GDP per capita and nominal GDP are significantly higher in Global North countries compared to Global South countries.\n",
    "\n",
    "* The GDP per capita in Global North is approximately 160.56% more than in Global South, while the nominal GDP in Global North is approximately 59.48% more than in Global South.\n",
    "\n",
    "\n",
    "* These results suggest that, on average, Global North countries have higher levels of economic prosperity compared to Global South countries, as measured by GDP per capita and nominal GDP."
   ]
  },
  {
   "cell_type": "markdown",
   "id": "1cbbe254",
   "metadata": {},
   "source": [
    "### Is there a correlation between being in the Global South and income category?"
   ]
  },
  {
   "cell_type": "code",
   "execution_count": 104,
   "id": "ab6a0a7b",
   "metadata": {},
   "outputs": [],
   "source": [
    "contingency_table = pd.crosstab(df['GN/GS'], df['Income_Category'])"
   ]
  },
  {
   "cell_type": "code",
   "execution_count": 105,
   "id": "998e8b3b",
   "metadata": {},
   "outputs": [
    {
     "data": {
      "text/html": [
       "<div>\n",
       "<style scoped>\n",
       "    .dataframe tbody tr th:only-of-type {\n",
       "        vertical-align: middle;\n",
       "    }\n",
       "\n",
       "    .dataframe tbody tr th {\n",
       "        vertical-align: top;\n",
       "    }\n",
       "\n",
       "    .dataframe thead th {\n",
       "        text-align: right;\n",
       "    }\n",
       "</style>\n",
       "<table border=\"1\" class=\"dataframe\">\n",
       "  <thead>\n",
       "    <tr style=\"text-align: right;\">\n",
       "      <th>Income_Category</th>\n",
       "      <th>High-Income</th>\n",
       "      <th>Low-Income</th>\n",
       "      <th>Lower-Mid-Income</th>\n",
       "      <th>Upper-Mid-Income</th>\n",
       "    </tr>\n",
       "    <tr>\n",
       "      <th>GN/GS</th>\n",
       "      <th></th>\n",
       "      <th></th>\n",
       "      <th></th>\n",
       "      <th></th>\n",
       "    </tr>\n",
       "  </thead>\n",
       "  <tbody>\n",
       "    <tr>\n",
       "      <th>Global North</th>\n",
       "      <td>16</td>\n",
       "      <td>0</td>\n",
       "      <td>3</td>\n",
       "      <td>18</td>\n",
       "    </tr>\n",
       "    <tr>\n",
       "      <th>Global South</th>\n",
       "      <td>2</td>\n",
       "      <td>9</td>\n",
       "      <td>19</td>\n",
       "      <td>6</td>\n",
       "    </tr>\n",
       "  </tbody>\n",
       "</table>\n",
       "</div>"
      ],
      "text/plain": [
       "Income_Category  High-Income  Low-Income  Lower-Mid-Income  Upper-Mid-Income\n",
       "GN/GS                                                                       \n",
       "Global North              16           0                 3                18\n",
       "Global South               2           9                19                 6"
      ]
     },
     "execution_count": 105,
     "metadata": {},
     "output_type": "execute_result"
    }
   ],
   "source": [
    "contingency_table"
   ]
  },
  {
   "cell_type": "code",
   "execution_count": 106,
   "id": "4f71ec74",
   "metadata": {},
   "outputs": [],
   "source": [
    "chi2, p, dof, expected = chi2_contingency(contingency_table)"
   ]
  },
  {
   "cell_type": "code",
   "execution_count": 107,
   "id": "02097d06",
   "metadata": {
    "scrolled": false
   },
   "outputs": [
    {
     "name": "stdout",
     "output_type": "stream",
     "text": [
      "Chi-Square Statistic: 37.51859435192768\n",
      "P-value: 3.57395163717464e-08\n"
     ]
    }
   ],
   "source": [
    "print(\"Chi-Square Statistic:\", chi2)\n",
    "print(\"P-value:\", p)"
   ]
  },
  {
   "cell_type": "markdown",
   "id": "370ad088",
   "metadata": {},
   "source": [
    "**Observation:**\n",
    "**The chi-square test results indicate that there is a significant relationship between being in the Global South and income category.** The low p-value (3.57395163717464e-08) suggests that the association between these two categorical variables is unlikely to be due to random chance. This finding implies that **the region in which a country is located (Global South or Global North) may influence its income category.**"
   ]
  },
  {
   "cell_type": "markdown",
   "id": "d4cfa3bf",
   "metadata": {},
   "source": [
    "## Income Category Analysis"
   ]
  },
  {
   "cell_type": "markdown",
   "id": "bd7fefdf",
   "metadata": {},
   "source": [
    "### What is the distribution of income categories among countries in the dataset?"
   ]
  },
  {
   "cell_type": "code",
   "execution_count": 108,
   "id": "b000b0e1",
   "metadata": {
    "scrolled": true
   },
   "outputs": [],
   "source": [
    "df_inc_dist = df.groupby(\"Income_Category\")[\"Country\"].count().to_frame()"
   ]
  },
  {
   "cell_type": "code",
   "execution_count": 109,
   "id": "0202c0d8",
   "metadata": {
    "scrolled": true
   },
   "outputs": [],
   "source": [
    "df_inc_dist = df_inc_dist.reset_index()"
   ]
  },
  {
   "cell_type": "code",
   "execution_count": 110,
   "id": "57205b71",
   "metadata": {},
   "outputs": [
    {
     "data": {
      "text/html": [
       "<div>\n",
       "<style scoped>\n",
       "    .dataframe tbody tr th:only-of-type {\n",
       "        vertical-align: middle;\n",
       "    }\n",
       "\n",
       "    .dataframe tbody tr th {\n",
       "        vertical-align: top;\n",
       "    }\n",
       "\n",
       "    .dataframe thead th {\n",
       "        text-align: right;\n",
       "    }\n",
       "</style>\n",
       "<table border=\"1\" class=\"dataframe\">\n",
       "  <thead>\n",
       "    <tr style=\"text-align: right;\">\n",
       "      <th></th>\n",
       "      <th>Income_Category</th>\n",
       "      <th>Country</th>\n",
       "    </tr>\n",
       "  </thead>\n",
       "  <tbody>\n",
       "    <tr>\n",
       "      <th>0</th>\n",
       "      <td>High-Income</td>\n",
       "      <td>18</td>\n",
       "    </tr>\n",
       "    <tr>\n",
       "      <th>1</th>\n",
       "      <td>Low-Income</td>\n",
       "      <td>9</td>\n",
       "    </tr>\n",
       "    <tr>\n",
       "      <th>2</th>\n",
       "      <td>Lower-Mid-Income</td>\n",
       "      <td>22</td>\n",
       "    </tr>\n",
       "    <tr>\n",
       "      <th>3</th>\n",
       "      <td>Upper-Mid-Income</td>\n",
       "      <td>24</td>\n",
       "    </tr>\n",
       "  </tbody>\n",
       "</table>\n",
       "</div>"
      ],
      "text/plain": [
       "    Income_Category  Country\n",
       "0       High-Income       18\n",
       "1        Low-Income        9\n",
       "2  Lower-Mid-Income       22\n",
       "3  Upper-Mid-Income       24"
      ]
     },
     "execution_count": 110,
     "metadata": {},
     "output_type": "execute_result"
    }
   ],
   "source": [
    "df_inc_dist"
   ]
  },
  {
   "cell_type": "code",
   "execution_count": 111,
   "id": "b8f277b4",
   "metadata": {
    "scrolled": false
   },
   "outputs": [
    {
     "data": {
      "image/png": "[encoded data removed]",
      "text/plain": [
       "<Figure size 640x480 with 1 Axes>"
      ]
     },
     "metadata": {},
     "output_type": "display_data"
    }
   ],
   "source": [
    "sns.barplot(x=df_inc_dist[\"Income_Category\"],y=df_inc_dist[\"Country\"],data=df_inc_dist,order=[\"Upper-Mid-Income\",\"Lower-Mid-Income\",\"High-Income\",\"Low-Income\"],palette='viridis')\n",
    "plt.title('Distribution of Income Categories Among Countries')\n",
    "plt.xlabel('Income Category')\n",
    "plt.ylabel('Number of Countries')\n",
    "plt.tight_layout()\n",
    "plt.show()"
   ]
  },
  {
   "cell_type": "markdown",
   "id": "48d44a5c",
   "metadata": {},
   "source": [
    "**Summary of the distribution:**  \n",
    "* High-Income: 18 countries  \n",
    "* Low-Income: 9 countries  \n",
    "* Lower-Mid-Income: 22 countries  \n",
    "* Upper-Mid-Income: 24 countries  "
   ]
  },
  {
   "cell_type": "markdown",
   "id": "4f43cdb7",
   "metadata": {},
   "source": [
    "### How does income category relate to GDP per capita and nominal GDP?"
   ]
  },
  {
   "cell_type": "code",
   "execution_count": 112,
   "id": "810bb329",
   "metadata": {
    "scrolled": true
   },
   "outputs": [],
   "source": [
    "df_inc_gdp=df.groupby(\"Income_Category\")[[\"GDP Per Capita(PPP)\",\"Nominal GDP(USD million)\"]].mean().sort_values(by=\"GDP Per Capita(PPP)\",ascending=False)"
   ]
  },
  {
   "cell_type": "code",
   "execution_count": 113,
   "id": "5937b236",
   "metadata": {},
   "outputs": [],
   "source": [
    "df_inc_gdp = df_inc_gdp.reset_index()"
   ]
  },
  {
   "cell_type": "code",
   "execution_count": 114,
   "id": "39b5e8ac",
   "metadata": {},
   "outputs": [
    {
     "data": {
      "text/html": [
       "<div>\n",
       "<style scoped>\n",
       "    .dataframe tbody tr th:only-of-type {\n",
       "        vertical-align: middle;\n",
       "    }\n",
       "\n",
       "    .dataframe tbody tr th {\n",
       "        vertical-align: top;\n",
       "    }\n",
       "\n",
       "    .dataframe thead th {\n",
       "        text-align: right;\n",
       "    }\n",
       "</style>\n",
       "<table border=\"1\" class=\"dataframe\">\n",
       "  <thead>\n",
       "    <tr style=\"text-align: right;\">\n",
       "      <th></th>\n",
       "      <th>Income_Category</th>\n",
       "      <th>GDP Per Capita(PPP)</th>\n",
       "      <th>Nominal GDP(USD million)</th>\n",
       "    </tr>\n",
       "  </thead>\n",
       "  <tbody>\n",
       "    <tr>\n",
       "      <th>0</th>\n",
       "      <td>High-Income</td>\n",
       "      <td>80226.388889</td>\n",
       "      <td>2.711648e+06</td>\n",
       "    </tr>\n",
       "    <tr>\n",
       "      <th>1</th>\n",
       "      <td>Upper-Mid-Income</td>\n",
       "      <td>46027.083333</td>\n",
       "      <td>6.880462e+05</td>\n",
       "    </tr>\n",
       "    <tr>\n",
       "      <th>2</th>\n",
       "      <td>Lower-Mid-Income</td>\n",
       "      <td>18123.272727</td>\n",
       "      <td>1.486579e+06</td>\n",
       "    </tr>\n",
       "    <tr>\n",
       "      <th>3</th>\n",
       "      <td>Low-Income</td>\n",
       "      <td>6551.444444</td>\n",
       "      <td>1.682103e+05</td>\n",
       "    </tr>\n",
       "  </tbody>\n",
       "</table>\n",
       "</div>"
      ],
      "text/plain": [
       "    Income_Category  GDP Per Capita(PPP)  Nominal GDP(USD million)\n",
       "0       High-Income         80226.388889              2.711648e+06\n",
       "1  Upper-Mid-Income         46027.083333              6.880462e+05\n",
       "2  Lower-Mid-Income         18123.272727              1.486579e+06\n",
       "3        Low-Income          6551.444444              1.682103e+05"
      ]
     },
     "execution_count": 114,
     "metadata": {},
     "output_type": "execute_result"
    }
   ],
   "source": [
    "df_inc_gdp"
   ]
  },
  {
   "cell_type": "code",
   "execution_count": 115,
   "id": "b1970119",
   "metadata": {
    "scrolled": false
   },
   "outputs": [
    {
     "data": {
      "image/png": "[encoded data removed]",
      "text/plain": [
       "<Figure size 640x480 with 1 Axes>"
      ]
     },
     "metadata": {},
     "output_type": "display_data"
    }
   ],
   "source": [
    "sns.barplot(x=df_inc_gdp[\"Income_Category\"],y=df_inc_gdp[\"GDP Per Capita(PPP)\"],palette='viridis')\n",
    "plt.tight_layout()\n",
    "plt.title('Mean GDP Per Capita by Income Category')\n",
    "plt.show()"
   ]
  },
  {
   "cell_type": "code",
   "execution_count": 116,
   "id": "7bb86c72",
   "metadata": {},
   "outputs": [
    {
     "data": {
      "image/png": "[encoded data removed]",
      "text/plain": [
       "<Figure size 640x480 with 1 Axes>"
      ]
     },
     "metadata": {},
     "output_type": "display_data"
    }
   ],
   "source": [
    "sns.barplot(x=df_inc_gdp[\"Income_Category\"],y=df_inc_gdp[\"Nominal GDP(USD million)\"],palette='viridis')\n",
    "plt.tight_layout()\n",
    "plt.title('Mean Nominal GDP by Income Category')\n",
    "plt.show()"
   ]
  },
  {
   "cell_type": "code",
   "execution_count": 117,
   "id": "dc43d00a",
   "metadata": {},
   "outputs": [],
   "source": [
    "#df_melted = df_inc_gdp.melt(id_vars='Income_Category', var_name='GDP Type', value_name='Value')\n",
    "#sns.barplot(x='Income_Category', y='Value', hue='GDP Type', data=df_melted, palette='viridis')"
   ]
  },
  {
   "cell_type": "markdown",
   "id": "602348c7",
   "metadata": {},
   "source": [
    "## GDP per Capita Analysis"
   ]
  },
  {
   "cell_type": "markdown",
   "id": "1c87284b",
   "metadata": {},
   "source": [
    "### How does GDP per capita vary among different regions?"
   ]
  },
  {
   "cell_type": "code",
   "execution_count": 118,
   "id": "597eac56",
   "metadata": {
    "scrolled": true
   },
   "outputs": [
    {
     "data": {
      "text/html": [
       "<div>\n",
       "<style scoped>\n",
       "    .dataframe tbody tr th:only-of-type {\n",
       "        vertical-align: middle;\n",
       "    }\n",
       "\n",
       "    .dataframe tbody tr th {\n",
       "        vertical-align: top;\n",
       "    }\n",
       "\n",
       "    .dataframe thead th {\n",
       "        text-align: right;\n",
       "    }\n",
       "</style>\n",
       "<table border=\"1\" class=\"dataframe\">\n",
       "  <thead>\n",
       "    <tr style=\"text-align: right;\">\n",
       "      <th></th>\n",
       "      <th>AVG GDP Per Capita(PPP)</th>\n",
       "    </tr>\n",
       "    <tr>\n",
       "      <th>Sub Region</th>\n",
       "      <th></th>\n",
       "    </tr>\n",
       "  </thead>\n",
       "  <tbody>\n",
       "    <tr>\n",
       "      <th>Northern America</th>\n",
       "      <td>72934.000000</td>\n",
       "    </tr>\n",
       "    <tr>\n",
       "      <th>Western Europe</th>\n",
       "      <td>71360.200000</td>\n",
       "    </tr>\n",
       "    <tr>\n",
       "      <th>Oceania</th>\n",
       "      <td>60212.000000</td>\n",
       "    </tr>\n",
       "    <tr>\n",
       "      <th>Western Asia</th>\n",
       "      <td>55218.166667</td>\n",
       "    </tr>\n",
       "    <tr>\n",
       "      <th>Eastern Asia</th>\n",
       "      <td>53157.666667</td>\n",
       "    </tr>\n",
       "    <tr>\n",
       "      <th>Southeastern Asia</th>\n",
       "      <td>50455.000000</td>\n",
       "    </tr>\n",
       "    <tr>\n",
       "      <th>Eastern Europe</th>\n",
       "      <td>41049.076923</td>\n",
       "    </tr>\n",
       "    <tr>\n",
       "      <th>Central Asia</th>\n",
       "      <td>26931.000000</td>\n",
       "    </tr>\n",
       "    <tr>\n",
       "      <th>Latin America</th>\n",
       "      <td>21453.153846</td>\n",
       "    </tr>\n",
       "    <tr>\n",
       "      <th>Southern Asia</th>\n",
       "      <td>10187.250000</td>\n",
       "    </tr>\n",
       "    <tr>\n",
       "      <th>Africa</th>\n",
       "      <td>7773.666667</td>\n",
       "    </tr>\n",
       "  </tbody>\n",
       "</table>\n",
       "</div>"
      ],
      "text/plain": [
       "                   AVG GDP Per Capita(PPP)\n",
       "Sub Region                                \n",
       "Northern America              72934.000000\n",
       "Western Europe                71360.200000\n",
       "Oceania                       60212.000000\n",
       "Western Asia                  55218.166667\n",
       "Eastern Asia                  53157.666667\n",
       "Southeastern Asia             50455.000000\n",
       "Eastern Europe                41049.076923\n",
       "Central Asia                  26931.000000\n",
       "Latin America                 21453.153846\n",
       "Southern Asia                 10187.250000\n",
       "Africa                         7773.666667"
      ]
     },
     "execution_count": 118,
     "metadata": {},
     "output_type": "execute_result"
    }
   ],
   "source": [
    "df.groupby(\"Sub Region\")[\"GDP Per Capita(PPP)\"].mean().to_frame().sort_values(by=\"GDP Per Capita(PPP)\",ascending=False).rename(columns={\"GDP Per Capita(PPP)\":\"AVG GDP Per Capita(PPP)\"})"
   ]
  },
  {
   "cell_type": "markdown",
   "id": "b390454e",
   "metadata": {},
   "source": [
    "**Observation:**\n",
    "* North America has the highest average GDP per capita among the regions, indicating a relatively high standard of living and economic development in this region.\n",
    "\n",
    "\n",
    "* Europe and the Middle East also have relatively high average GDP per capita, suggesting significant economic prosperity in these regions.\n",
    "\n",
    "\n",
    "* South/Latin America and Africa have lower average GDP per capita compared to other regions, indicating lower levels of economic development and potentially greater economic challenges.\n",
    "\n",
    "\n",
    "* The Asia & Pacific region falls in the middle range for average GDP per capita, indicating moderate economic development compared to other regions."
   ]
  },
  {
   "cell_type": "markdown",
   "id": "fd5299ff",
   "metadata": {},
   "source": [
    "## Income Category and Food Prices"
   ]
  },
  {
   "cell_type": "markdown",
   "id": "36ef54e7",
   "metadata": {},
   "source": [
    "### How do food basket prices vary across different income categories?"
   ]
  },
  {
   "cell_type": "code",
   "execution_count": 119,
   "id": "0fb8dcab",
   "metadata": {
    "scrolled": true
   },
   "outputs": [
    {
     "data": {
      "text/html": [
       "<div>\n",
       "<style scoped>\n",
       "    .dataframe tbody tr th:only-of-type {\n",
       "        vertical-align: middle;\n",
       "    }\n",
       "\n",
       "    .dataframe tbody tr th {\n",
       "        vertical-align: top;\n",
       "    }\n",
       "\n",
       "    .dataframe thead th {\n",
       "        text-align: right;\n",
       "    }\n",
       "</style>\n",
       "<table border=\"1\" class=\"dataframe\">\n",
       "  <thead>\n",
       "    <tr style=\"text-align: right;\">\n",
       "      <th></th>\n",
       "      <th>Food_Basket_Price(in $)</th>\n",
       "    </tr>\n",
       "    <tr>\n",
       "      <th>Income_Category</th>\n",
       "      <th></th>\n",
       "    </tr>\n",
       "  </thead>\n",
       "  <tbody>\n",
       "    <tr>\n",
       "      <th>Low-Income</th>\n",
       "      <td>23.634444</td>\n",
       "    </tr>\n",
       "    <tr>\n",
       "      <th>Lower-Mid-Income</th>\n",
       "      <td>25.515000</td>\n",
       "    </tr>\n",
       "    <tr>\n",
       "      <th>Upper-Mid-Income</th>\n",
       "      <td>30.250833</td>\n",
       "    </tr>\n",
       "    <tr>\n",
       "      <th>High-Income</th>\n",
       "      <td>40.754444</td>\n",
       "    </tr>\n",
       "  </tbody>\n",
       "</table>\n",
       "</div>"
      ],
      "text/plain": [
       "                  Food_Basket_Price(in $)\n",
       "Income_Category                          \n",
       "Low-Income                      23.634444\n",
       "Lower-Mid-Income                25.515000\n",
       "Upper-Mid-Income                30.250833\n",
       "High-Income                     40.754444"
      ]
     },
     "execution_count": 119,
     "metadata": {},
     "output_type": "execute_result"
    }
   ],
   "source": [
    "df.groupby(\"Income_Category\")[\"Food_Basket_Price(in $)\"].mean().to_frame().sort_values(by=\"Food_Basket_Price(in $)\")"
   ]
  },
  {
   "cell_type": "markdown",
   "id": "ad12b26f",
   "metadata": {},
   "source": [
    "### Are there any regional differences in food prices among income categories?\n"
   ]
  },
  {
   "cell_type": "code",
   "execution_count": 120,
   "id": "316c97c4",
   "metadata": {
    "scrolled": false
   },
   "outputs": [
    {
     "data": {
      "text/html": [
       "<div>\n",
       "<style scoped>\n",
       "    .dataframe tbody tr th:only-of-type {\n",
       "        vertical-align: middle;\n",
       "    }\n",
       "\n",
       "    .dataframe tbody tr th {\n",
       "        vertical-align: top;\n",
       "    }\n",
       "\n",
       "    .dataframe thead th {\n",
       "        text-align: right;\n",
       "    }\n",
       "</style>\n",
       "<table border=\"1\" class=\"dataframe\">\n",
       "  <thead>\n",
       "    <tr style=\"text-align: right;\">\n",
       "      <th></th>\n",
       "      <th></th>\n",
       "      <th>Food_Basket_Price(in $)</th>\n",
       "    </tr>\n",
       "    <tr>\n",
       "      <th>Sub Region</th>\n",
       "      <th>Income_Category</th>\n",
       "      <th></th>\n",
       "    </tr>\n",
       "  </thead>\n",
       "  <tbody>\n",
       "    <tr>\n",
       "      <th rowspan=\"2\" valign=\"top\">Africa</th>\n",
       "      <th>Low-Income</th>\n",
       "      <td>25.737143</td>\n",
       "    </tr>\n",
       "    <tr>\n",
       "      <th>Lower-Mid-Income</th>\n",
       "      <td>23.170000</td>\n",
       "    </tr>\n",
       "    <tr>\n",
       "      <th rowspan=\"2\" valign=\"top\">Central Asia</th>\n",
       "      <th>Lower-Mid-Income</th>\n",
       "      <td>20.150000</td>\n",
       "    </tr>\n",
       "    <tr>\n",
       "      <th>Upper-Mid-Income</th>\n",
       "      <td>23.730000</td>\n",
       "    </tr>\n",
       "    <tr>\n",
       "      <th rowspan=\"3\" valign=\"top\">Eastern Asia</th>\n",
       "      <th>High-Income</th>\n",
       "      <td>52.970000</td>\n",
       "    </tr>\n",
       "    <tr>\n",
       "      <th>Lower-Mid-Income</th>\n",
       "      <td>35.470000</td>\n",
       "    </tr>\n",
       "    <tr>\n",
       "      <th>Upper-Mid-Income</th>\n",
       "      <td>48.490000</td>\n",
       "    </tr>\n",
       "    <tr>\n",
       "      <th rowspan=\"2\" valign=\"top\">Eastern Europe</th>\n",
       "      <th>Lower-Mid-Income</th>\n",
       "      <td>22.160000</td>\n",
       "    </tr>\n",
       "    <tr>\n",
       "      <th>Upper-Mid-Income</th>\n",
       "      <td>27.070000</td>\n",
       "    </tr>\n",
       "    <tr>\n",
       "      <th rowspan=\"2\" valign=\"top\">Latin America</th>\n",
       "      <th>Lower-Mid-Income</th>\n",
       "      <td>25.796364</td>\n",
       "    </tr>\n",
       "    <tr>\n",
       "      <th>Upper-Mid-Income</th>\n",
       "      <td>37.590000</td>\n",
       "    </tr>\n",
       "    <tr>\n",
       "      <th>Northern America</th>\n",
       "      <th>High-Income</th>\n",
       "      <td>42.915000</td>\n",
       "    </tr>\n",
       "    <tr>\n",
       "      <th rowspan=\"2\" valign=\"top\">Oceania</th>\n",
       "      <th>High-Income</th>\n",
       "      <td>44.620000</td>\n",
       "    </tr>\n",
       "    <tr>\n",
       "      <th>Upper-Mid-Income</th>\n",
       "      <td>40.170000</td>\n",
       "    </tr>\n",
       "    <tr>\n",
       "      <th rowspan=\"3\" valign=\"top\">Southeastern Asia</th>\n",
       "      <th>High-Income</th>\n",
       "      <td>43.230000</td>\n",
       "    </tr>\n",
       "    <tr>\n",
       "      <th>Lower-Mid-Income</th>\n",
       "      <td>29.385000</td>\n",
       "    </tr>\n",
       "    <tr>\n",
       "      <th>Upper-Mid-Income</th>\n",
       "      <td>25.100000</td>\n",
       "    </tr>\n",
       "    <tr>\n",
       "      <th rowspan=\"2\" valign=\"top\">Southern Asia</th>\n",
       "      <th>Low-Income</th>\n",
       "      <td>16.275000</td>\n",
       "    </tr>\n",
       "    <tr>\n",
       "      <th>Lower-Mid-Income</th>\n",
       "      <td>25.975000</td>\n",
       "    </tr>\n",
       "    <tr>\n",
       "      <th rowspan=\"3\" valign=\"top\">Western Asia</th>\n",
       "      <th>High-Income</th>\n",
       "      <td>31.415000</td>\n",
       "    </tr>\n",
       "    <tr>\n",
       "      <th>Lower-Mid-Income</th>\n",
       "      <td>20.570000</td>\n",
       "    </tr>\n",
       "    <tr>\n",
       "      <th>Upper-Mid-Income</th>\n",
       "      <td>30.196667</td>\n",
       "    </tr>\n",
       "    <tr>\n",
       "      <th rowspan=\"2\" valign=\"top\">Western Europe</th>\n",
       "      <th>High-Income</th>\n",
       "      <td>40.372727</td>\n",
       "    </tr>\n",
       "    <tr>\n",
       "      <th>Upper-Mid-Income</th>\n",
       "      <td>31.247500</td>\n",
       "    </tr>\n",
       "  </tbody>\n",
       "</table>\n",
       "</div>"
      ],
      "text/plain": [
       "                                    Food_Basket_Price(in $)\n",
       "Sub Region        Income_Category                          \n",
       "Africa            Low-Income                      25.737143\n",
       "                  Lower-Mid-Income                23.170000\n",
       "Central Asia      Lower-Mid-Income                20.150000\n",
       "                  Upper-Mid-Income                23.730000\n",
       "Eastern Asia      High-Income                     52.970000\n",
       "                  Lower-Mid-Income                35.470000\n",
       "                  Upper-Mid-Income                48.490000\n",
       "Eastern Europe    Lower-Mid-Income                22.160000\n",
       "                  Upper-Mid-Income                27.070000\n",
       "Latin America     Lower-Mid-Income                25.796364\n",
       "                  Upper-Mid-Income                37.590000\n",
       "Northern America  High-Income                     42.915000\n",
       "Oceania           High-Income                     44.620000\n",
       "                  Upper-Mid-Income                40.170000\n",
       "Southeastern Asia High-Income                     43.230000\n",
       "                  Lower-Mid-Income                29.385000\n",
       "                  Upper-Mid-Income                25.100000\n",
       "Southern Asia     Low-Income                      16.275000\n",
       "                  Lower-Mid-Income                25.975000\n",
       "Western Asia      High-Income                     31.415000\n",
       "                  Lower-Mid-Income                20.570000\n",
       "                  Upper-Mid-Income                30.196667\n",
       "Western Europe    High-Income                     40.372727\n",
       "                  Upper-Mid-Income                31.247500"
      ]
     },
     "execution_count": 120,
     "metadata": {},
     "output_type": "execute_result"
    }
   ],
   "source": [
    "df.groupby([\"Sub Region\",\"Income_Category\"])[\"Food_Basket_Price(in $)\"].mean().to_frame()"
   ]
  },
  {
   "cell_type": "markdown",
   "id": "b92127e9",
   "metadata": {},
   "source": [
    "**Observation:**\n",
    "* Food basket prices vary among income categories within each region, with some regions showing higher prices for higher-income categories (e.g., Asia & Pacific, Europe, Middle East, North America), while others do not follow a clear pattern (e.g., Africa, South/Latin America).\n",
    "\n",
    "\n",
    "* In Africa and South/Latin America, lower-middle-income categories have similar or slightly higher food basket prices compared to low-income categories, indicating a different pricing trend compared to other regions.\n",
    "\n",
    "\n",
    "* North America has the highest food basket prices for high-income categories among all regions, suggesting potentially higher living costs or different consumption patterns.\n",
    "\n",
    "\n",
    "* Europe and Asia & Pacific show relatively consistent trends, with higher-income categories generally having higher food basket prices, indicating a potential correlation between income levels and food prices in these regions."
   ]
  },
  {
   "cell_type": "markdown",
   "id": "be7a7c16",
   "metadata": {},
   "source": [
    "## How do food basket prices vary across different regions and income categories?"
   ]
  },
  {
   "cell_type": "markdown",
   "id": "ebd78816",
   "metadata": {},
   "source": [
    "### What is the average food basket price in each region?"
   ]
  },
  {
   "cell_type": "code",
   "execution_count": 121,
   "id": "51fbbece",
   "metadata": {
    "scrolled": true
   },
   "outputs": [
    {
     "data": {
      "text/html": [
       "<div>\n",
       "<style scoped>\n",
       "    .dataframe tbody tr th:only-of-type {\n",
       "        vertical-align: middle;\n",
       "    }\n",
       "\n",
       "    .dataframe tbody tr th {\n",
       "        vertical-align: top;\n",
       "    }\n",
       "\n",
       "    .dataframe thead th {\n",
       "        text-align: right;\n",
       "    }\n",
       "</style>\n",
       "<table border=\"1\" class=\"dataframe\">\n",
       "  <thead>\n",
       "    <tr style=\"text-align: right;\">\n",
       "      <th></th>\n",
       "      <th>Food_Basket_Price(in $)</th>\n",
       "    </tr>\n",
       "    <tr>\n",
       "      <th>Sub Region</th>\n",
       "      <th></th>\n",
       "    </tr>\n",
       "  </thead>\n",
       "  <tbody>\n",
       "    <tr>\n",
       "      <th>Eastern Asia</th>\n",
       "      <td>45.643333</td>\n",
       "    </tr>\n",
       "    <tr>\n",
       "      <th>Northern America</th>\n",
       "      <td>42.915000</td>\n",
       "    </tr>\n",
       "    <tr>\n",
       "      <th>Oceania</th>\n",
       "      <td>42.395000</td>\n",
       "    </tr>\n",
       "    <tr>\n",
       "      <th>Western Europe</th>\n",
       "      <td>37.939333</td>\n",
       "    </tr>\n",
       "    <tr>\n",
       "      <th>Southeastern Asia</th>\n",
       "      <td>31.775000</td>\n",
       "    </tr>\n",
       "    <tr>\n",
       "      <th>Western Asia</th>\n",
       "      <td>28.998333</td>\n",
       "    </tr>\n",
       "    <tr>\n",
       "      <th>Latin America</th>\n",
       "      <td>27.610769</td>\n",
       "    </tr>\n",
       "    <tr>\n",
       "      <th>Eastern Europe</th>\n",
       "      <td>26.314615</td>\n",
       "    </tr>\n",
       "    <tr>\n",
       "      <th>Africa</th>\n",
       "      <td>25.166667</td>\n",
       "    </tr>\n",
       "    <tr>\n",
       "      <th>Central Asia</th>\n",
       "      <td>21.940000</td>\n",
       "    </tr>\n",
       "    <tr>\n",
       "      <th>Southern Asia</th>\n",
       "      <td>21.125000</td>\n",
       "    </tr>\n",
       "  </tbody>\n",
       "</table>\n",
       "</div>"
      ],
      "text/plain": [
       "                   Food_Basket_Price(in $)\n",
       "Sub Region                                \n",
       "Eastern Asia                     45.643333\n",
       "Northern America                 42.915000\n",
       "Oceania                          42.395000\n",
       "Western Europe                   37.939333\n",
       "Southeastern Asia                31.775000\n",
       "Western Asia                     28.998333\n",
       "Latin America                    27.610769\n",
       "Eastern Europe                   26.314615\n",
       "Africa                           25.166667\n",
       "Central Asia                     21.940000\n",
       "Southern Asia                    21.125000"
      ]
     },
     "execution_count": 121,
     "metadata": {},
     "output_type": "execute_result"
    }
   ],
   "source": [
    "df.groupby(\"Sub Region\")[\"Food_Basket_Price(in $)\"].mean().to_frame().sort_values(by=\"Food_Basket_Price(in $)\",ascending=False)"
   ]
  },
  {
   "cell_type": "markdown",
   "id": "70497772",
   "metadata": {},
   "source": [
    "### What is the average food basket price for each income category?"
   ]
  },
  {
   "cell_type": "code",
   "execution_count": 122,
   "id": "6d0a261a",
   "metadata": {
    "scrolled": false
   },
   "outputs": [
    {
     "data": {
      "text/html": [
       "<div>\n",
       "<style scoped>\n",
       "    .dataframe tbody tr th:only-of-type {\n",
       "        vertical-align: middle;\n",
       "    }\n",
       "\n",
       "    .dataframe tbody tr th {\n",
       "        vertical-align: top;\n",
       "    }\n",
       "\n",
       "    .dataframe thead th {\n",
       "        text-align: right;\n",
       "    }\n",
       "</style>\n",
       "<table border=\"1\" class=\"dataframe\">\n",
       "  <thead>\n",
       "    <tr style=\"text-align: right;\">\n",
       "      <th></th>\n",
       "      <th>Food_Basket_Price(in $)</th>\n",
       "    </tr>\n",
       "    <tr>\n",
       "      <th>Income_Category</th>\n",
       "      <th></th>\n",
       "    </tr>\n",
       "  </thead>\n",
       "  <tbody>\n",
       "    <tr>\n",
       "      <th>High-Income</th>\n",
       "      <td>40.754444</td>\n",
       "    </tr>\n",
       "    <tr>\n",
       "      <th>Upper-Mid-Income</th>\n",
       "      <td>30.250833</td>\n",
       "    </tr>\n",
       "    <tr>\n",
       "      <th>Lower-Mid-Income</th>\n",
       "      <td>25.515000</td>\n",
       "    </tr>\n",
       "    <tr>\n",
       "      <th>Low-Income</th>\n",
       "      <td>23.634444</td>\n",
       "    </tr>\n",
       "  </tbody>\n",
       "</table>\n",
       "</div>"
      ],
      "text/plain": [
       "                  Food_Basket_Price(in $)\n",
       "Income_Category                          \n",
       "High-Income                     40.754444\n",
       "Upper-Mid-Income                30.250833\n",
       "Lower-Mid-Income                25.515000\n",
       "Low-Income                      23.634444"
      ]
     },
     "execution_count": 122,
     "metadata": {},
     "output_type": "execute_result"
    }
   ],
   "source": [
    "df.groupby(\"Income_Category\")[\"Food_Basket_Price(in $)\"].mean().to_frame().sort_values(by=\"Food_Basket_Price(in $)\",ascending=False)"
   ]
  },
  {
   "cell_type": "markdown",
   "id": "7099f999",
   "metadata": {},
   "source": [
    "## What is the relationship between food basket prices and GDP per capita?"
   ]
  },
  {
   "cell_type": "markdown",
   "id": "f0cd4aaa",
   "metadata": {},
   "source": [
    "### Is there a correlation between GDP per capita and food basket prices?"
   ]
  },
  {
   "cell_type": "code",
   "execution_count": 123,
   "id": "b4879f30",
   "metadata": {},
   "outputs": [
    {
     "data": {
      "text/html": [
       "<div>\n",
       "<style scoped>\n",
       "    .dataframe tbody tr th:only-of-type {\n",
       "        vertical-align: middle;\n",
       "    }\n",
       "\n",
       "    .dataframe tbody tr th {\n",
       "        vertical-align: top;\n",
       "    }\n",
       "\n",
       "    .dataframe thead th {\n",
       "        text-align: right;\n",
       "    }\n",
       "</style>\n",
       "<table border=\"1\" class=\"dataframe\">\n",
       "  <thead>\n",
       "    <tr style=\"text-align: right;\">\n",
       "      <th></th>\n",
       "      <th>Country</th>\n",
       "      <th>Continent</th>\n",
       "      <th>Sub Region</th>\n",
       "      <th>GN/GS</th>\n",
       "      <th>Income_Category</th>\n",
       "      <th>GDP Per Capita(PPP)</th>\n",
       "      <th>Nominal GDP(USD million)</th>\n",
       "      <th>Inflation(%)</th>\n",
       "      <th>Food_Basket_Price(in $)</th>\n",
       "      <th>Flour(1kg)</th>\n",
       "      <th>...</th>\n",
       "      <th>Eggs(Dozen)</th>\n",
       "      <th>Cooking Oil(1L)</th>\n",
       "      <th>Chicken(1kg)</th>\n",
       "      <th>Potato(1kg)</th>\n",
       "      <th>Onion(1kg)</th>\n",
       "      <th>Banana(1kg)</th>\n",
       "      <th>Tomato(1kg)</th>\n",
       "      <th>Orange(1Kg)</th>\n",
       "      <th>Coca-Cola(0.5L)</th>\n",
       "      <th>Bottled Water(1.5L)</th>\n",
       "    </tr>\n",
       "  </thead>\n",
       "  <tbody>\n",
       "    <tr>\n",
       "      <th>46</th>\n",
       "      <td>Canada</td>\n",
       "      <td>North America</td>\n",
       "      <td>Northern America</td>\n",
       "      <td>Global North</td>\n",
       "      <td>High-Income</td>\n",
       "      <td>60495.0</td>\n",
       "      <td>2242182.0</td>\n",
       "      <td>2.9</td>\n",
       "      <td>39.92</td>\n",
       "      <td>1.1</td>\n",
       "      <td>...</td>\n",
       "      <td>3.14</td>\n",
       "      <td>6.2</td>\n",
       "      <td>5.98</td>\n",
       "      <td>1.6</td>\n",
       "      <td>2.36</td>\n",
       "      <td>1.56</td>\n",
       "      <td>3.98</td>\n",
       "      <td>3.17</td>\n",
       "      <td>1.66</td>\n",
       "      <td>0.93</td>\n",
       "    </tr>\n",
       "  </tbody>\n",
       "</table>\n",
       "<p>1 rows × 24 columns</p>\n",
       "</div>"
      ],
      "text/plain": [
       "   Country      Continent        Sub Region         GN/GS Income_Category  \\\n",
       "46  Canada  North America  Northern America  Global North     High-Income   \n",
       "\n",
       "    GDP Per Capita(PPP)  Nominal GDP(USD million)  Inflation(%)  \\\n",
       "46              60495.0                 2242182.0           2.9   \n",
       "\n",
       "    Food_Basket_Price(in $)  Flour(1kg)  ...  Eggs(Dozen)  Cooking Oil(1L)  \\\n",
       "46                    39.92         1.1  ...         3.14              6.2   \n",
       "\n",
       "    Chicken(1kg)  Potato(1kg)  Onion(1kg)  Banana(1kg)  Tomato(1kg)  \\\n",
       "46          5.98          1.6        2.36         1.56         3.98   \n",
       "\n",
       "    Orange(1Kg)  Coca-Cola(0.5L)  Bottled Water(1.5L)  \n",
       "46         3.17             1.66                 0.93  \n",
       "\n",
       "[1 rows x 24 columns]"
      ]
     },
     "execution_count": 123,
     "metadata": {},
     "output_type": "execute_result"
    }
   ],
   "source": [
    "df.sample()"
   ]
  },
  {
   "cell_type": "code",
   "execution_count": 124,
   "id": "b9266349",
   "metadata": {
    "scrolled": true
   },
   "outputs": [
    {
     "data": {
      "text/plain": [
       "0.6556990261835779"
      ]
     },
     "execution_count": 124,
     "metadata": {},
     "output_type": "execute_result"
    }
   ],
   "source": [
    "df[\"GDP Per Capita(PPP)\"].corr(df[\"Food_Basket_Price(in $)\"])"
   ]
  },
  {
   "cell_type": "markdown",
   "id": "91c59c2d",
   "metadata": {},
   "source": [
    "### How do food basket prices change as GDP per capita increases or decreases?"
   ]
  },
  {
   "cell_type": "markdown",
   "id": "df6260ea",
   "metadata": {},
   "source": [
    "We can see from the graph below that usually as GDP per Capita increases the Food Basket Price increases as well"
   ]
  },
  {
   "cell_type": "code",
   "execution_count": 125,
   "id": "3c854c63",
   "metadata": {
    "scrolled": false
   },
   "outputs": [
    {
     "data": {
      "image/png": "[encoded data removed]",
      "text/plain": [
       "<Figure size 640x480 with 1 Axes>"
      ]
     },
     "metadata": {},
     "output_type": "display_data"
    }
   ],
   "source": [
    "sns.scatterplot(x=\"GDP Per Capita(PPP)\",y=\"Food_Basket_Price(in $)\",data=df)\n",
    "plt.title(\"Scatter plot between GDP Per Capita(PPP) and Food_Basket_Price(in $)\")\n",
    "plt.show()"
   ]
  },
  {
   "cell_type": "markdown",
   "id": "78d0acd5",
   "metadata": {},
   "source": [
    "**Observation:** We got a value of 0.64,so there seems to be a moderate positive correlation between GDP per capita and food basket prices. A correlation of 0.6478 suggests that as GDP per capita increases, food basket prices tend to increase as well, but the relationship is not perfect and there could be other factors at play."
   ]
  },
  {
   "cell_type": "markdown",
   "id": "32e98224",
   "metadata": {},
   "source": [
    "## Which countries have the most expensive and least expensive food baskets?"
   ]
  },
  {
   "cell_type": "markdown",
   "id": "059fec08",
   "metadata": {},
   "source": [
    "### Country with the most expensive food basket"
   ]
  },
  {
   "cell_type": "code",
   "execution_count": 126,
   "id": "20a25379",
   "metadata": {
    "scrolled": true
   },
   "outputs": [
    {
     "data": {
      "text/html": [
       "<div>\n",
       "<style scoped>\n",
       "    .dataframe tbody tr th:only-of-type {\n",
       "        vertical-align: middle;\n",
       "    }\n",
       "\n",
       "    .dataframe tbody tr th {\n",
       "        vertical-align: top;\n",
       "    }\n",
       "\n",
       "    .dataframe thead th {\n",
       "        text-align: right;\n",
       "    }\n",
       "</style>\n",
       "<table border=\"1\" class=\"dataframe\">\n",
       "  <thead>\n",
       "    <tr style=\"text-align: right;\">\n",
       "      <th></th>\n",
       "      <th>Food_Basket_Price(in $)</th>\n",
       "    </tr>\n",
       "    <tr>\n",
       "      <th>Country</th>\n",
       "      <th></th>\n",
       "    </tr>\n",
       "  </thead>\n",
       "  <tbody>\n",
       "    <tr>\n",
       "      <th>Hong Kong</th>\n",
       "      <td>52.97</td>\n",
       "    </tr>\n",
       "  </tbody>\n",
       "</table>\n",
       "</div>"
      ],
      "text/plain": [
       "           Food_Basket_Price(in $)\n",
       "Country                           \n",
       "Hong Kong                    52.97"
      ]
     },
     "execution_count": 126,
     "metadata": {},
     "output_type": "execute_result"
    }
   ],
   "source": [
    "df.groupby(\"Country\")[\"Food_Basket_Price(in $)\"].sum().to_frame().sort_values(by=\"Food_Basket_Price(in $)\",ascending=False).head(1)"
   ]
  },
  {
   "cell_type": "markdown",
   "id": "9245bb4a",
   "metadata": {},
   "source": [
    "So the Country with the most expensive Food Basket in our dataset is **Hong Kong**"
   ]
  },
  {
   "cell_type": "markdown",
   "id": "c61c5dab",
   "metadata": {},
   "source": [
    "### Country with the cheapest food basket"
   ]
  },
  {
   "cell_type": "code",
   "execution_count": 127,
   "id": "3bd64649",
   "metadata": {
    "scrolled": true
   },
   "outputs": [
    {
     "data": {
      "text/html": [
       "<div>\n",
       "<style scoped>\n",
       "    .dataframe tbody tr th:only-of-type {\n",
       "        vertical-align: middle;\n",
       "    }\n",
       "\n",
       "    .dataframe tbody tr th {\n",
       "        vertical-align: top;\n",
       "    }\n",
       "\n",
       "    .dataframe thead th {\n",
       "        text-align: right;\n",
       "    }\n",
       "</style>\n",
       "<table border=\"1\" class=\"dataframe\">\n",
       "  <thead>\n",
       "    <tr style=\"text-align: right;\">\n",
       "      <th></th>\n",
       "      <th>Food_Basket_Price(in $)</th>\n",
       "    </tr>\n",
       "    <tr>\n",
       "      <th>Country</th>\n",
       "      <th></th>\n",
       "    </tr>\n",
       "  </thead>\n",
       "  <tbody>\n",
       "    <tr>\n",
       "      <th>Pakistan</th>\n",
       "      <td>13.55</td>\n",
       "    </tr>\n",
       "  </tbody>\n",
       "</table>\n",
       "</div>"
      ],
      "text/plain": [
       "          Food_Basket_Price(in $)\n",
       "Country                          \n",
       "Pakistan                    13.55"
      ]
     },
     "execution_count": 127,
     "metadata": {},
     "output_type": "execute_result"
    }
   ],
   "source": [
    "df.groupby(\"Country\")[\"Food_Basket_Price(in $)\"].sum().to_frame().sort_values(by=\"Food_Basket_Price(in $)\",ascending=True).head(1)"
   ]
  },
  {
   "cell_type": "markdown",
   "id": "91395863",
   "metadata": {},
   "source": [
    "The country with the least expensive Food Basket in our dataset is **Pakistan**"
   ]
  },
  {
   "cell_type": "markdown",
   "id": "c17e1cf7",
   "metadata": {},
   "source": [
    "### What are the top 5 countries with the highest  food basket prices?"
   ]
  },
  {
   "cell_type": "code",
   "execution_count": 128,
   "id": "d4d93b89",
   "metadata": {
    "scrolled": true
   },
   "outputs": [
    {
     "data": {
      "text/html": [
       "<div>\n",
       "<style scoped>\n",
       "    .dataframe tbody tr th:only-of-type {\n",
       "        vertical-align: middle;\n",
       "    }\n",
       "\n",
       "    .dataframe tbody tr th {\n",
       "        vertical-align: top;\n",
       "    }\n",
       "\n",
       "    .dataframe thead th {\n",
       "        text-align: right;\n",
       "    }\n",
       "</style>\n",
       "<table border=\"1\" class=\"dataframe\">\n",
       "  <thead>\n",
       "    <tr style=\"text-align: right;\">\n",
       "      <th></th>\n",
       "      <th>Food_Basket_Price(in $)</th>\n",
       "    </tr>\n",
       "    <tr>\n",
       "      <th>Country</th>\n",
       "      <th></th>\n",
       "    </tr>\n",
       "  </thead>\n",
       "  <tbody>\n",
       "    <tr>\n",
       "      <th>Hong Kong</th>\n",
       "      <td>52.97</td>\n",
       "    </tr>\n",
       "    <tr>\n",
       "      <th>Switzerland</th>\n",
       "      <td>51.46</td>\n",
       "    </tr>\n",
       "    <tr>\n",
       "      <th>South Korea</th>\n",
       "      <td>48.49</td>\n",
       "    </tr>\n",
       "    <tr>\n",
       "      <th>United States</th>\n",
       "      <td>45.91</td>\n",
       "    </tr>\n",
       "    <tr>\n",
       "      <th>Uruguay</th>\n",
       "      <td>45.75</td>\n",
       "    </tr>\n",
       "  </tbody>\n",
       "</table>\n",
       "</div>"
      ],
      "text/plain": [
       "               Food_Basket_Price(in $)\n",
       "Country                               \n",
       "Hong Kong                        52.97\n",
       "Switzerland                      51.46\n",
       "South Korea                      48.49\n",
       "United States                    45.91\n",
       "Uruguay                          45.75"
      ]
     },
     "execution_count": 128,
     "metadata": {},
     "output_type": "execute_result"
    }
   ],
   "source": [
    "df.groupby(\"Country\")[\"Food_Basket_Price(in $)\"].sum().to_frame().sort_values(by=\"Food_Basket_Price(in $)\",ascending=False).head(5)"
   ]
  },
  {
   "cell_type": "markdown",
   "id": "75244e31",
   "metadata": {},
   "source": [
    "Top 5 countries with the highest food basket prices in our dataset are **Hong Kong, Switzerland, South Korea, United States, Uruguay** respectively"
   ]
  },
  {
   "cell_type": "markdown",
   "id": "65d486a6",
   "metadata": {},
   "source": [
    "### What are the top 5 countries with the lowest  food basket prices?"
   ]
  },
  {
   "cell_type": "code",
   "execution_count": 129,
   "id": "9fbb1d51",
   "metadata": {
    "scrolled": false
   },
   "outputs": [
    {
     "data": {
      "text/html": [
       "<div>\n",
       "<style scoped>\n",
       "    .dataframe tbody tr th:only-of-type {\n",
       "        vertical-align: middle;\n",
       "    }\n",
       "\n",
       "    .dataframe tbody tr th {\n",
       "        vertical-align: top;\n",
       "    }\n",
       "\n",
       "    .dataframe thead th {\n",
       "        text-align: right;\n",
       "    }\n",
       "</style>\n",
       "<table border=\"1\" class=\"dataframe\">\n",
       "  <thead>\n",
       "    <tr style=\"text-align: right;\">\n",
       "      <th></th>\n",
       "      <th>Food_Basket_Price(in $)</th>\n",
       "    </tr>\n",
       "    <tr>\n",
       "      <th>Country</th>\n",
       "      <th></th>\n",
       "    </tr>\n",
       "  </thead>\n",
       "  <tbody>\n",
       "    <tr>\n",
       "      <th>Pakistan</th>\n",
       "      <td>13.55</td>\n",
       "    </tr>\n",
       "    <tr>\n",
       "      <th>Russia</th>\n",
       "      <td>17.11</td>\n",
       "    </tr>\n",
       "    <tr>\n",
       "      <th>Ukraine</th>\n",
       "      <td>18.82</td>\n",
       "    </tr>\n",
       "    <tr>\n",
       "      <th>Zambia</th>\n",
       "      <td>18.86</td>\n",
       "    </tr>\n",
       "    <tr>\n",
       "      <th>India</th>\n",
       "      <td>18.91</td>\n",
       "    </tr>\n",
       "  </tbody>\n",
       "</table>\n",
       "</div>"
      ],
      "text/plain": [
       "          Food_Basket_Price(in $)\n",
       "Country                          \n",
       "Pakistan                    13.55\n",
       "Russia                      17.11\n",
       "Ukraine                     18.82\n",
       "Zambia                      18.86\n",
       "India                       18.91"
      ]
     },
     "execution_count": 129,
     "metadata": {},
     "output_type": "execute_result"
    }
   ],
   "source": [
    "df.groupby(\"Country\")[\"Food_Basket_Price(in $)\"].sum().to_frame().sort_values(by=\"Food_Basket_Price(in $)\",ascending=True).head(5)"
   ]
  },
  {
   "cell_type": "markdown",
   "id": "ee6ce1d5",
   "metadata": {},
   "source": [
    "Top 5 countries with the lowest food basket price are **Pakistan, Russia, Ukraine, Zambia and India**\trespectively"
   ]
  },
  {
   "cell_type": "code",
   "execution_count": 130,
   "id": "c303880c",
   "metadata": {
    "scrolled": false
   },
   "outputs": [
    {
     "data": {
      "text/html": [
       "<div>\n",
       "<style scoped>\n",
       "    .dataframe tbody tr th:only-of-type {\n",
       "        vertical-align: middle;\n",
       "    }\n",
       "\n",
       "    .dataframe tbody tr th {\n",
       "        vertical-align: top;\n",
       "    }\n",
       "\n",
       "    .dataframe thead th {\n",
       "        text-align: right;\n",
       "    }\n",
       "</style>\n",
       "<table border=\"1\" class=\"dataframe\">\n",
       "  <thead>\n",
       "    <tr style=\"text-align: right;\">\n",
       "      <th></th>\n",
       "      <th>Country</th>\n",
       "      <th>Continent</th>\n",
       "      <th>Sub Region</th>\n",
       "      <th>GN/GS</th>\n",
       "      <th>Income_Category</th>\n",
       "      <th>GDP Per Capita(PPP)</th>\n",
       "      <th>Nominal GDP(USD million)</th>\n",
       "      <th>Inflation(%)</th>\n",
       "      <th>Food_Basket_Price(in $)</th>\n",
       "      <th>Flour(1kg)</th>\n",
       "      <th>...</th>\n",
       "      <th>Eggs(Dozen)</th>\n",
       "      <th>Cooking Oil(1L)</th>\n",
       "      <th>Chicken(1kg)</th>\n",
       "      <th>Potato(1kg)</th>\n",
       "      <th>Onion(1kg)</th>\n",
       "      <th>Banana(1kg)</th>\n",
       "      <th>Tomato(1kg)</th>\n",
       "      <th>Orange(1Kg)</th>\n",
       "      <th>Coca-Cola(0.5L)</th>\n",
       "      <th>Bottled Water(1.5L)</th>\n",
       "    </tr>\n",
       "  </thead>\n",
       "  <tbody>\n",
       "    <tr>\n",
       "      <th>0</th>\n",
       "      <td>Hong Kong</td>\n",
       "      <td>Asia</td>\n",
       "      <td>Eastern Asia</td>\n",
       "      <td>Global North</td>\n",
       "      <td>High-Income</td>\n",
       "      <td>75128.0</td>\n",
       "      <td>406775.0</td>\n",
       "      <td>2.00</td>\n",
       "      <td>52.97</td>\n",
       "      <td>4.02</td>\n",
       "      <td>...</td>\n",
       "      <td>4.71</td>\n",
       "      <td>7.14</td>\n",
       "      <td>8.03</td>\n",
       "      <td>3.22</td>\n",
       "      <td>5.06</td>\n",
       "      <td>1.87</td>\n",
       "      <td>3.07</td>\n",
       "      <td>3.52</td>\n",
       "      <td>1.21</td>\n",
       "      <td>1.27</td>\n",
       "    </tr>\n",
       "    <tr>\n",
       "      <th>1</th>\n",
       "      <td>United States</td>\n",
       "      <td>North America</td>\n",
       "      <td>Northern America</td>\n",
       "      <td>Global North</td>\n",
       "      <td>High-Income</td>\n",
       "      <td>85373.0</td>\n",
       "      <td>28781083.0</td>\n",
       "      <td>3.50</td>\n",
       "      <td>45.91</td>\n",
       "      <td>3.62</td>\n",
       "      <td>...</td>\n",
       "      <td>3.40</td>\n",
       "      <td>3.50</td>\n",
       "      <td>11.00</td>\n",
       "      <td>1.65</td>\n",
       "      <td>1.48</td>\n",
       "      <td>1.08</td>\n",
       "      <td>4.37</td>\n",
       "      <td>2.76</td>\n",
       "      <td>0.83</td>\n",
       "      <td>1.46</td>\n",
       "    </tr>\n",
       "    <tr>\n",
       "      <th>2</th>\n",
       "      <td>Saudi Arabia</td>\n",
       "      <td>Asia</td>\n",
       "      <td>Western Asia</td>\n",
       "      <td>Global South</td>\n",
       "      <td>High-Income</td>\n",
       "      <td>70333.0</td>\n",
       "      <td>1106015.0</td>\n",
       "      <td>1.60</td>\n",
       "      <td>31.88</td>\n",
       "      <td>2.92</td>\n",
       "      <td>...</td>\n",
       "      <td>2.35</td>\n",
       "      <td>4.64</td>\n",
       "      <td>4.83</td>\n",
       "      <td>1.32</td>\n",
       "      <td>2.00</td>\n",
       "      <td>1.85</td>\n",
       "      <td>1.85</td>\n",
       "      <td>2.00</td>\n",
       "      <td>1.00</td>\n",
       "      <td>0.33</td>\n",
       "    </tr>\n",
       "    <tr>\n",
       "      <th>3</th>\n",
       "      <td>Ghana</td>\n",
       "      <td>Africa</td>\n",
       "      <td>Africa</td>\n",
       "      <td>Global South</td>\n",
       "      <td>Low-Income</td>\n",
       "      <td>7156.0</td>\n",
       "      <td>75244.0</td>\n",
       "      <td>25.80</td>\n",
       "      <td>41.53</td>\n",
       "      <td>2.66</td>\n",
       "      <td>...</td>\n",
       "      <td>2.22</td>\n",
       "      <td>3.92</td>\n",
       "      <td>5.03</td>\n",
       "      <td>2.96</td>\n",
       "      <td>3.51</td>\n",
       "      <td>0.89</td>\n",
       "      <td>2.00</td>\n",
       "      <td>7.54</td>\n",
       "      <td>0.63</td>\n",
       "      <td>0.30</td>\n",
       "    </tr>\n",
       "    <tr>\n",
       "      <th>4</th>\n",
       "      <td>Peru</td>\n",
       "      <td>South America</td>\n",
       "      <td>Latin America</td>\n",
       "      <td>Global South</td>\n",
       "      <td>Lower-Mid-Income</td>\n",
       "      <td>16631.0</td>\n",
       "      <td>282458.0</td>\n",
       "      <td>2.41</td>\n",
       "      <td>21.78</td>\n",
       "      <td>2.46</td>\n",
       "      <td>...</td>\n",
       "      <td>2.38</td>\n",
       "      <td>4.02</td>\n",
       "      <td>2.54</td>\n",
       "      <td>0.81</td>\n",
       "      <td>0.86</td>\n",
       "      <td>0.73</td>\n",
       "      <td>0.97</td>\n",
       "      <td>0.59</td>\n",
       "      <td>0.78</td>\n",
       "      <td>0.51</td>\n",
       "    </tr>\n",
       "  </tbody>\n",
       "</table>\n",
       "<p>5 rows × 24 columns</p>\n",
       "</div>"
      ],
      "text/plain": [
       "         Country      Continent        Sub Region         GN/GS  \\\n",
       "0      Hong Kong           Asia      Eastern Asia  Global North   \n",
       "1  United States  North America  Northern America  Global North   \n",
       "2   Saudi Arabia           Asia      Western Asia  Global South   \n",
       "3          Ghana         Africa            Africa  Global South   \n",
       "4           Peru  South America     Latin America  Global South   \n",
       "\n",
       "    Income_Category  GDP Per Capita(PPP)  Nominal GDP(USD million)  \\\n",
       "0       High-Income              75128.0                  406775.0   \n",
       "1       High-Income              85373.0                28781083.0   \n",
       "2       High-Income              70333.0                 1106015.0   \n",
       "3        Low-Income               7156.0                   75244.0   \n",
       "4  Lower-Mid-Income              16631.0                  282458.0   \n",
       "\n",
       "   Inflation(%)  Food_Basket_Price(in $)  Flour(1kg)  ...  Eggs(Dozen)  \\\n",
       "0          2.00                    52.97        4.02  ...         4.71   \n",
       "1          3.50                    45.91        3.62  ...         3.40   \n",
       "2          1.60                    31.88        2.92  ...         2.35   \n",
       "3         25.80                    41.53        2.66  ...         2.22   \n",
       "4          2.41                    21.78        2.46  ...         2.38   \n",
       "\n",
       "   Cooking Oil(1L)  Chicken(1kg)  Potato(1kg)  Onion(1kg)  Banana(1kg)  \\\n",
       "0             7.14          8.03         3.22        5.06         1.87   \n",
       "1             3.50         11.00         1.65        1.48         1.08   \n",
       "2             4.64          4.83         1.32        2.00         1.85   \n",
       "3             3.92          5.03         2.96        3.51         0.89   \n",
       "4             4.02          2.54         0.81        0.86         0.73   \n",
       "\n",
       "   Tomato(1kg)  Orange(1Kg)  Coca-Cola(0.5L)  Bottled Water(1.5L)  \n",
       "0         3.07         3.52             1.21                 1.27  \n",
       "1         4.37         2.76             0.83                 1.46  \n",
       "2         1.85         2.00             1.00                 0.33  \n",
       "3         2.00         7.54             0.63                 0.30  \n",
       "4         0.97         0.59             0.78                 0.51  \n",
       "\n",
       "[5 rows x 24 columns]"
      ]
     },
     "execution_count": 130,
     "metadata": {},
     "output_type": "execute_result"
    }
   ],
   "source": [
    "df.head()"
   ]
  }
 ],
 "metadata": {
  "kernelspec": {
   "display_name": "Python 3 (ipykernel)",
   "language": "python",
   "name": "python3"
  },
  "language_info": {
   "codemirror_mode": {
    "name": "ipython",
    "version": 3
   },
   "file_extension": ".py",
   "mimetype": "text/x-python",
   "name": "python",
   "nbconvert_exporter": "python",
   "pygments_lexer": "ipython3",
   "version": "3.9.13"
  }
 },
 "nbformat": 4,
 "nbformat_minor": 5
}
